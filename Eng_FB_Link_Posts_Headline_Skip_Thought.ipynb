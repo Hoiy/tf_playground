{
 "cells": [
  {
   "cell_type": "code",
   "execution_count": null,
   "metadata": {
    "collapsed": false,
    "deletable": true,
    "editable": true
   },
   "outputs": [],
   "source": [
    "import Utils.FS.file as file\n",
    "import TextPreprocess.cleaner as cleaner\n",
    "from sklearn.feature_extraction.text import CountVectorizer\n",
    "import Utils.misc as helper\n",
    "import Utils.pandas_helper as ph\n",
    "import pandas as pd\n",
    "import TextEmbedding.skipthoughts as skipthoughts"
   ]
  },
  {
   "cell_type": "code",
   "execution_count": null,
   "metadata": {
    "collapsed": false
   },
   "outputs": [],
   "source": [
    "model = skipthoughts.load_model()\n",
    "encoder = skipthoughts.Encoder(model)"
   ]
  },
  {
   "cell_type": "code",
   "execution_count": 3,
   "metadata": {
    "collapsed": true,
    "deletable": true,
    "editable": true
   },
   "outputs": [],
   "source": [
    "eng_link_posts = file.read('eng_link_posts_2.pkl')\n",
    "eng_link_posts['name'] = eng_link_posts['name'].astype(str)"
   ]
  },
  {
   "cell_type": "code",
   "execution_count": 4,
   "metadata": {
    "collapsed": false,
    "deletable": true,
    "editable": true
   },
   "outputs": [
    {
     "name": "stdout",
     "output_type": "stream",
     "text": [
      "(7695711, 23)\n"
     ]
    },
    {
     "data": {
      "text/html": [
       "<div>\n",
       "<table border=\"1\" class=\"dataframe\">\n",
       "  <thead>\n",
       "    <tr style=\"text-align: right;\">\n",
       "      <th></th>\n",
       "      <th>id</th>\n",
       "      <th>name</th>\n",
       "      <th>message</th>\n",
       "      <th>description</th>\n",
       "    </tr>\n",
       "  </thead>\n",
       "  <tbody>\n",
       "    <tr>\n",
       "      <th>2138384</th>\n",
       "      <td>103257857195_10153875495992196</td>\n",
       "      <td>Instagram photo by Jeremy Gilley • Sep 13, 201...</td>\n",
       "      <td>Richard Reed with passionate young people in t...</td>\n",
       "      <td>See this Instagram photo by @jeremygilleypod</td>\n",
       "    </tr>\n",
       "    <tr>\n",
       "      <th>3660571</th>\n",
       "      <td>451151401602780_1397024190348825</td>\n",
       "      <td>What They Tell You: Trump Is Restarting The Pi...</td>\n",
       "      <td>What They Tell You: Trump Is Restarting The Pi...</td>\n",
       "      <td>Ken Silverstein | Forbes --  If the United Sta...</td>\n",
       "    </tr>\n",
       "    <tr>\n",
       "      <th>5678835</th>\n",
       "      <td>51371492319_10153974708992320</td>\n",
       "      <td>'the end of the line', Trolley Graveyard | Aba...</td>\n",
       "      <td>Remember how I was doing that \"Top Ten Most Po...</td>\n",
       "      <td>The dilapidated street car shuddered on the tr...</td>\n",
       "    </tr>\n",
       "    <tr>\n",
       "      <th>992477</th>\n",
       "      <td>27223368885_10154885453443886</td>\n",
       "      <td>MSC Confirms Acquisition of Hanjin's Stake in ...</td>\n",
       "      <td>Done deal.</td>\n",
       "      <td>LONDON, Feb 1 (Reuters) – A unit of Swiss ship...</td>\n",
       "    </tr>\n",
       "    <tr>\n",
       "      <th>7212265</th>\n",
       "      <td>35974999393_10154980088884394</td>\n",
       "      <td>5 reasons to be hopeful for performing animals...</td>\n",
       "      <td>There’s a new status quo shifting into the for...</td>\n",
       "      <td></td>\n",
       "    </tr>\n",
       "  </tbody>\n",
       "</table>\n",
       "</div>"
      ],
      "text/plain": [
       "                                       id  \\\n",
       "2138384    103257857195_10153875495992196   \n",
       "3660571  451151401602780_1397024190348825   \n",
       "5678835     51371492319_10153974708992320   \n",
       "992477      27223368885_10154885453443886   \n",
       "7212265     35974999393_10154980088884394   \n",
       "\n",
       "                                                      name  \\\n",
       "2138384  Instagram photo by Jeremy Gilley • Sep 13, 201...   \n",
       "3660571  What They Tell You: Trump Is Restarting The Pi...   \n",
       "5678835  'the end of the line', Trolley Graveyard | Aba...   \n",
       "992477   MSC Confirms Acquisition of Hanjin's Stake in ...   \n",
       "7212265  5 reasons to be hopeful for performing animals...   \n",
       "\n",
       "                                                   message  \\\n",
       "2138384  Richard Reed with passionate young people in t...   \n",
       "3660571  What They Tell You: Trump Is Restarting The Pi...   \n",
       "5678835  Remember how I was doing that \"Top Ten Most Po...   \n",
       "992477                                          Done deal.   \n",
       "7212265  There’s a new status quo shifting into the for...   \n",
       "\n",
       "                                               description  \n",
       "2138384       See this Instagram photo by @jeremygilleypod  \n",
       "3660571  Ken Silverstein | Forbes --  If the United Sta...  \n",
       "5678835  The dilapidated street car shuddered on the tr...  \n",
       "992477   LONDON, Feb 1 (Reuters) – A unit of Swiss ship...  \n",
       "7212265                                                     "
      ]
     },
     "execution_count": 4,
     "metadata": {},
     "output_type": "execute_result"
    }
   ],
   "source": [
    "print(eng_link_posts.shape)\n",
    "eng_link_posts[['id', 'name', 'message', 'description']].sample(5)"
   ]
  },
  {
   "cell_type": "code",
   "execution_count": 5,
   "metadata": {
    "collapsed": false
   },
   "outputs": [
    {
     "name": "stdout",
     "output_type": "stream",
     "text": [
      "processing up to 10000 headlines\n",
      "processing up to 20000 headlines\n",
      "processing up to 30000 headlines\n",
      "processing up to 40000 headlines\n",
      "processing up to 50000 headlines\n"
     ]
    }
   ],
   "source": [
    "import numpy as np\n",
    "import pandas as pd\n",
    "\n",
    "def chunker(seq, size):\n",
    "    return (seq[pos:pos + size] for pos in range(0, len(seq), size))\n",
    "\n",
    "vectors = np.array([]).reshape(0, 4800)\n",
    "j = 0;\n",
    "for i in chunker(eng_link_posts['name'].head(50000), 10000):\n",
    "    j = j + 10000;\n",
    "    print('processing up to {} headlines'.format(j))\n",
    "    vectors = np.vstack([vectors, encoder.encode(i, verbose=False)])"
   ]
  },
  {
   "cell_type": "code",
   "execution_count": 28,
   "metadata": {
    "collapsed": true
   },
   "outputs": [],
   "source": [
    "def closest_headline(line):\n",
    "    vec = encoder.encode([line], verbose=False)\n",
    "    dist = np.sum((vectors - vec)**2, axis=1)\n",
    "    return eng_link_posts['name'][dist.argsort()[0:10]]"
   ]
  },
  {
   "cell_type": "code",
   "execution_count": 41,
   "metadata": {
    "collapsed": false
   },
   "outputs": [
    {
     "name": "stdout",
     "output_type": "stream",
     "text": [
      "These 3 Videos Explain Mortgages Better Than Anything Else\n",
      "This Sisterhood of the Traveling Pants 3 News Will Make Fans Very Happy\n",
      "The 25 Most Hilarious Tweets About Apple’s New Wireless Headphones And Everything Else\n",
      "20 Incredible Australian Bands We Miss\n",
      "The Science Behind Why Exercise Makes You Happy\n",
      "10 Movies With Hidden Messages That Went Right Over Your Head\n",
      "6 Things I Wish I Knew When I Was Still Just Dating My Husband\n",
      "6 Regular Things You Say To Your Partner That Are Actually Quite Mean\n",
      "The Hottest Squat Gains You Will See\n",
      "7 Reasons Disney Movies Are Even Better When You Watch As An Adult\n"
     ]
    },
    {
     "data": {
      "text/plain": [
       "19075    None\n",
       "9612     None\n",
       "20524    None\n",
       "46888    None\n",
       "36732    None\n",
       "18260    None\n",
       "10379    None\n",
       "28228    None\n",
       "40050    None\n",
       "35775    None\n",
       "Name: name, dtype: object"
      ]
     },
     "execution_count": 41,
     "metadata": {},
     "output_type": "execute_result"
    }
   ],
   "source": [
    "ans = closest_headline(\"The 10 Best Nonfiction Books Of All Time You Should Not Miss\")\n",
    "ans.apply(print)"
   ]
  },
  {
   "cell_type": "code",
   "execution_count": null,
   "metadata": {
    "collapsed": true
   },
   "outputs": [],
   "source": []
  }
 ],
 "metadata": {
  "kernelspec": {
   "display_name": "Python 3",
   "language": "python",
   "name": "python3"
  },
  "language_info": {
   "codemirror_mode": {
    "name": "ipython",
    "version": 3
   },
   "file_extension": ".py",
   "mimetype": "text/x-python",
   "name": "python",
   "nbconvert_exporter": "python",
   "pygments_lexer": "ipython3",
   "version": "3.5.2+"
  }
 },
 "nbformat": 4,
 "nbformat_minor": 2
}
