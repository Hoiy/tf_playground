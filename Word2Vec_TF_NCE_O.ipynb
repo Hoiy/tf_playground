{
 "cells": [
  {
   "cell_type": "code",
   "execution_count": 1,
   "metadata": {
    "collapsed": false,
    "deletable": true,
    "editable": true
   },
   "outputs": [],
   "source": [
    "from Utils.FS import file\n",
    "from nltk.tokenize.punkt import PunktSentenceTokenizer\n",
    "from nltk.tokenize import word_tokenize\n",
    "from nltk.corpus import brown\n",
    "from scipy.sparse import coo_matrix, dok_matrix\n",
    "from scipy.sparse.linalg import svds\n",
    "from sklearn.preprocessing import normalize\n",
    "import matplotlib.pyplot as plt\n",
    "import numpy as np\n",
    "from sklearn.manifold import TSNE\n",
    "from wordcloud import WordCloud\n",
    "from nltk.corpus import stopwords\n",
    "import tensorflow as tf\n",
    "import math"
   ]
  },
  {
   "cell_type": "code",
   "execution_count": 2,
   "metadata": {
    "collapsed": true,
    "deletable": true,
    "editable": true
   },
   "outputs": [],
   "source": [
    "np.random.seed(1234)"
   ]
  },
  {
   "cell_type": "code",
   "execution_count": 3,
   "metadata": {
    "collapsed": false,
    "deletable": true,
    "editable": true
   },
   "outputs": [],
   "source": [
    "sents = brown.sents()\n",
    "sents = [[token.lower() for token in sent] for sent in sents]\n",
    "words = brown.words()\n",
    "words = [word.lower() for word in words]"
   ]
  },
  {
   "cell_type": "code",
   "execution_count": 4,
   "metadata": {
    "collapsed": false,
    "deletable": true,
    "editable": true
   },
   "outputs": [
    {
     "name": "stdout",
     "output_type": "stream",
     "text": [
      "Number of tokens: 1161192\n",
      "Number of sentences: 57340\n",
      "Longest sentences length: 180\n"
     ]
    }
   ],
   "source": [
    "print(\"Number of tokens: {}\".format(len(words)))\n",
    "print(\"Number of sentences: {}\".format(len(sents)))\n",
    "print(\"Longest sentences length: {}\".format(max([len(sent) for sent in sents])))"
   ]
  },
  {
   "cell_type": "code",
   "execution_count": 5,
   "metadata": {
    "collapsed": true,
    "deletable": true,
    "editable": true
   },
   "outputs": [],
   "source": [
    "def words2dicts(words):\n",
    "    f_dict = {}\n",
    "    index = 0\n",
    "    for word in words:\n",
    "        if not word in f_dict.keys():\n",
    "            f_dict[word] = index\n",
    "            index = index + 1\n",
    "        \n",
    "    return f_dict, { v:k for k, v in f_dict.items()}"
   ]
  },
  {
   "cell_type": "code",
   "execution_count": 6,
   "metadata": {
    "collapsed": false,
    "deletable": true,
    "editable": true
   },
   "outputs": [
    {
     "name": "stdout",
     "output_type": "stream",
     "text": [
      "Number of unique tokens: 49815\n"
     ]
    }
   ],
   "source": [
    "words_dict, inv_words_dict = words2dicts(words)\n",
    "words_size = len(words_dict)\n",
    "print(\"Number of unique tokens: {}\".format(words_size))"
   ]
  },
  {
   "cell_type": "code",
   "execution_count": 7,
   "metadata": {
    "collapsed": true,
    "deletable": true,
    "editable": true
   },
   "outputs": [],
   "source": [
    "def singleSideWindow(sents, words_dict, window_size, reverse = False):\n",
    "    window = []\n",
    "    row = []\n",
    "    col = []\n",
    "    data = []\n",
    "        \n",
    "    for sent in reversed(sents) if reverse else sents:\n",
    "        for word in reversed(sent) if reverse else sent:\n",
    "            for w in window:\n",
    "                if w == word:\n",
    "                    continue\n",
    "                row.append(words_dict[word])\n",
    "                col.append(words_dict[w])\n",
    "                data.append(1)\n",
    "            if len(window) == window_size:\n",
    "                window.pop(0)\n",
    "            window.append(word)\n",
    "    return coo_matrix((data, (row, col)), shape=(len(words_dict), len(words_dict)), dtype='float64')\n",
    "    \n",
    "\n",
    "def sents2wordContextMatrix(sents, words_dict, window_size = 5):\n",
    "    m = coo_matrix((words_size, words_size), 'float64')\n",
    "    \n",
    "    print('Doing forward pass...')\n",
    "    m += singleSideWindow(sents, words_dict, window_size)\n",
    "    \n",
    "    print('Doing backward pass...')\n",
    "    m += singleSideWindow(sents, words_dict, window_size, True)\n",
    "    \n",
    "    return m\n",
    "\n",
    "def sents2wordCoocurrenceMatrix(sents, words_dict, window_size = 10):\n",
    "    #don't really care edge cases....\n",
    "\n",
    "    window = []\n",
    "    row = []\n",
    "    col = []\n",
    "    data = []\n",
    "    for sent in sents:\n",
    "        for word in sent:\n",
    "            for i in range(len(window)- 1):\n",
    "                for j in range(i+1, len(window)):\n",
    "                    row += [words_dict[window[i]], words_dict[window[j]]]\n",
    "                    col += [words_dict[window[j]], words_dict[window[i]]]\n",
    "                    data += [1, 1]\n",
    "            if len(window) == window_size:\n",
    "                window.pop(0)\n",
    "            window.append(word)\n",
    "    print('Preparing sparse matrix...')\n",
    "    print('Length of data: {}'.format(len(data)))\n",
    "    return coo_matrix((data, (row,col)), shape=(words_size, words_size), dtype='float64').multiply(1/len(data))\n"
   ]
  },
  {
   "cell_type": "code",
   "execution_count": 8,
   "metadata": {
    "collapsed": true,
    "deletable": true,
    "editable": true
   },
   "outputs": [],
   "source": [
    "def singleSideWindowGenerator(c, w, sents, words_dict, window_size = 5, batch_size = 32, reverse = False):\n",
    "    window = ['--' for i in range(window_size)]\n",
    "    for sent in reversed(sents) if reverse else sents:\n",
    "        for word in reversed(sent) if reverse else sent:\n",
    "            for context in window:\n",
    "                c.append(words_dict[context])\n",
    "                w.append([words_dict[word]])\n",
    "                if(len(c) == batch_size):\n",
    "                    yield c, w\n",
    "                    c = []\n",
    "                    w = []\n",
    "            window.pop(0)\n",
    "            window.append(word)\n",
    "\n",
    "def sents2batchGenerator(sents, words_dict, window_size = 5, batch_size=32):\n",
    "    c = []\n",
    "    w = []\n",
    "\n",
    "    while(True):\n",
    "        window = ['--' for i in range(window_size)]\n",
    "        for sent in sents:\n",
    "            for word in sent:\n",
    "                for context in window:\n",
    "                    c.append([words_dict[context]])\n",
    "                    w.append(words_dict[word])\n",
    "                    if(len(c) == batch_size):\n",
    "                        yield w, c\n",
    "                        c = []\n",
    "                        w = []\n",
    "                window.pop(0)\n",
    "                window.append(word)\n",
    "\n",
    "        window = ['--' for i in range(window_size)]\n",
    "        for sent in reversed(sents):\n",
    "            for word in reversed(sent):\n",
    "                for context in window:\n",
    "                    c.append([words_dict[context]])\n",
    "                    w.append(words_dict[word])\n",
    "                    if(len(c) == batch_size):\n",
    "                        yield w, c\n",
    "                        c = []\n",
    "                        w = []\n",
    "                window.pop(0)\n",
    "                window.append(word)\n",
    "\n",
    "    "
   ]
  },
  {
   "cell_type": "code",
   "execution_count": 9,
   "metadata": {
    "collapsed": true,
    "deletable": true,
    "editable": true
   },
   "outputs": [],
   "source": [
    "def sents2freq(sents):\n",
    "    freq = {}\n",
    "    for sent in sents:\n",
    "        for word in sent:\n",
    "            if word in freq.keys():\n",
    "                freq[word] += 1\n",
    "            else:\n",
    "                freq[word] = 1\n",
    "    return freq\n",
    "\n",
    "words_freq = sents2freq(sents)"
   ]
  },
  {
   "cell_type": "code",
   "execution_count": 10,
   "metadata": {
    "collapsed": false,
    "deletable": true,
    "editable": true
   },
   "outputs": [],
   "source": [
    "WINDOW_SIZE = 2\n",
    "BATCH_SIZE = 256\n",
    "generator = sents2batchGenerator(sents, words_dict, window_size = WINDOW_SIZE, batch_size=BATCH_SIZE)"
   ]
  },
  {
   "cell_type": "code",
   "execution_count": 11,
   "metadata": {
    "collapsed": false,
    "deletable": true,
    "editable": true
   },
   "outputs": [],
   "source": [
    "DIMENSION = 50\n",
    "VOCABULAY_SIZE = len(words_dict)\n",
    "NEGATIVE_SAMPLE = 64\n",
    "\n",
    "graph = tf.Graph()\n",
    "\n",
    "with graph.as_default():\n",
    "    \n",
    "    inputs = tf.placeholder(tf.int32, shape=[BATCH_SIZE])\n",
    "    labels = tf.placeholder(tf.int32, shape=[BATCH_SIZE, 1])\n",
    "\n",
    "    with tf.device('/cpu:0'):\n",
    "    \n",
    "        embeddings = tf.Variable(\n",
    "            tf.random_uniform([VOCABULAY_SIZE, DIMENSION], -1.0, 1.0))\n",
    "        embed = tf.nn.embedding_lookup(embeddings, inputs, max_norm=1)\n",
    "\n",
    "        nce_weights = tf.Variable(\n",
    "            tf.truncated_normal([VOCABULAY_SIZE, DIMENSION],\n",
    "                                stddev=1.0 / math.sqrt(DIMENSION)))\n",
    "\n",
    "        nce_biases = tf.Variable(tf.zeros([VOCABULAY_SIZE]))\n",
    "\n",
    "        loss = tf.reduce_mean(\n",
    "          tf.nn.nce_loss(weights=nce_weights,\n",
    "                     biases=nce_biases,\n",
    "                     labels=labels,\n",
    "                     inputs=embed,\n",
    "                     num_sampled=NEGATIVE_SAMPLE,\n",
    "                     num_classes=VOCABULAY_SIZE))\n",
    "\n",
    "        optimizer = tf.train.GradientDescentOptimizer(1.0).minimize(loss)\n",
    "        \n",
    "        init = tf.global_variables_initializer()\n",
    "        word2VecSaver = tf.train.Saver({'Words2Vec': embeddings})"
   ]
  },
  {
   "cell_type": "code",
   "execution_count": 12,
   "metadata": {
    "collapsed": false,
    "deletable": true,
    "editable": true
   },
   "outputs": [
    {
     "name": "stdout",
     "output_type": "stream",
     "text": [
      "Average loss at step  2000 :  155.518452305\n",
      "Average loss at step  4000 :  101.466267084\n",
      "Average loss at step  6000 :  76.9836863918\n",
      "Average loss at step  8000 :  61.1315641532\n",
      "Average loss at step  10000 :  49.8346918235\n",
      "Average loss at step  12000 :  41.764257215\n",
      "Average loss at step  14000 :  36.1083338292\n",
      "Average loss at step  16000 :  30.2127132185\n",
      "Average loss at step  18000 :  27.1740004787\n",
      "Average loss at step  20000 :  23.6130024529\n",
      "Average loss at step  22000 :  19.8649007888\n",
      "Average loss at step  24000 :  17.3172629857\n",
      "Average loss at step  26000 :  15.3189559948\n",
      "Average loss at step  28000 :  13.5107321647\n",
      "Average loss at step  30000 :  11.9894891266\n",
      "Average loss at step  32000 :  11.0802330248\n",
      "Average loss at step  34000 :  10.1879241896\n",
      "Average loss at step  36000 :  9.71897320855\n",
      "Average loss at step  38000 :  9.15163761973\n",
      "Average loss at step  40000 :  8.13642629135\n",
      "Average loss at step  42000 :  7.49171339059\n",
      "Average loss at step  44000 :  6.84591049397\n",
      "Average loss at step  46000 :  6.28887786782\n",
      "Average loss at step  48000 :  6.09388576674\n",
      "Average loss at step  50000 :  6.0474736532\n",
      "Average loss at step  52000 :  5.89275806427\n",
      "Average loss at step  54000 :  5.94490562129\n",
      "Average loss at step  56000 :  6.07584026301\n",
      "Average loss at step  58000 :  5.47276556468\n",
      "Average loss at step  60000 :  5.2064860996\n",
      "Average loss at step  62000 :  4.9544360534\n",
      "Average loss at step  64000 :  4.72880446148\n",
      "Average loss at step  66000 :  4.65500786078\n",
      "Average loss at step  68000 :  4.86057902586\n",
      "Average loss at step  70000 :  4.86527376521\n",
      "Average loss at step  72000 :  4.93619809949\n",
      "Average loss at step  74000 :  5.2218084352\n",
      "Average loss at step  76000 :  4.72107244146\n",
      "Average loss at step  78000 :  4.58248398185\n",
      "Average loss at step  80000 :  4.44873225367\n",
      "Average loss at step  82000 :  4.23980571806\n",
      "Average loss at step  84000 :  4.16910427976\n",
      "Average loss at step  86000 :  4.51018634975\n",
      "Average loss at step  88000 :  4.46687726843\n",
      "Average loss at step  90000 :  4.57290998685\n",
      "Average loss at step  92000 :  4.87332060564\n",
      "Average loss at step  94000 :  4.45750155759\n",
      "Average loss at step  96000 :  4.33700794971\n",
      "Average loss at step  98000 :  4.26174774802\n",
      "Average loss at step  100000 :  4.02763143432\n",
      "Average loss at step  102000 :  3.96746763539\n",
      "Average loss at step  104000 :  4.29852040327\n",
      "Average loss at step  106000 :  4.27758463597\n",
      "Average loss at step  108000 :  4.36283560836\n",
      "Average loss at step  110000 :  4.69648981059\n",
      "Average loss at step  112000 :  4.31335148191\n",
      "Average loss at step  114000 :  4.19883499789\n",
      "Average loss at step  116000 :  4.13639319134\n",
      "Average loss at step  118000 :  3.89191093051\n",
      "Average loss at step  120000 :  3.87497695792\n",
      "Average loss at step  122000 :  4.17643373871\n",
      "Average loss at step  124000 :  4.16142628169\n",
      "Average loss at step  126000 :  4.23454385197\n",
      "Average loss at step  128000 :  4.58838495648\n",
      "Average loss at step  130000 :  4.21964690256\n",
      "Average loss at step  132000 :  4.12140294838\n",
      "Average loss at step  134000 :  4.0763110044\n",
      "Average loss at step  136000 :  3.80747188497\n",
      "Average loss at step  138000 :  3.82449697256\n",
      "Average loss at step  140000 :  4.07438976836\n",
      "Average loss at step  142000 :  4.09214421558\n",
      "Average loss at step  144000 :  4.15329895234\n",
      "Average loss at step  146000 :  4.51429483354\n",
      "Average loss at step  148000 :  4.16040522122\n",
      "Average loss at step  150000 :  4.05062906337\n",
      "Average loss at step  152000 :  4.0267378248\n",
      "Average loss at step  154000 :  3.74227124631\n",
      "Average loss at step  156000 :  3.79592078197\n",
      "Average loss at step  158000 :  3.98023222494\n",
      "Average loss at step  160000 :  4.0468632195\n",
      "Average loss at step  162000 :  4.10173877144\n",
      "Average loss at step  164000 :  4.44888729072\n",
      "Average loss at step  166000 :  4.11809592712\n",
      "Average loss at step  168000 :  4.00734150219\n",
      "Average loss at step  170000 :  3.99801948929\n",
      "Average loss at step  172000 :  3.71980065286\n",
      "Average loss at step  174000 :  3.76486758316\n",
      "Average loss at step  176000 :  3.91542848682\n",
      "Average loss at step  178000 :  4.01432603014\n",
      "Average loss at step  180000 :  4.04230251586\n",
      "Average loss at step  182000 :  4.39916618621\n",
      "Average loss at step  184000 :  4.10162727416\n",
      "Average loss at step  186000 :  3.97451576281\n",
      "Average loss at step  188000 :  3.96401919663\n",
      "Average loss at step  190000 :  3.71408228993\n",
      "Average loss at step  192000 :  3.7251914835\n",
      "Average loss at step  194000 :  3.87854879773\n",
      "Average loss at step  196000 :  3.98061578536\n",
      "Average loss at step  198000 :  3.99708511615\n"
     ]
    }
   ],
   "source": [
    "num_steps = 200000\n",
    "MODEL = './model/brown-Words2Vec.ckpt'\n",
    "\n",
    "with tf.Session(graph=graph) as session:\n",
    "    init.run()\n",
    "      \n",
    "    average_loss = 0\n",
    "    for step in range(num_steps):\n",
    "        batch_inputs, batch_labels = next(generator)\n",
    "        feed_dict = {inputs: batch_inputs, labels: batch_labels}\n",
    "\n",
    "        _, loss_val = session.run([optimizer, loss], feed_dict=feed_dict)\n",
    "        average_loss += loss_val\n",
    "\n",
    "        if step % 2000 == 0:\n",
    "            if step > 0:\n",
    "                average_loss /= 2000\n",
    "                print('Average loss at step ', step, ': ', average_loss)\n",
    "                average_loss = 0\n",
    "    save_path = word2VecSaver.save(session, MODEL)\n",
    "    final_embeddings = embeddings.eval()"
   ]
  },
  {
   "cell_type": "code",
   "execution_count": 13,
   "metadata": {
    "collapsed": false,
    "deletable": true,
    "editable": true
   },
   "outputs": [
    {
     "name": "stdout",
     "output_type": "stream",
     "text": [
      "(49815, 50)\n"
     ]
    }
   ],
   "source": [
    "\n",
    "from sklearn.preprocessing import normalize\n",
    "\n",
    "normalize(final_embeddings, norm='l2', axis=1, copy=False)\n",
    "print(final_embeddings.shape)"
   ]
  },
  {
   "cell_type": "code",
   "execution_count": 14,
   "metadata": {
    "collapsed": false,
    "deletable": true,
    "editable": true
   },
   "outputs": [
    {
     "data": {
      "text/plain": [
       "0.99999999633581638"
      ]
     },
     "execution_count": 14,
     "metadata": {},
     "output_type": "execute_result"
    }
   ],
   "source": [
    "sum((final_embeddings[2] ** 2))"
   ]
  },
  {
   "cell_type": "code",
   "execution_count": 15,
   "metadata": {
    "collapsed": true,
    "deletable": true,
    "editable": true
   },
   "outputs": [],
   "source": [
    "words_vec = {}\n",
    "for i in range(final_embeddings.shape[0]):\n",
    "    words_vec[inv_words_dict[i]] = final_embeddings[i]"
   ]
  },
  {
   "cell_type": "code",
   "execution_count": 16,
   "metadata": {
    "collapsed": true,
    "deletable": true,
    "editable": true
   },
   "outputs": [],
   "source": [
    "def plotData(vocabs, X, Y):\n",
    "    plt.clf()\n",
    "    plt.figure(figsize=(36, 36))\n",
    "    plt.scatter(X, Y)\n",
    "    plt.axis([min(X), max(X), min(Y), max(Y)])\n",
    "    for label, x, y in zip(vocabs, X, Y):\n",
    "        plt.annotate(label, xy=(x, y), xytext=(0, 0), textcoords='offset points')\n",
    "    plt.show()    "
   ]
  },
  {
   "cell_type": "code",
   "execution_count": 17,
   "metadata": {
    "collapsed": true,
    "deletable": true,
    "editable": true
   },
   "outputs": [],
   "source": [
    "def plot(vocabs, words_vec):\n",
    "    X = [words_vec[vocab][0] for vocab in vocabs]\n",
    "    Y = [words_vec[vocab][1] for vocab in vocabs]\n",
    "    plotData(vocabs, X, Y)"
   ]
  },
  {
   "cell_type": "code",
   "execution_count": 18,
   "metadata": {
    "collapsed": true,
    "deletable": true,
    "editable": true
   },
   "outputs": [],
   "source": [
    "def plotTSNE(vocabs, vectors):\n",
    "    tsne = TSNE(perplexity=30, n_components=2, n_iter=5000, random_state = 7890, method='exact')\n",
    "    #np.set_printoptions(suppress=True)\n",
    "    data = np.array([vectors[vocab] for vocab in vocabs])    \n",
    "    DATA = tsne.fit_transform(data)\n",
    "    X = DATA[:, 0]\n",
    "    Y = DATA[:, 1]\n",
    "    \n",
    "    plotData(vocabs, X, Y)"
   ]
  },
  {
   "cell_type": "code",
   "execution_count": 19,
   "metadata": {
    "collapsed": false,
    "deletable": true,
    "editable": true
   },
   "outputs": [
    {
     "name": "stdout",
     "output_type": "stream",
     "text": [
      "Start: Loading Glove Model\n",
      "End: Loaded 400000 rows.\n"
     ]
    }
   ],
   "source": [
    "from DataLoader import GloVe\n",
    "\n",
    "glove = GloVe.load2('./data/GloVe/glove.6B.50d.txt')"
   ]
  },
  {
   "cell_type": "code",
   "execution_count": 20,
   "metadata": {
    "collapsed": false,
    "deletable": true,
    "editable": true
   },
   "outputs": [
    {
     "name": "stdout",
     "output_type": "stream",
     "text": [
      "1616\n"
     ]
    }
   ],
   "source": [
    "vocabs = ['man', 'woman', 'king', 'queen', 'male', 'female', 'boy', 'girl']\n",
    "np.random.seed(1234)\n",
    "\n",
    "random_vocabs = []\n",
    "for i in np.random.randint(0, len(words_dict), 2000):\n",
    "    if inv_words_dict[i] in glove.keys():\n",
    "        random_vocabs.append(inv_words_dict[i])\n",
    "        \n",
    "print(len(random_vocabs))"
   ]
  },
  {
   "cell_type": "code",
   "execution_count": 21,
   "metadata": {
    "collapsed": false,
    "deletable": true,
    "editable": true
   },
   "outputs": [],
   "source": [
    "#plotTSNE(random_vocabs, words_vec)"
   ]
  },
  {
   "cell_type": "code",
   "execution_count": 22,
   "metadata": {
    "collapsed": false,
    "deletable": true,
    "editable": true
   },
   "outputs": [],
   "source": [
    "#plotTSNE(random_vocabs, glove)"
   ]
  },
  {
   "cell_type": "code",
   "execution_count": 23,
   "metadata": {
    "collapsed": true,
    "deletable": true,
    "editable": true
   },
   "outputs": [],
   "source": [
    "def cloestWord(word, words_vec, count = 10, method=None):\n",
    "    if method == 'cos':\n",
    "        dist = np.array([ sum(words_vec[word] * words_vec[key]) for key in words_vec.keys()])\n",
    "        top_ten = dist.argsort()[::-1][:10]\n",
    "    else:\n",
    "        dist = np.array([ sum(np.square(np.array(words_vec[word]) - np.array(words_vec[key]))) for key in words_vec.keys()])\n",
    "        top_ten = dist.argsort()[:10]\n",
    "    return [list(words_vec.keys())[i] for i in top_ten]"
   ]
  },
  {
   "cell_type": "code",
   "execution_count": 24,
   "metadata": {
    "collapsed": false,
    "deletable": true,
    "editable": true
   },
   "outputs": [
    {
     "name": "stdout",
     "output_type": "stream",
     "text": [
      "['man', 'woman', 'child', 'person', 'married', 'mother', 'established', 'girl', 'met', 'provided']\n",
      "['man', 'woman', 'another', 'boy', 'one', 'old', 'turned', 'whose', 'himself', 'who']\n"
     ]
    }
   ],
   "source": [
    "print(cloestWord('man', words_vec, method='cos'))\n",
    "print(cloestWord('man', glove))"
   ]
  },
  {
   "cell_type": "code",
   "execution_count": 25,
   "metadata": {
    "collapsed": false,
    "deletable": true,
    "editable": true
   },
   "outputs": [
    {
     "name": "stdout",
     "output_type": "stream",
     "text": [
      "['woman', 'girl', 'child', 'boy', 'drink', 'person', 'job', 'friend', 'firm', 'decision']\n",
      "['woman', 'girl', 'man', 'mother', 'boy', 'her', 'she', 'herself', 'victim', 'child']\n"
     ]
    }
   ],
   "source": [
    "print(cloestWord('woman', words_vec, method='cos'))\n",
    "print(cloestWord('woman', glove))"
   ]
  },
  {
   "cell_type": "code",
   "execution_count": 26,
   "metadata": {
    "collapsed": false,
    "deletable": true,
    "editable": true
   },
   "outputs": [
    {
     "name": "stdout",
     "output_type": "stream",
     "text": [
      "['however', 'therefore', 'moreover', 'indeed', 'finally', 'especially', 'etc.', 'i.e.', 'nevertheless', 'besides']\n",
      "['however', 'although', 'though', 'as', 'both', 'latter', 'also', '.', 'same', 'fact']\n"
     ]
    }
   ],
   "source": [
    "print(cloestWord('however', words_vec, method='cos'))\n",
    "print(cloestWord('however', glove))"
   ]
  },
  {
   "cell_type": "code",
   "execution_count": 27,
   "metadata": {
    "collapsed": false,
    "deletable": true,
    "editable": true
   },
   "outputs": [
    {
     "name": "stdout",
     "output_type": "stream",
     "text": [
      "['his', 'their', 'its', 'her', 'my', 'our', 'the', 'every', 'your', 'a']\n",
      "['his', 'he', 'himself', 'him', 'took', 'came', 'her', 'when', 'having', 'she']\n"
     ]
    }
   ],
   "source": [
    "print(cloestWord('his', words_vec, method='cos'))\n",
    "print(cloestWord('his', glove))"
   ]
  },
  {
   "cell_type": "code",
   "execution_count": 28,
   "metadata": {
    "collapsed": false,
    "deletable": true,
    "editable": true
   },
   "outputs": [
    {
     "name": "stdout",
     "output_type": "stream",
     "text": [
      "['zero', 'gathering', 'dominant', 'jesus', 'healthy', 'rector', 'turning', 'thrown', 'forests', 'somewhere']\n",
      "['zero', 'mean', 'assuming', 'hence', 'actual', 'approaching', 'comparable', 'measured', 'limit', 'comparison']\n"
     ]
    }
   ],
   "source": [
    "print(cloestWord('zero', words_vec, method='cos'))\n",
    "print(cloestWord('zero', glove))"
   ]
  },
  {
   "cell_type": "code",
   "execution_count": 29,
   "metadata": {
    "collapsed": false,
    "deletable": true,
    "editable": true
   },
   "outputs": [
    {
     "name": "stdout",
     "output_type": "stream",
     "text": [
      "['one', 'knowledge', 'cost', 'importance', 'members', 'use', 'study', 'features', 'lack', 'value']\n",
      "['one', 'another', 'only', 'same', '.', 'as', 'well', 'but', 'with', 'making']\n"
     ]
    }
   ],
   "source": [
    "print(cloestWord('one', words_vec, method='cos'))\n",
    "print(cloestWord('one', glove))"
   ]
  },
  {
   "cell_type": "code",
   "execution_count": 30,
   "metadata": {
    "collapsed": false,
    "deletable": true,
    "editable": true
   },
   "outputs": [
    {
     "name": "stdout",
     "output_type": "stream",
     "text": [
      "['two', 'three', 'four', 'several', 'five', 'six', 'other', 'seven', 'various', 'many']\n",
      "['two', 'three', 'four', 'five', 'six', 'seven', 'eight', 'nine', 'with', 'several']\n"
     ]
    }
   ],
   "source": [
    "print(cloestWord('two', words_vec, method='cos'))\n",
    "print(cloestWord('two', glove))"
   ]
  },
  {
   "cell_type": "code",
   "execution_count": null,
   "metadata": {
    "collapsed": true,
    "deletable": true,
    "editable": true
   },
   "outputs": [],
   "source": []
  }
 ],
 "metadata": {
  "kernelspec": {
   "display_name": "Python 3",
   "language": "python",
   "name": "python3"
  },
  "language_info": {
   "codemirror_mode": {
    "name": "ipython",
    "version": 3
   },
   "file_extension": ".py",
   "mimetype": "text/x-python",
   "name": "python",
   "nbconvert_exporter": "python",
   "pygments_lexer": "ipython3",
   "version": "3.5.2+"
  }
 },
 "nbformat": 4,
 "nbformat_minor": 2
}
