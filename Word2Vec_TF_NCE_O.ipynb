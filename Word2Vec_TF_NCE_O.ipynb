{
 "cells": [
  {
   "cell_type": "code",
   "execution_count": 1,
   "metadata": {
    "collapsed": false,
    "deletable": true,
    "editable": true
   },
   "outputs": [],
   "source": [
    "from Utils.FS import file\n",
    "from nltk.tokenize.punkt import PunktSentenceTokenizer\n",
    "from nltk.tokenize import word_tokenize\n",
    "from nltk.corpus import brown\n",
    "from scipy.sparse import coo_matrix, dok_matrix\n",
    "from scipy.sparse.linalg import svds\n",
    "from sklearn.preprocessing import normalize\n",
    "import matplotlib.pyplot as plt\n",
    "import numpy as np\n",
    "from sklearn.manifold import TSNE\n",
    "from wordcloud import WordCloud\n",
    "from nltk.corpus import stopwords\n",
    "import tensorflow as tf\n",
    "import math\n",
    "import TextPreprocess.words2dict as words2dict"
   ]
  },
  {
   "cell_type": "code",
   "execution_count": 2,
   "metadata": {
    "collapsed": true,
    "deletable": true,
    "editable": true
   },
   "outputs": [],
   "source": [
    "np.random.seed(1234)"
   ]
  },
  {
   "cell_type": "code",
   "execution_count": 3,
   "metadata": {
    "collapsed": false,
    "deletable": true,
    "editable": true
   },
   "outputs": [],
   "source": [
    "sents = brown.sents()\n",
    "sents = [[token.lower() for token in sent] for sent in sents]\n",
    "words = brown.words()\n",
    "words = [word.lower() for word in words]"
   ]
  },
  {
   "cell_type": "code",
   "execution_count": 4,
   "metadata": {
    "collapsed": false,
    "deletable": true,
    "editable": true
   },
   "outputs": [
    {
     "name": "stdout",
     "output_type": "stream",
     "text": [
      "Number of tokens: 1161192\n",
      "Number of sentences: 57340\n",
      "Longest sentences length: 180\n"
     ]
    }
   ],
   "source": [
    "print(\"Number of tokens: {}\".format(len(words)))\n",
    "print(\"Number of sentences: {}\".format(len(sents)))\n",
    "print(\"Longest sentences length: {}\".format(max([len(sent) for sent in sents])))"
   ]
  },
  {
   "cell_type": "code",
   "execution_count": 5,
   "metadata": {
    "collapsed": false,
    "deletable": true,
    "editable": true
   },
   "outputs": [
    {
     "name": "stdout",
     "output_type": "stream",
     "text": [
      "Number of unique tokens: 49815\n"
     ]
    }
   ],
   "source": [
    "words_dict, inv_words_dict = words2dict.convert(words)\n",
    "words_size = len(words_dict)\n",
    "print(\"Number of unique tokens: {}\".format(words_size))"
   ]
  },
  {
   "cell_type": "code",
   "execution_count": 6,
   "metadata": {
    "collapsed": true,
    "deletable": true,
    "editable": true
   },
   "outputs": [],
   "source": [
    "def singleSideWindow(sents, words_dict, window_size, reverse = False):\n",
    "    window = []\n",
    "    row = []\n",
    "    col = []\n",
    "    data = []\n",
    "        \n",
    "    for sent in reversed(sents) if reverse else sents:\n",
    "        for word in reversed(sent) if reverse else sent:\n",
    "            for w in window:\n",
    "                if w == word:\n",
    "                    continue\n",
    "                row.append(words_dict[word])\n",
    "                col.append(words_dict[w])\n",
    "                data.append(1)\n",
    "            if len(window) == window_size:\n",
    "                window.pop(0)\n",
    "            window.append(word)\n",
    "    return coo_matrix((data, (row, col)), shape=(len(words_dict), len(words_dict)), dtype='float64')\n",
    "    \n",
    "\n",
    "def sents2wordContextMatrix(sents, words_dict, window_size = 5):\n",
    "    m = coo_matrix((words_size, words_size), 'float64')\n",
    "    \n",
    "    print('Doing forward pass...')\n",
    "    m += singleSideWindow(sents, words_dict, window_size)\n",
    "    \n",
    "    print('Doing backward pass...')\n",
    "    m += singleSideWindow(sents, words_dict, window_size, True)\n",
    "    \n",
    "    return m\n",
    "\n",
    "def sents2wordCoocurrenceMatrix(sents, words_dict, window_size = 10):\n",
    "    #don't really care edge cases....\n",
    "\n",
    "    window = []\n",
    "    row = []\n",
    "    col = []\n",
    "    data = []\n",
    "    for sent in sents:\n",
    "        for word in sent:\n",
    "            for i in range(len(window)- 1):\n",
    "                for j in range(i+1, len(window)):\n",
    "                    row += [words_dict[window[i]], words_dict[window[j]]]\n",
    "                    col += [words_dict[window[j]], words_dict[window[i]]]\n",
    "                    data += [1, 1]\n",
    "            if len(window) == window_size:\n",
    "                window.pop(0)\n",
    "            window.append(word)\n",
    "    print('Preparing sparse matrix...')\n",
    "    print('Length of data: {}'.format(len(data)))\n",
    "    return coo_matrix((data, (row,col)), shape=(words_size, words_size), dtype='float64').multiply(1/len(data))\n"
   ]
  },
  {
   "cell_type": "code",
   "execution_count": 7,
   "metadata": {
    "collapsed": true,
    "deletable": true,
    "editable": true
   },
   "outputs": [],
   "source": [
    "def singleSideWindowGenerator(c, w, sents, words_dict, window_size = 5, batch_size = 32, reverse = False):\n",
    "    window = ['--' for i in range(window_size)]\n",
    "    for sent in reversed(sents) if reverse else sents:\n",
    "        for word in reversed(sent) if reverse else sent:\n",
    "            for context in window:\n",
    "                c.append(words_dict[context])\n",
    "                w.append([words_dict[word]])\n",
    "                if(len(c) == batch_size):\n",
    "                    yield c, w\n",
    "                    c = []\n",
    "                    w = []\n",
    "            window.pop(0)\n",
    "            window.append(word)\n",
    "\n",
    "def sents2batchGenerator(sents, words_dict, window_size = 5, batch_size=32):\n",
    "    c = []\n",
    "    w = []\n",
    "\n",
    "    while(True):\n",
    "        window = ['--' for i in range(window_size)]\n",
    "        for sent in sents:\n",
    "            for word in sent:\n",
    "                for context in window:\n",
    "                    c.append([words_dict[context]])\n",
    "                    w.append(words_dict[word])\n",
    "                    if(len(c) == batch_size):\n",
    "                        yield w, c\n",
    "                        c = []\n",
    "                        w = []\n",
    "                window.pop(0)\n",
    "                window.append(word)\n",
    "\n",
    "        window = ['--' for i in range(window_size)]\n",
    "        for sent in reversed(sents):\n",
    "            for word in reversed(sent):\n",
    "                for context in window:\n",
    "                    c.append([words_dict[context]])\n",
    "                    w.append(words_dict[word])\n",
    "                    if(len(c) == batch_size):\n",
    "                        yield w, c\n",
    "                        c = []\n",
    "                        w = []\n",
    "                window.pop(0)\n",
    "                window.append(word)\n",
    "\n",
    "    "
   ]
  },
  {
   "cell_type": "code",
   "execution_count": 8,
   "metadata": {
    "collapsed": true,
    "deletable": true,
    "editable": true
   },
   "outputs": [],
   "source": [
    "def sents2freq(sents):\n",
    "    freq = {}\n",
    "    for sent in sents:\n",
    "        for word in sent:\n",
    "            if word in freq.keys():\n",
    "                freq[word] += 1\n",
    "            else:\n",
    "                freq[word] = 1\n",
    "    return freq\n",
    "\n",
    "words_freq = sents2freq(sents)"
   ]
  },
  {
   "cell_type": "code",
   "execution_count": 9,
   "metadata": {
    "collapsed": false,
    "deletable": true,
    "editable": true
   },
   "outputs": [],
   "source": [
    "WINDOW_SIZE = 2\n",
    "BATCH_SIZE = 32\n",
    "generator = sents2batchGenerator(sents, words_dict, window_size = WINDOW_SIZE, batch_size=BATCH_SIZE)"
   ]
  },
  {
   "cell_type": "code",
   "execution_count": 29,
   "metadata": {
    "collapsed": false,
    "deletable": true,
    "editable": true
   },
   "outputs": [],
   "source": [
    "DIMENSION = 50\n",
    "VOCABULAY_SIZE = len(words_dict)\n",
    "NEGATIVE_SAMPLE = 64\n",
    "\n",
    "graph = tf.Graph()\n",
    "\n",
    "with graph.as_default():\n",
    "    \n",
    "    inputs = tf.placeholder(tf.int32, shape=[BATCH_SIZE])\n",
    "    labels = tf.placeholder(tf.int32, shape=[BATCH_SIZE, 1])\n",
    "\n",
    "    with tf.device('/cpu:0'):\n",
    "    \n",
    "        embeddings = tf.Variable(\n",
    "            tf.random_uniform([VOCABULAY_SIZE, DIMENSION], -1.0, 1.0))\n",
    "        embed = tf.nn.embedding_lookup(embeddings, inputs, max_norm=1)\n",
    "\n",
    "        nce_weights = tf.Variable(\n",
    "            tf.truncated_normal([VOCABULAY_SIZE, DIMENSION],\n",
    "                                stddev=1.0 / math.sqrt(DIMENSION)))\n",
    "\n",
    "        nce_biases = tf.Variable(tf.zeros([VOCABULAY_SIZE]))\n",
    "\n",
    "        loss = tf.reduce_mean(\n",
    "          tf.nn.nce_loss(weights=nce_weights,\n",
    "                     biases=nce_biases,\n",
    "                     labels=labels,\n",
    "                     inputs=embed,\n",
    "                     num_sampled=NEGATIVE_SAMPLE,\n",
    "                     num_classes=VOCABULAY_SIZE))\n",
    "\n",
    "        #optimizer = tf.train.GradientDescentOptimizer(1.0).minimize(loss)\n",
    "        optimizer = tf.train.MomentumOptimizer(1.0, 0.5).minimize(loss)\n",
    "        #optimizer = tf.train.AdamOptimizer().minimize(loss) # super slow\n",
    "        \n",
    "        init = tf.global_variables_initializer()\n",
    "        word2VecSaver = tf.train.Saver({'Words2Vec': embeddings, 'NCE_Weights': nce_weights, 'NCE_Biases': nce_biases})"
   ]
  },
  {
   "cell_type": "code",
   "execution_count": 30,
   "metadata": {
    "collapsed": true,
    "deletable": true,
    "editable": true
   },
   "outputs": [],
   "source": [
    "def cloestWord(word, words_vec, count = 10, method=None):\n",
    "    if method == 'cos':\n",
    "        dist = np.array([ sum(words_vec[word] * words_vec[key]) for key in words_vec.keys()])\n",
    "        top_ten = dist.argsort()[::-1][:10]\n",
    "    else:\n",
    "        dist = np.array([ sum(np.square(np.array(words_vec[word]) - np.array(words_vec[key]))) for key in words_vec.keys()])\n",
    "        top_ten = dist.argsort()[:10]\n",
    "    return [list(words_vec.keys())[i] for i in top_ten]"
   ]
  },
  {
   "cell_type": "code",
   "execution_count": 31,
   "metadata": {
    "collapsed": false,
    "deletable": true,
    "editable": true
   },
   "outputs": [
    {
     "name": "stdout",
     "output_type": "stream",
     "text": [
      "Average loss at step  2000 :  145.223871941\n",
      "['two', 'only', 'been', 'was', 'she', 'the', 'what', 'it', 'would', 'if']\n",
      "Average loss at step  4000 :  88.1318182049\n",
      "['two', '.', 'the', 'had', 'this', 'how', '``', 'one', 'do', 'about']\n",
      "Average loss at step  6000 :  64.4563673773\n",
      "['two', 'a', 'the', 'his', 'big', 'that', 'her', 'you', 'was', 'old']\n",
      "Average loss at step  8000 :  48.837664674\n",
      "['two', 'look', 'other', 'a', 'told', '``', \"i'm\", 'heard', 'the', 'was']\n",
      "Average loss at step  10000 :  39.3747905102\n",
      "['two', 'us', 'hair', 'ever', 'the', 'day', 'every', 'something', 'be', 'sat']\n",
      "Average loss at step  12000 :  31.240972194\n",
      "['two', 'very', 'look', 'any', 'than', 'a', 'one', 'long', 'men', 'its']\n",
      "Average loss at step  14000 :  25.6723238983\n",
      "['two', 'the', 'first', 'an', 'more', 'a', 'big', 'your', 'these', 'our']\n",
      "Average loss at step  16000 :  21.6204366188\n",
      "['two', 'many', 'our', 'the', 'your', 'wife', 'long', 'both', 'mother', 'real']\n",
      "Average loss at step  18000 :  18.5377927339\n",
      "['two', 'three', 'other', 'many', 'its', 'any', 'both', 'very', 'her', 'our']\n",
      "Average loss at step  20000 :  16.873879787\n",
      "['two', 'three', 'our', 'her', 'small', 'my', 'few', 'any', 'big', 'each']\n",
      "Average loss at step  22000 :  13.8231778167\n",
      "['two', 'any', 'first', 'own', 'his', 'old', 'its', 'three', 'our', 'my']\n",
      "Average loss at step  24000 :  12.2837607443\n",
      "['two', 'three', 'the', 'old', 'a', 'an', 'different', 'whole', 'second', 'large']\n",
      "Average loss at step  26000 :  10.6082732704\n",
      "['two', 'most', 'whole', 'no', 'each', 'his', 'old', 'several', 'three', 'her']\n",
      "Average loss at step  28000 :  9.72526044178\n",
      "['two', 'her', 'whole', 'three', 'little', 'great', 'good', 'every', 'different', 'body']\n",
      "Average loss at step  30000 :  8.7744632529\n",
      "['two', 'several', 'great', 'every', 'different', 'short', 'state', 'full', 'large', 'small']\n",
      "Average loss at step  32000 :  7.71259141183\n",
      "['two', 'several', 'old', 'every', 'her', 'last', 'three', 'next', 'many', 'own']\n",
      "Average loss at step  34000 :  7.34351061344\n",
      "['two', 'three', 'last', 'each', 'every', 'several', 'next', 'her', 'old', 'whole']\n",
      "Average loss at step  36000 :  7.34081149983\n",
      "['two', 'several', 'three', 'last', 'short', 'high', 'early', 'great', 'six', 'next']\n",
      "Average loss at step  38000 :  6.79483414876\n",
      "['two', 'three', 'several', 'early', 'few', 'high', 'every', 'short', 'last', 'own']\n",
      "Average loss at step  40000 :  6.42786406231\n",
      "['two', 'three', 'every', 'several', 'few', 'first', 'four', 'large', 'last', 'very']\n",
      "Average loss at step  42000 :  6.18236395669\n",
      "['two', 'several', 'three', 'every', 'very', 'few', 'four', 'any', 'large', 'first']\n",
      "Average loss at step  44000 :  6.00039875722\n",
      "['two', 'three', 'every', 'few', 'several', 'first', 'very', 'four', 'any', 'her']\n",
      "Average loss at step  46000 :  5.75296318901\n",
      "['two', 'every', 'few', 'three', 'several', 'very', 'great', 'first', 'any', 'her']\n",
      "Average loss at step  48000 :  5.8173737613\n",
      "['two', 'few', 'every', 'three', 'several', 'any', 'great', 'very', 'four', 'certain']\n",
      "Average loss at step  50000 :  5.65654976773\n",
      "['two', 'few', 'every', 'three', 'several', 'great', 'any', 'four', 'very', 'your']\n",
      "Average loss at step  52000 :  5.49573351288\n",
      "['two', 'few', 'every', 'three', 'several', 'great', 'any', 'four', 'old', 'your']\n",
      "Average loss at step  54000 :  5.40820440614\n",
      "['two', 'few', 'every', 'three', 'several', 'great', 'any', 'four', 'good', 'last']\n",
      "Average loss at step  56000 :  5.49205040896\n",
      "['two', 'three', 'few', 'every', 'several', 'four', 'great', 'good', 'our', 'last']\n",
      "Average loss at step  58000 :  5.2088302058\n",
      "['two', 'three', 'every', 'few', 'four', 'several', 'great', 'good', 'last', 'large']\n",
      "Average loss at step  60000 :  5.37622213995\n",
      "['two', 'three', 'every', 'few', 'several', 'four', 'last', 'great', 'large', 'our']\n",
      "Average loss at step  62000 :  5.37974793386\n",
      "['two', 'three', 'every', 'few', 'four', 'several', 'great', 'our', 'any', 'your']\n",
      "Average loss at step  64000 :  5.18500790739\n",
      "['two', 'few', 'three', 'several', 'every', 'four', 'last', 'early', 'great', 'any']\n",
      "Average loss at step  66000 :  5.17266411138\n",
      "['two', 'few', 'three', 'several', 'every', 'four', 'early', 'last', 'great', 'any']\n",
      "Average loss at step  68000 :  5.24591553795\n",
      "['two', 'three', 'few', 'several', 'four', 'five', 'early', 'every', 'six', 'large']\n",
      "Average loss at step  70000 :  5.30932247186\n",
      "['two', 'three', 'few', 'several', 'four', 'five', 'six', 'early', 'ten', 'every']\n",
      "Average loss at step  72000 :  4.99954040802\n",
      "['two', 'three', 'few', 'several', 'four', 'five', 'six', 'early', 'many', 'ten']\n",
      "Average loss at step  74000 :  5.0105021261\n",
      "['two', 'few', 'several', 'three', 'five', 'four', 'six', 'ten', 'early', 'hundred']\n",
      "Average loss at step  76000 :  5.02356364346\n",
      "['two', 'three', 'several', 'few', 'five', 'four', 'six', 'ten', 'seven', 'early']\n",
      "Average loss at step  78000 :  4.96456558847\n",
      "['two', 'three', 'five', 'several', 'few', 'four', 'ten', 'six', 'seven', 'early']\n",
      "Average loss at step  80000 :  4.97661868405\n",
      "['two', 'three', 'five', 'several', 'four', 'few', 'ten', 'six', 'seven', 'early']\n",
      "Average loss at step  82000 :  4.95969032145\n",
      "['two', 'three', 'five', 'several', 'four', 'few', 'ten', 'six', 'seven', 'early']\n",
      "Average loss at step  84000 :  5.00359225118\n",
      "['two', 'three', 'five', 'several', 'four', 'few', 'ten', 'six', 'seven', 'nine']\n",
      "Average loss at step  86000 :  4.85596623981\n",
      "['two', 'three', 'five', 'several', 'four', 'few', 'ten', 'six', 'seven', 'hundred']\n",
      "Average loss at step  88000 :  4.89640752017\n",
      "['two', 'three', 'five', 'four', 'several', 'six', 'ten', 'few', 'women', 'men']\n",
      "Average loss at step  90000 :  4.91346883368\n",
      "['two', 'three', 'four', 'five', 'several', 'six', 'men', 'ten', 'women', 'prime']\n",
      "Average loss at step  92000 :  4.87485541999\n",
      "['two', 'three', 'four', 'five', 'women', 'six', 'several', 'ten', 'prime', 'barely']\n",
      "Average loss at step  94000 :  4.90616112196\n",
      "['two', 'four', 'five', 'three', 'women', 'six', 'prime', 'ten', 'materials', 'effective']\n",
      "Average loss at step  96000 :  4.93464527202\n",
      "['two', 'four', 'three', 'five', 'women', 'six', 'ten', 'prime', 'materials', 'barely']\n",
      "Average loss at step  98000 :  4.84427115297\n",
      "['two', 'four', 'three', 'five', 'women', 'six', 'ten', 'materials', 'several', 'others']\n",
      "Average loss at step  100000 :  4.86153837168\n",
      "['two', 'four', 'three', 'five', 'six', 'ten', 'several', 'women', 'others', 'materials']\n",
      "Average loss at step  102000 :  4.82948723745\n",
      "['two', 'four', 'three', 'five', 'ten', 'six', 'seven', 'women', 'several', 'materials']\n",
      "Average loss at step  104000 :  4.82629975009\n",
      "['two', 'three', 'four', 'five', 'six', 'ten', 'seven', 'several', 'women', 'nine']\n",
      "Average loss at step  106000 :  4.83774422073\n",
      "['two', 'three', 'five', 'four', 'six', 'ten', 'several', 'seven', 'nine', 'materials']\n",
      "Average loss at step  108000 :  4.82802544522\n",
      "['two', 'five', 'three', 'four', 'six', 'ten', 'seven', 'materials', 'several', 'nine']\n",
      "Average loss at step  110000 :  4.77670592296\n",
      "['two', 'five', 'four', 'three', 'six', 'ten', 'several', 'seven', 'materials', 'nine']\n",
      "Average loss at step  112000 :  4.64808695793\n",
      "['two', 'three', 'four', 'five', 'six', 'several', 'ten', 'seven', 'materials', 'nine']\n",
      "Average loss at step  114000 :  4.62842424393\n",
      "['two', 'four', 'three', 'five', 'six', 'several', 'seven', 'ten', 'nine', 'stained']\n",
      "Average loss at step  116000 :  4.74508298099\n",
      "['two', 'three', 'four', 'five', 'six', 'several', 'ten', 'seven', 'nine', 'results']\n",
      "Average loss at step  118000 :  4.63998571277\n",
      "['two', 'three', 'four', 'five', 'six', 'several', 'results', 'girls', 'ten', 'seven']\n",
      "Average loss at step  120000 :  4.701030599\n",
      "['two', 'three', 'four', 'five', 'results', 'six', 'several', 'girls', 'bottom', 'tongue']\n",
      "Average loss at step  122000 :  4.70844454789\n",
      "['two', 'three', 'four', 'five', 'six', 'several', 'results', 'girls', 'steps', 'ten']\n",
      "Average loss at step  124000 :  4.80579657233\n",
      "['two', 'four', 'three', 'five', 'several', 'six', 'results', 'ten', 'trials', 'steps']\n",
      "Average loss at step  126000 :  4.73324328637\n",
      "['two', 'three', 'four', 'five', 'several', 'six', 'ten', 'results', 'nine', 'tent']\n",
      "Average loss at step  128000 :  4.83554328036\n",
      "['two', 'four', 'three', 'five', 'several', 'six', 'ten', 'nine', 'results', 'seven']\n",
      "Average loss at step  130000 :  4.67235491836\n",
      "['two', 'three', 'four', 'five', 'six', 'several', 'ten', 'results', 'girls', 'seven']\n",
      "Average loss at step  132000 :  4.64302868402\n",
      "['two', 'four', 'three', 'five', 'six', 'ten', 'results', 'girls', 'steps', 'seven']\n",
      "Average loss at step  134000 :  4.675889081\n",
      "['two', 'four', 'five', 'three', 'six', 'ten', 'seven', 'girls', 'steps', 'results']\n",
      "Average loss at step  136000 :  4.60336053324\n",
      "['two', 'four', 'five', 'three', 'six', 'girls', 'results', 'seven', 'ten', 'older']\n",
      "Average loss at step  138000 :  4.67171575749\n",
      "['two', 'four', 'five', 'three', 'six', 'seven', 'girls', 'ten', 'steps', 'older']\n",
      "Average loss at step  140000 :  4.67260243046\n",
      "['two', 'four', 'five', 'three', 'six', 'girls', 'results', 'seven', 'older', 'hardy']\n",
      "Average loss at step  142000 :  4.53443174434\n",
      "['two', 'four', 'three', 'five', 'six', 'several', 'ten', 'seven', 'steps', 'girls']\n",
      "Average loss at step  144000 :  4.81319762397\n",
      "['two', 'four', 'three', 'five', 'six', 'several', 'seven', 'ten', 'steps', 'nine']\n",
      "Average loss at step  146000 :  4.96385096145\n",
      "['two', 'three', 'four', 'five', 'six', 'several', 'ten', 'seven', 'girls', 'nine']\n",
      "Average loss at step  148000 :  4.60891827285\n",
      "['two', 'four', 'three', 'five', 'six', 'several', 'ten', 'seven', 'weeks', 'months']\n",
      "Average loss at step  150000 :  4.64279113507\n",
      "['two', 'four', 'three', 'five', 'six', 'several', 'ten', 'seven', 'weeks', 'months']\n",
      "Average loss at step  152000 :  4.63244117582\n",
      "['two', 'four', 'three', 'five', 'six', 'several', 'ten', 'seven', 'weeks', 'months']\n",
      "Average loss at step  154000 :  4.56492770791\n",
      "['two', 'three', 'four', 'five', 'several', 'six', 'seven', 'ten', 'weeks', 'months']\n",
      "Average loss at step  156000 :  4.59257107556\n",
      "['two', 'three', 'four', 'five', 'several', 'six', 'ten', 'seven', 'weeks', 'months']\n",
      "Average loss at step  158000 :  4.53598660827\n",
      "['two', 'three', 'four', 'five', 'several', 'six', 'ten', 'seven', 'weeks', 'months']\n",
      "Average loss at step  160000 :  4.5044416151\n",
      "['two', 'four', 'three', 'five', 'several', 'six', 'ten', 'seven', 'other', 'weeks']\n",
      "Average loss at step  162000 :  4.61751445639\n",
      "['two', 'three', 'four', 'five', 'several', 'six', 'ten', 'seven', 'weeks', 'other']\n",
      "Average loss at step  164000 :  4.72487775898\n",
      "['two', 'three', 'four', 'five', 'several', 'ten', 'six', 'seven', 'other', 'weeks']\n",
      "Average loss at step  166000 :  4.84070093119\n",
      "['two', 'three', 'four', 'five', 'several', 'ten', 'six', 'seven', 'other', 'months']\n",
      "Average loss at step  168000 :  4.76933892608\n",
      "['two', 'three', 'four', 'five', 'several', 'ten', 'six', 'seven', 'months', 'weeks']\n",
      "Average loss at step  170000 :  4.68878180707\n",
      "['two', 'three', 'four', 'five', 'several', 'ten', 'six', 'seven', 'older', 'months']\n",
      "Average loss at step  172000 :  4.59497552693\n",
      "['two', 'three', 'four', 'five', 'several', 'ten', 'six', 'seven', 'types', 'older']\n",
      "Average loss at step  174000 :  4.62765160859\n",
      "['two', 'three', 'four', 'five', 'several', 'six', 'ten', 'seven', 'types', 'older']\n",
      "Average loss at step  176000 :  4.62453811955\n",
      "['two', 'four', 'three', 'five', 'several', 'ten', 'six', 'seven', 'older', 'types']\n",
      "Average loss at step  178000 :  4.53282852066\n",
      "['two', 'four', 'three', 'five', 'several', 'six', 'ten', 'seven', 'older', 'thousand']\n",
      "Average loss at step  180000 :  4.73846170652\n",
      "['two', 'four', 'three', 'five', 'several', 'six', 'ten', 'seven', 'older', 'fifty']\n",
      "Average loss at step  182000 :  4.77194026864\n",
      "['two', 'four', 'three', 'five', 'six', 'several', 'ten', 'seven', 'fifty', 'older']\n",
      "Average loss at step  184000 :  4.75352352595\n",
      "['two', 'four', 'three', 'five', 'ten', 'six', 'several', 'seven', 'few', 'fifty']\n",
      "Average loss at step  186000 :  4.72880298615\n",
      "['two', 'four', 'three', 'five', 'ten', 'several', 'six', 'seven', 'few', 'fifty']\n",
      "Average loss at step  188000 :  4.7157142247\n",
      "['two', 'four', 'three', 'five', 'several', 'ten', 'six', 'seven', 'few', 'fifty']\n",
      "Average loss at step  190000 :  4.74043102932\n",
      "['two', 'four', 'three', 'five', 'ten', 'several', 'six', 'seven', 'few', 'fifty']\n",
      "Average loss at step  192000 :  4.72107156873\n",
      "['two', 'four', 'three', 'five', 'ten', 'several', 'six', 'few', 'seven', 'fifty']\n",
      "Average loss at step  194000 :  4.77077110696\n",
      "['two', 'four', 'three', 'five', 'several', 'ten', 'six', 'few', 'fifty', 'seven']\n",
      "Average loss at step  196000 :  4.74930726993\n",
      "['two', 'four', 'three', 'five', 'ten', 'several', 'six', 'few', 'fifty', 'seven']\n",
      "Average loss at step  198000 :  4.74420853496\n",
      "['two', 'four', 'three', 'five', 'several', 'six', 'ten', 'few', 'seven', 'fifty']\n"
     ]
    }
   ],
   "source": [
    "num_steps = 200000\n",
    "MODEL = './model/brown-Words2Vec-{}.ckpt'.format(DIMENSION)\n",
    "\n",
    "with tf.Session(graph=graph) as session:\n",
    "    init.run()\n",
    "      \n",
    "    average_loss = 0\n",
    "    for step in range(num_steps):\n",
    "        batch_inputs, batch_labels = next(generator)\n",
    "        feed_dict = {inputs: batch_inputs, labels: batch_labels}\n",
    "\n",
    "        _, loss_val = session.run([optimizer, loss], feed_dict=feed_dict)\n",
    "        average_loss += loss_val\n",
    "\n",
    "        if step % 2000 == 0:\n",
    "            if step > 0:\n",
    "                average_loss /= 2000\n",
    "                print('Average loss at step ', step, ': ', average_loss)\n",
    "                average_loss = 0\n",
    "                \n",
    "                emb = embeddings.eval()\n",
    "                normalize(emb, norm='l2', axis=1, copy=False)\n",
    "                words_vec = {}\n",
    "                for i in range(emb.shape[0]):\n",
    "                    words_vec[inv_words_dict[i]] = emb[i]\n",
    "                print(cloestWord('two', words_vec, method='cos'))\n",
    "                \n",
    "                \n",
    "    save_path = word2VecSaver.save(session, MODEL)\n",
    "    final_embeddings = embeddings.eval()"
   ]
  },
  {
   "cell_type": "code",
   "execution_count": 32,
   "metadata": {
    "collapsed": false,
    "deletable": true,
    "editable": true
   },
   "outputs": [
    {
     "name": "stdout",
     "output_type": "stream",
     "text": [
      "(49815, 50)\n"
     ]
    }
   ],
   "source": [
    "from sklearn.preprocessing import normalize\n",
    "\n",
    "normalize(final_embeddings, norm='l2', axis=1, copy=False)\n",
    "print(final_embeddings.shape)"
   ]
  },
  {
   "cell_type": "code",
   "execution_count": 33,
   "metadata": {
    "collapsed": false,
    "deletable": true,
    "editable": true
   },
   "outputs": [
    {
     "data": {
      "text/plain": [
       "1.0000000543524834"
      ]
     },
     "execution_count": 33,
     "metadata": {},
     "output_type": "execute_result"
    }
   ],
   "source": [
    "sum((final_embeddings[2] ** 2))"
   ]
  },
  {
   "cell_type": "code",
   "execution_count": 34,
   "metadata": {
    "collapsed": true,
    "deletable": true,
    "editable": true
   },
   "outputs": [],
   "source": [
    "words_vec = {}\n",
    "for i in range(final_embeddings.shape[0]):\n",
    "    words_vec[inv_words_dict[i]] = final_embeddings[i]"
   ]
  },
  {
   "cell_type": "code",
   "execution_count": 35,
   "metadata": {
    "collapsed": true,
    "deletable": true,
    "editable": true
   },
   "outputs": [],
   "source": [
    "def plotData(vocabs, X, Y):\n",
    "    plt.clf()\n",
    "    plt.figure(figsize=(36, 36))\n",
    "    plt.scatter(X, Y)\n",
    "    plt.axis([min(X), max(X), min(Y), max(Y)])\n",
    "    for label, x, y in zip(vocabs, X, Y):\n",
    "        plt.annotate(label, xy=(x, y), xytext=(0, 0), textcoords='offset points')\n",
    "    plt.show()    "
   ]
  },
  {
   "cell_type": "code",
   "execution_count": 36,
   "metadata": {
    "collapsed": true,
    "deletable": true,
    "editable": true
   },
   "outputs": [],
   "source": [
    "def plot(vocabs, words_vec):\n",
    "    X = [words_vec[vocab][0] for vocab in vocabs]\n",
    "    Y = [words_vec[vocab][1] for vocab in vocabs]\n",
    "    plotData(vocabs, X, Y)"
   ]
  },
  {
   "cell_type": "code",
   "execution_count": 37,
   "metadata": {
    "collapsed": true,
    "deletable": true,
    "editable": true
   },
   "outputs": [],
   "source": [
    "def plotTSNE(vocabs, vectors):\n",
    "    tsne = TSNE(perplexity=30, n_components=2, n_iter=5000, random_state = 7890, method='exact')\n",
    "    #np.set_printoptions(suppress=True)\n",
    "    data = np.array([vectors[vocab] for vocab in vocabs])    \n",
    "    DATA = tsne.fit_transform(data)\n",
    "    X = DATA[:, 0]\n",
    "    Y = DATA[:, 1]\n",
    "    \n",
    "    plotData(vocabs, X, Y)"
   ]
  },
  {
   "cell_type": "code",
   "execution_count": 38,
   "metadata": {
    "collapsed": false,
    "deletable": true,
    "editable": true
   },
   "outputs": [
    {
     "name": "stdout",
     "output_type": "stream",
     "text": [
      "Start: Loading Glove Model\n",
      "End: Loaded 400000 rows.\n"
     ]
    }
   ],
   "source": [
    "from DataLoader import GloVe\n",
    "\n",
    "glove = GloVe.load2('./data/GloVe/glove.6B.50d.txt')"
   ]
  },
  {
   "cell_type": "code",
   "execution_count": 39,
   "metadata": {
    "collapsed": false,
    "deletable": true,
    "editable": true
   },
   "outputs": [
    {
     "name": "stdout",
     "output_type": "stream",
     "text": [
      "1611\n"
     ]
    }
   ],
   "source": [
    "vocabs = ['man', 'woman', 'king', 'queen', 'male', 'female', 'boy', 'girl']\n",
    "np.random.seed(1234)\n",
    "\n",
    "random_vocabs = []\n",
    "for i in np.random.randint(0, len(words_dict), 2000):\n",
    "    if inv_words_dict[i] in glove.keys():\n",
    "        random_vocabs.append(inv_words_dict[i])\n",
    "        \n",
    "print(len(random_vocabs))"
   ]
  },
  {
   "cell_type": "code",
   "execution_count": 40,
   "metadata": {
    "collapsed": false,
    "deletable": true,
    "editable": true
   },
   "outputs": [],
   "source": [
    "#plotTSNE(random_vocabs, words_vec)"
   ]
  },
  {
   "cell_type": "code",
   "execution_count": 41,
   "metadata": {
    "collapsed": false,
    "deletable": true,
    "editable": true
   },
   "outputs": [],
   "source": [
    "#plotTSNE(random_vocabs, glove)"
   ]
  },
  {
   "cell_type": "code",
   "execution_count": 42,
   "metadata": {
    "collapsed": false,
    "deletable": true,
    "editable": true
   },
   "outputs": [
    {
     "name": "stdout",
     "output_type": "stream",
     "text": [
      "['man', 'woman', 'boy', 'girl', 'person', 'child', 'anyone', 'wife', 'husband', 'existed']\n",
      "['man', 'woman', 'another', 'boy', 'one', 'old', 'turned', 'whose', 'himself', 'who']\n"
     ]
    }
   ],
   "source": [
    "print(cloestWord('man', words_vec, method='cos'))\n",
    "print(cloestWord('man', glove))"
   ]
  },
  {
   "cell_type": "code",
   "execution_count": 43,
   "metadata": {
    "collapsed": false,
    "deletable": true,
    "editable": true
   },
   "outputs": [
    {
     "name": "stdout",
     "output_type": "stream",
     "text": [
      "['woman', 'girl', 'child', 'boy', 'person', 'man', 'fool', 'switch', 'teacher', 'lady']\n",
      "['woman', 'girl', 'man', 'mother', 'boy', 'her', 'she', 'herself', 'victim', 'child']\n"
     ]
    }
   ],
   "source": [
    "print(cloestWord('woman', words_vec, method='cos'))\n",
    "print(cloestWord('woman', glove))"
   ]
  },
  {
   "cell_type": "code",
   "execution_count": 44,
   "metadata": {
    "collapsed": false,
    "deletable": true,
    "editable": true
   },
   "outputs": [
    {
     "name": "stdout",
     "output_type": "stream",
     "text": [
      "['however', 'nevertheless', 'moreover', 'indeed', 'therefore', 'course', 'besides', 'furthermore', 'instance', 'thus']\n",
      "['however', 'although', 'though', 'as', 'both', 'latter', 'also', '.', 'same', 'fact']\n"
     ]
    }
   ],
   "source": [
    "print(cloestWord('however', words_vec, method='cos'))\n",
    "print(cloestWord('however', glove))"
   ]
  },
  {
   "cell_type": "code",
   "execution_count": 45,
   "metadata": {
    "collapsed": false,
    "deletable": true,
    "editable": true
   },
   "outputs": [
    {
     "name": "stdout",
     "output_type": "stream",
     "text": [
      "['his', 'my', 'their', 'her', 'your', 'its', 'our', 'own', 'blue', \"one's\"]\n",
      "['his', 'he', 'himself', 'him', 'took', 'came', 'her', 'when', 'having', 'she']\n"
     ]
    }
   ],
   "source": [
    "print(cloestWord('his', words_vec, method='cos'))\n",
    "print(cloestWord('his', glove))"
   ]
  },
  {
   "cell_type": "code",
   "execution_count": 46,
   "metadata": {
    "collapsed": false,
    "deletable": true,
    "editable": true
   },
   "outputs": [
    {
     "name": "stdout",
     "output_type": "stream",
     "text": [
      "['zero', 'bed', 'desk', 'tomorrow', 'occasion', 'burned', 'breakfast', 'mirror', 'sleep', 'leg']\n",
      "['zero', 'mean', 'assuming', 'hence', 'actual', 'approaching', 'comparable', 'measured', 'limit', 'comparison']\n"
     ]
    }
   ],
   "source": [
    "print(cloestWord('zero', words_vec, method='cos'))\n",
    "print(cloestWord('zero', glove))"
   ]
  },
  {
   "cell_type": "code",
   "execution_count": 47,
   "metadata": {
    "collapsed": false,
    "deletable": true,
    "editable": true
   },
   "outputs": [
    {
     "name": "stdout",
     "output_type": "stream",
     "text": [
      "['one', 'some', 'each', 'none', 'regardless', 'any', 'plenty', 'parts', 'content', 'spite']\n",
      "['one', 'another', 'only', 'same', '.', 'as', 'well', 'but', 'with', 'making']\n"
     ]
    }
   ],
   "source": [
    "print(cloestWord('one', words_vec, method='cos'))\n",
    "print(cloestWord('one', glove))"
   ]
  },
  {
   "cell_type": "code",
   "execution_count": 48,
   "metadata": {
    "collapsed": false,
    "deletable": true,
    "editable": true
   },
   "outputs": [
    {
     "name": "stdout",
     "output_type": "stream",
     "text": [
      "['two', 'four', 'three', 'five', 'several', 'six', 'ten', 'few', 'seven', 'fifty']\n",
      "['two', 'three', 'four', 'five', 'six', 'seven', 'eight', 'nine', 'with', 'several']\n"
     ]
    }
   ],
   "source": [
    "print(cloestWord('two', words_vec, method='cos'))\n",
    "print(cloestWord('two', glove))"
   ]
  },
  {
   "cell_type": "code",
   "execution_count": null,
   "metadata": {
    "collapsed": true
   },
   "outputs": [],
   "source": []
  },
  {
   "cell_type": "code",
   "execution_count": null,
   "metadata": {
    "collapsed": true
   },
   "outputs": [],
   "source": []
  }
 ],
 "metadata": {
  "kernelspec": {
   "display_name": "Python 3",
   "language": "python",
   "name": "python3"
  },
  "language_info": {
   "codemirror_mode": {
    "name": "ipython",
    "version": 3
   },
   "file_extension": ".py",
   "mimetype": "text/x-python",
   "name": "python",
   "nbconvert_exporter": "python",
   "pygments_lexer": "ipython3",
   "version": "3.5.2+"
  }
 },
 "nbformat": 4,
 "nbformat_minor": 2
}
