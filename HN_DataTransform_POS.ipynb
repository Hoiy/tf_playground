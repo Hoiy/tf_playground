{
 "cells": [
  {
   "cell_type": "code",
   "execution_count": 5,
   "metadata": {
    "collapsed": false
   },
   "outputs": [],
   "source": [
    "import pandas as pd\n",
    "\n",
    "FILE = \"/Users/Shared/data/HN_posts_year_to_Sep_26_2016.csv\"\n",
    "SIZE = 20000\n",
    "VIRAL_THRESHOLD = 25\n",
    "\n",
    "data = pd.read_csv(FILE)\n",
    "data = data.sample(SIZE)"
   ]
  },
  {
   "cell_type": "code",
   "execution_count": 6,
   "metadata": {
    "collapsed": false
   },
   "outputs": [],
   "source": [
    "data = data[['title', 'num_points']]"
   ]
  },
  {
   "cell_type": "code",
   "execution_count": 7,
   "metadata": {
    "collapsed": false
   },
   "outputs": [],
   "source": [
    "viral = data[\"num_points\"].apply(lambda x: pd.Series(1 if x >= VIRAL_THRESHOLD else 0))\n",
    "viral.columns=[\"viral\"]"
   ]
  },
  {
   "cell_type": "code",
   "execution_count": 8,
   "metadata": {
    "collapsed": false
   },
   "outputs": [
    {
     "data": {
      "text/html": [
       "<div>\n",
       "<table border=\"1\" class=\"dataframe\">\n",
       "  <thead>\n",
       "    <tr style=\"text-align: right;\">\n",
       "      <th></th>\n",
       "      <th>viral</th>\n",
       "    </tr>\n",
       "  </thead>\n",
       "  <tbody>\n",
       "    <tr>\n",
       "      <th>count</th>\n",
       "      <td>20000.000000</td>\n",
       "    </tr>\n",
       "    <tr>\n",
       "      <th>mean</th>\n",
       "      <td>0.099900</td>\n",
       "    </tr>\n",
       "    <tr>\n",
       "      <th>std</th>\n",
       "      <td>0.299874</td>\n",
       "    </tr>\n",
       "    <tr>\n",
       "      <th>min</th>\n",
       "      <td>0.000000</td>\n",
       "    </tr>\n",
       "    <tr>\n",
       "      <th>25%</th>\n",
       "      <td>0.000000</td>\n",
       "    </tr>\n",
       "    <tr>\n",
       "      <th>50%</th>\n",
       "      <td>0.000000</td>\n",
       "    </tr>\n",
       "    <tr>\n",
       "      <th>75%</th>\n",
       "      <td>0.000000</td>\n",
       "    </tr>\n",
       "    <tr>\n",
       "      <th>max</th>\n",
       "      <td>1.000000</td>\n",
       "    </tr>\n",
       "  </tbody>\n",
       "</table>\n",
       "</div>"
      ],
      "text/plain": [
       "              viral\n",
       "count  20000.000000\n",
       "mean       0.099900\n",
       "std        0.299874\n",
       "min        0.000000\n",
       "25%        0.000000\n",
       "50%        0.000000\n",
       "75%        0.000000\n",
       "max        1.000000"
      ]
     },
     "execution_count": 8,
     "metadata": {},
     "output_type": "execute_result"
    }
   ],
   "source": [
    "#skew checking\n",
    "viral.describe()"
   ]
  },
  {
   "cell_type": "code",
   "execution_count": null,
   "metadata": {
    "collapsed": false
   },
   "outputs": [],
   "source": [
    "from nltk.tokenize import StanfordTokenizer\n",
    "from nltk.tag import StanfordPOSTagger\n",
    "\n",
    "st = StanfordPOSTagger('english-bidirectional-distsim.tagger')\n",
    "\n",
    "import numpy as np\n",
    "title = data[\"title\"].apply(lambda x: pd.Series([y[1] for y in st.tag(StanfordTokenizer().tokenize(x))]))\n",
    "title"
   ]
  },
  {
   "cell_type": "code",
   "execution_count": null,
   "metadata": {
    "collapsed": false
   },
   "outputs": [],
   "source": [
    "dic = {};\n",
    "\n",
    "def get_mapping(token, dic):\n",
    "    if not dic.get(token):\n",
    "        dic[token] = len(dic);\n",
    "    return dic[token]\n",
    "\n",
    "title_emb = title.applymap(lambda x: get_mapping(x, dic) )\n",
    "print(dic)\n",
    "title_emb"
   ]
  },
  {
   "cell_type": "code",
   "execution_count": null,
   "metadata": {
    "collapsed": false
   },
   "outputs": [],
   "source": [
    "hn_data = viral\n",
    "for i in range(len(title_emb)):\n",
    "    hn_data = hn_data.join(title_emb[i])"
   ]
  },
  {
   "cell_type": "code",
   "execution_count": null,
   "metadata": {
    "collapsed": false
   },
   "outputs": [],
   "source": [
    "testing_data = hn_data.sample(frac=0.2)\n",
    "training_data = hn_data.drop(testing_data.index)\n",
    "\n",
    "testing_data.to_csv('./hn_testing_pos_%d_%d.csv' % (SIZE, VIRAL_THRESHOLD), header=False, index=False)\n",
    "training_data.to_csv('./hn_training_pos_%d_%d.csv' % (SIZE, VIRAL_THRESHOLD), header=False, index=False)"
   ]
  },
  {
   "cell_type": "code",
   "execution_count": null,
   "metadata": {
    "collapsed": true
   },
   "outputs": [],
   "source": []
  }
 ],
 "metadata": {
  "anaconda-cloud": {},
  "kernelspec": {
   "display_name": "Python 3",
   "language": "python",
   "name": "python3"
  },
  "language_info": {
   "codemirror_mode": {
    "name": "ipython",
    "version": 3
   },
   "file_extension": ".py",
   "mimetype": "text/x-python",
   "name": "python",
   "nbconvert_exporter": "python",
   "pygments_lexer": "ipython3",
   "version": "3.5.2"
  }
 },
 "nbformat": 4,
 "nbformat_minor": 1
}
