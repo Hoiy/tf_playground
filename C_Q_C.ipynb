{
 "cells": [
  {
   "cell_type": "code",
   "execution_count": 1,
   "metadata": {
    "collapsed": false,
    "deletable": true,
    "editable": true
   },
   "outputs": [],
   "source": [
    "from Utils.FS import file\n",
    "from Utils.tensorflow_helper import show_graph\n",
    "from nltk.tokenize.punkt import PunktSentenceTokenizer\n",
    "from nltk.tokenize import word_tokenize\n",
    "from nltk.corpus import brown\n",
    "from scipy.sparse import coo_matrix, dok_matrix\n",
    "from scipy.sparse.linalg import svds\n",
    "from sklearn.preprocessing import normalize\n",
    "import matplotlib.pyplot as plt\n",
    "import numpy as np\n",
    "from sklearn.manifold import TSNE\n",
    "from wordcloud import WordCloud\n",
    "from nltk.corpus import stopwords\n",
    "import tensorflow as tf\n",
    "import math\n",
    "import TextPreprocess.words2dict as words2dict\n",
    "from tensorflow.python.layers import core as layers_core\n",
    "from tensorflow.python.client import timeline\n",
    "import time\n",
    "from DataLoader import GloVe\n",
    "from TextPreprocess.sequences import Sequences\n",
    "from TextPreprocess.Tokenizer.RegExp import tokenize\n",
    "import Utils.pandas_helper as ph"
   ]
  },
  {
   "cell_type": "code",
   "execution_count": 2,
   "metadata": {
    "collapsed": true,
    "deletable": true,
    "editable": true
   },
   "outputs": [],
   "source": [
    "np.random.seed(1234)\n",
    "BATCH_SIZE = 16\n",
    "WORD_DIM = 50"
   ]
  },
  {
   "cell_type": "code",
   "execution_count": 3,
   "metadata": {
    "collapsed": false
   },
   "outputs": [],
   "source": [
    "train = file.read('data/Quora/train.csv')"
   ]
  },
  {
   "cell_type": "code",
   "execution_count": 4,
   "metadata": {
    "collapsed": false
   },
   "outputs": [
    {
     "name": "stdout",
     "output_type": "stream",
     "text": [
      "Start: Loading Glove Model\n",
      "End: Loaded 400000 rows.\n"
     ]
    }
   ],
   "source": [
    "glove = GloVe.load2('./data/Glove/glove.6B.{}d.txt'.format(WORD_DIM))"
   ]
  },
  {
   "cell_type": "code",
   "execution_count": 5,
   "metadata": {
    "collapsed": false
   },
   "outputs": [
    {
     "data": {
      "text/plain": [
       "50"
      ]
     },
     "execution_count": 5,
     "metadata": {},
     "output_type": "execute_result"
    }
   ],
   "source": [
    "len(glove['the'])"
   ]
  },
  {
   "cell_type": "code",
   "execution_count": 6,
   "metadata": {
    "collapsed": false
   },
   "outputs": [
    {
     "name": "stdout",
     "output_type": "stream",
     "text": [
      "Embedding Dimension: 50\n",
      "Embedding Symbols: 400003\n",
      "Index to symbol: [(0, 'suebic'), (1, 'legard'), (2, 'fosco'), (3, 'idol'), (4, 'indistinguishability'), (5, 'ecast'), (6, 'cheddington'), (7, 'three-axis'), (8, 'delasalle'), (9, '16:14')]\n"
     ]
    }
   ],
   "source": [
    "# emb: Symbol to float32 of fixed DIMENSION\n",
    "# Create an index mapping, index to symbol, symbol to index\n",
    "\n",
    "class Embedding:\n",
    "    def __init__(self, emb, verbose = False):\n",
    "        # assert emb is dictionary and each entry has same dimension\n",
    "        self.emb = emb\n",
    "        self.dim = len(self.emb[list(self.emb.keys())[0]])\n",
    "        self.emb['<UNK>'] = [0. for i in range(self.dim)]\n",
    "        self.emb['<PAD>'] = [1. for i in range(self.dim)]\n",
    "        self.emb['<GO>'] = [-1. for i in range(self.dim)]\n",
    "        \n",
    "        self.build_dicts()\n",
    "        \n",
    "        if verbose:\n",
    "            self.describe()\n",
    "        \n",
    "    def describe(self):\n",
    "        print('Embedding Dimension: {}'.format(self.dim))\n",
    "        print('Embedding Symbols: {}'.format(len(self.emb)))\n",
    "        print('Index to symbol: {}'.format([(i, self.idx2Sym[i]) for i in range(10)]))\n",
    "        \n",
    "    def getIndex(self, symbol):\n",
    "        if symbol in self.sym2Idx:\n",
    "            return self.sym2Idx[symbol]\n",
    "        else:\n",
    "            return self.sym2Idx['<UNK>']\n",
    "\n",
    "    def getEmb(self, symbol):\n",
    "        return self.emb[self.idx2Sym[self.getIndex(symbol)]]\n",
    "    \n",
    "    def getSymbols(self, indices):\n",
    "        return [self.idx2Sym[idx] for idx in indices]\n",
    "\n",
    "    def getNumpyArray(self):\n",
    "        return np.array([self.emb[self.idx2Sym[idx]] for idx in range(len(self.emb))])\n",
    "    \n",
    "    def build_dicts(self):\n",
    "        self.sym2Idx = {}\n",
    "        index = 0\n",
    "        for key in self.emb.keys():\n",
    "            self.sym2Idx[key] = index\n",
    "            index += 1\n",
    "            \n",
    "        self.idx2Sym = { v:k for k, v in self.sym2Idx.items()}\n",
    "\n",
    "glove_emb = Embedding(glove, verbose=True)"
   ]
  },
  {
   "cell_type": "code",
   "execution_count": 7,
   "metadata": {
    "collapsed": false
   },
   "outputs": [
    {
     "name": "stdout",
     "output_type": "stream",
     "text": [
      "Number of training samples:  404290\n"
     ]
    }
   ],
   "source": [
    "# print(train['is_duplicate'].describe())\n",
    "# print(train.sample(15))\n",
    "# print(train.iloc[261849]['question1'])\n",
    "# print(train.iloc[261849]['question2'])\n",
    "# print(train.iloc[261849]['is_duplicate'])\n",
    "print('Number of training samples: ', len(train))"
   ]
  },
  {
   "cell_type": "code",
   "execution_count": 8,
   "metadata": {
    "collapsed": true
   },
   "outputs": [],
   "source": [
    "def preprocess(string):\n",
    "    return [glove_emb.getIndex(token.lower()) for token in tokenize(string)]\n",
    "\n",
    "def preprocessLabels(val):\n",
    "    return [1., 0.] if val == 0 else [0., 1.]"
   ]
  },
  {
   "cell_type": "code",
   "execution_count": 9,
   "metadata": {
    "collapsed": false
   },
   "outputs": [],
   "source": [
    "q1 = ph.parallel_apply(train['question1'].astype(str), preprocess)\n",
    "q2 = ph.parallel_apply(train['question2'].astype(str), preprocess)\n",
    "labels = ph.parallel_apply(train['is_duplicate'].astype('float32'), preprocessLabels)"
   ]
  },
  {
   "cell_type": "code",
   "execution_count": 10,
   "metadata": {
    "collapsed": false
   },
   "outputs": [
    {
     "name": "stdout",
     "output_type": "stream",
     "text": [
      "Size: 404290\n",
      "Longest sequence length: 140\n"
     ]
    },
    {
     "data": {
      "image/png": "[encoded data removed]",
      "text/plain": [
       "<matplotlib.figure.Figure at 0x1193fdb00>"
      ]
     },
     "metadata": {},
     "output_type": "display_data"
    },
    {
     "name": "stdout",
     "output_type": "stream",
     "text": [
      "Size: 404290\n",
      "Longest sequence length: 271\n"
     ]
    },
    {
     "data": {
      "image/png": "[encoded data removed]",
      "text/plain": [
       "<matplotlib.figure.Figure at 0x1755cccf8>"
      ]
     },
     "metadata": {},
     "output_type": "display_data"
    },
    {
     "name": "stdout",
     "output_type": "stream",
     "text": [
      "Size: 404290\n",
      "Longest sequence length: 2\n"
     ]
    },
    {
     "data": {
      "image/png": "[encoded data removed]",
      "text/plain": [
       "<matplotlib.figure.Figure at 0x1684ff358>"
      ]
     },
     "metadata": {},
     "output_type": "display_data"
    }
   ],
   "source": [
    "# Turns iteratable of symbols into padded batch\n",
    "from functools import lru_cache\n",
    "\n",
    "class Batcher:\n",
    "    def __init__(self, sequences, verbose = False):\n",
    "        self.seqs = sequences\n",
    "        self.verbose = verbose\n",
    "        self.size = len(self.seqs)\n",
    "        self.seq_lens = [len(seq) for seq in self.seqs]\n",
    "        \n",
    "        if self.verbose:\n",
    "            self.describe()\n",
    "    \n",
    "    @lru_cache(maxsize=None)\n",
    "    def max_length(self):\n",
    "        return max(self.seq_lens)\n",
    "    \n",
    "    @lru_cache(maxsize=None)\n",
    "    def longgest_sequence(self):\n",
    "        for seq in self.seqs:\n",
    "            if len(seq) == self.max_length():\n",
    "                return seq\n",
    "    \n",
    "    def describe(self):\n",
    "        print('Size: {}'.format(self.size))\n",
    "        print(\"Longest sequence length: {}\".format(self.max_length()))\n",
    "        bin_width = max(1, self.max_length() // 30)\n",
    "        plt.hist(self.seq_lens, range(0, self.max_length() + bin_width, bin_width))\n",
    "        plt.title('Sequence length distribution')\n",
    "        plt.show()\n",
    "        \n",
    "    def batchPadding(self, batch, padding_symbol):\n",
    "        size = max([len(record) for record in batch])\n",
    "        result = np.full((len(batch), size), padding_symbol)\n",
    "        for i in range(len(batch)):\n",
    "            result[i][:len(batch[i])] = batch[i]\n",
    "        return result\n",
    "\n",
    "    def batchMask(self, batch):\n",
    "        size = max([len(record) for record in batch])\n",
    "        result = np.full((len(batch), size), 0.0)\n",
    "        for i in range(len(batch)):\n",
    "            result[i][:len(batch[i])] = 1.0\n",
    "        return result\n",
    "        \n",
    "    # Same length within the batch, stuffed with padding symbol\n",
    "    def generator(self, padding_symbol, batch_size=32, epouch=-1):\n",
    "        train = []\n",
    "        length = []\n",
    "        while(epouch < 0 or epouch > 0):\n",
    "            for seq in self.seqs:\n",
    "                train.append([sym for sym in seq])\n",
    "                length.append(len(seq))\n",
    "                if(len(train) == batch_size):\n",
    "                    yield self.batchPadding(train, padding_symbol), length, self.batchMask(train)\n",
    "                    train = []\n",
    "                    length = []\n",
    "            epouch -= 1\n",
    "            if self.verbose:\n",
    "                print('epouch done...')\n",
    "    \n",
    "q1_batcher = Batcher(q1, verbose=True)\n",
    "q2_batcher = Batcher(q2, verbose=True)\n",
    "labels_batcher = Batcher(labels, verbose=True)\n",
    "\n",
    "q1_gen = q1_batcher.generator(glove_emb.getIndex('<PAD>'), batch_size=BATCH_SIZE)\n",
    "q2_gen = q2_batcher.generator(glove_emb.getIndex('<PAD>'), batch_size=BATCH_SIZE)\n",
    "labels_gen = labels_batcher.generator(None, batch_size=BATCH_SIZE)"
   ]
  },
  {
   "cell_type": "code",
   "execution_count": 11,
   "metadata": {
    "collapsed": true
   },
   "outputs": [],
   "source": [
    "EMBEDDING = glove_emb.getNumpyArray()\n",
    "\n",
    "LV1_DIM = 100\n",
    "LV2_STEP = 10\n",
    "LV2_DIM = 100\n",
    "ENC_DIM = [100, 100]"
   ]
  },
  {
   "cell_type": "code",
   "execution_count": 12,
   "metadata": {
    "collapsed": false
   },
   "outputs": [],
   "source": [
    "#IN (batch, time, dim)\n",
    "def simple_dynamic_rnn(cell, inputs, lengths, scope):\n",
    "     with tf.variable_scope(scope):\n",
    "        outputs, states = tf.nn.dynamic_rnn(\n",
    "            cell, \n",
    "            inputs, \n",
    "            initial_state = cell.zero_state(tf.shape(inputs)[0], dtype=tf.float32),\n",
    "            dtype = tf.float32, \n",
    "            sequence_length = lengths\n",
    "        )\n",
    "        \n",
    "        batch_size = tf.shape(inputs)[0]\n",
    "        step_size = tf.shape(inputs)[1]\n",
    "        indices = tf.range(0, batch_size) * step_size + (lengths - 1)\n",
    "        gather = tf.reshape(tf.gather(tf.reshape(outputs, [-1, cell.output_size]), indices), [-1, cell.output_size])\n",
    "        return gather\n",
    "#OUT (batch, dim)"
   ]
  },
  {
   "cell_type": "code",
   "execution_count": 13,
   "metadata": {
    "collapsed": false
   },
   "outputs": [
    {
     "name": "stdout",
     "output_type": "stream",
     "text": [
      "Tensor(\"Final_Prediction/concat:0\", shape=(?, 200), dtype=float32)\n"
     ]
    },
    {
     "name": "stderr",
     "output_type": "stream",
     "text": [
      "/Users/Hoiy/anaconda/envs/tensorflow/lib/python3.5/site-packages/tensorflow/python/ops/gradients_impl.py:93: UserWarning: Converting sparse IndexedSlices to a dense Tensor of unknown shape. This may consume a large amount of memory.\n",
      "  \"Converting sparse IndexedSlices to a dense Tensor of unknown shape. \"\n"
     ]
    }
   ],
   "source": [
    "graph = tf.Graph()\n",
    "with graph.as_default():\n",
    "    \n",
    "    with tf.variable_scope(\"Inputs\"):\n",
    "    \n",
    "        #IN\n",
    "        inputs = [tf.placeholder(tf.int32, (None, None), name = \"Q{}_Word_Indices\".format(i+1)) for i in range(2)]\n",
    "        #OUT: (batch, time) int32\n",
    "        \n",
    "        batch_size = [tf.shape(inputs[i], name= \"Q{}_Batch_Size\".format(i+1))[0] for i in range(2)]\n",
    "        steps = [tf.shape(inputs[i], name= \"Q{}_Steps\".format(i+1))[1] for i in range(2)]\n",
    "        \n",
    "        #IN\n",
    "        input_lengths = [tf.placeholder(tf.int32, (None), name = \"Q{}_Lengths\".format(i+1)) for i in range(2)]\n",
    "        #OUT: (batch) int32\n",
    "        \n",
    "        truth = tf.placeholder(tf.float32, (None, 2), name = \"labels\")\n",
    "        \n",
    "    with tf.variable_scope(\"Embedding\"):\n",
    "        \n",
    "        embeddings = tf.get_variable(\"embeddings\", shape=EMBEDDING.shape, initializer=tf.constant_initializer(EMBEDDING), trainable=False)\n",
    "        encoder_inputs = [tf.nn.embedding_lookup(embeddings, inputs[i]) for i in range(2)] \n",
    "        #OUT: (batch, time, dim) float32\n",
    "        \n",
    "    with tf.variable_scope(\"Level_1_RNN\"):\n",
    "        \n",
    "        rnn_output_1 = [[simple_dynamic_rnn(\n",
    "                    cell = tf.contrib.rnn.GRUCell(\n",
    "                        LV1_DIM, \n",
    "                        reuse = True if i == 1 else None\n",
    "                    ),\n",
    "                    inputs = encoder_inputs[i],\n",
    "                    lengths = input_lengths[i],\n",
    "                    scope = '{}'.format(step)\n",
    "                ) for step in range(LV2_STEP)] for i in range(2)]\n",
    "        # OUT: rnn_output[LV2_STEP][LV1_DIM]\n",
    "        # (time, batch, dim) float32\n",
    "        \n",
    "    with tf.variable_scope(\"Level_2_RNN\"):\n",
    "        \n",
    "        rnn_input_2 = [tf.transpose(rnn_output_1[i], [1, 0, 2]) for i in range(2)]\n",
    "        # (batch, time, dim)\n",
    "        \n",
    "        rnn_output_2 = [simple_dynamic_rnn(\n",
    "                    cell = tf.contrib.rnn.GRUCell(\n",
    "                        LV2_DIM,\n",
    "                        reuse = True if i == 1 else None\n",
    "                    ),\n",
    "                    inputs = rnn_input_2[i],\n",
    "                    lengths = tf.fill(tf.shape(input_lengths[i]), LV2_STEP),\n",
    "                    scope = 'L2',\n",
    "                ) for i in range(2)]\n",
    "        # OUT: [2](batch, LV2_DIM)\n",
    "        \n",
    "    with tf.variable_scope(\"Final_Prediction\"):\n",
    "        final_input = tf.concat([rnn_output_2[0], rnn_output_2[1]], 1)\n",
    "        \n",
    "        print(final_input)\n",
    "        \n",
    "        predict = tf.layers.dense(\n",
    "            inputs=final_input,\n",
    "            units=2,\n",
    "            activation=tf.nn.softmax,\n",
    "            use_bias=True,\n",
    "            kernel_initializer=None,\n",
    "            bias_initializer=tf.zeros_initializer(),\n",
    "            kernel_regularizer=None,\n",
    "            bias_regularizer=None,\n",
    "            activity_regularizer=None,\n",
    "            trainable=True,\n",
    "            name=None,\n",
    "            reuse=None\n",
    "        );\n",
    "        \n",
    "    loss = tf.reduce_mean(tf.contrib.keras.losses.binary_crossentropy(truth, predict))\n",
    "    optimizer = tf.train.AdamOptimizer().minimize(loss)\n",
    "    saver = tf.train.Saver()\n",
    "    tvars = tf.trainable_variables()"
   ]
  },
  {
   "cell_type": "code",
   "execution_count": 14,
   "metadata": {
    "collapsed": false
   },
   "outputs": [],
   "source": [
    "#show_graph(graph.as_graph_def())"
   ]
  },
  {
   "cell_type": "code",
   "execution_count": null,
   "metadata": {
    "collapsed": true,
    "deletable": true,
    "editable": true
   },
   "outputs": [],
   "source": [
    "num_steps = 2000000\n",
    "MODEL = './model/q.ckpt'"
   ]
  },
  {
   "cell_type": "code",
   "execution_count": null,
   "metadata": {
    "collapsed": false,
    "deletable": true,
    "editable": true,
    "scrolled": false
   },
   "outputs": [
    {
     "name": "stdout",
     "output_type": "stream",
     "text": [
      "INFO:tensorflow:Restoring parameters from ./model/q.ckpt\n",
      "Restored training...\n",
      "Model saved in file: ./model/q.ckpt\n",
      "Total time for 10 steps: 13.27s, each step: 1.33s\n",
      "Average mean loss at step  10 :  0.744602549076\n",
      "Model saved in file: ./model/q.ckpt\n",
      "Total time for 10 steps: 13.27s, each step: 1.33s\n",
      "Average mean loss at step  20 :  0.658996617794\n",
      "Model saved in file: ./model/q.ckpt\n",
      "Total time for 10 steps: 12.77s, each step: 1.28s\n",
      "Average mean loss at step  30 :  0.633934497833\n"
     ]
    }
   ],
   "source": [
    "DEBUG_SIZE = 10\n",
    "\n",
    "with tf.Session(graph=graph) as session:\n",
    "    try:\n",
    "        saver.restore(session, MODEL)\n",
    "        print('Restored training...')\n",
    "    except:\n",
    "        session.run(tf.global_variables_initializer())\n",
    "        print('Restarting training...')\n",
    "    \n",
    "    run_options = tf.RunOptions(trace_level=tf.RunOptions.FULL_TRACE)\n",
    "    run_metadata = tf.RunMetadata()\n",
    "    \n",
    "\n",
    "    \n",
    "    #tvars_vals = session.run(tvars)\n",
    "    #for var, val in zip(tvars, tvars_vals):\n",
    "    #    print(var.name, val)  # Prints the name of the variable alongside its value.\n",
    "\n",
    "    for name in session.run( tf.report_uninitialized_variables( tf.global_variables( ) ) ):\n",
    "        print(name)\n",
    "    \n",
    "    \n",
    "    average_loss = 0\n",
    "    average_max_loss = 0\n",
    "    start = time.time()\n",
    "    \n",
    "    for step in range(num_steps):\n",
    "        \n",
    "        train_q1, train_q1_lengths, _ = next(q1_gen)\n",
    "        train_q2, train_q2_lengths, _ = next(q2_gen)\n",
    "        train_labels, _, _ = next(labels_gen)\n",
    "        \n",
    "        feed_dict = {\n",
    "            inputs[0]: train_q1,\n",
    "            inputs[1]: train_q2,\n",
    "            input_lengths[0]: train_q1_lengths,\n",
    "            input_lengths[1]: train_q2_lengths,\n",
    "            truth: train_labels\n",
    "        }\n",
    "        \n",
    "        #_, loss_val = session.run([optimizer, loss], feed_dict=feed_dict, options=run_options, run_metadata=run_metadata)\n",
    "        _, loss_val = session.run([optimizer, loss], feed_dict=feed_dict)\n",
    "        average_loss += loss_val\n",
    "        \n",
    "        if step % DEBUG_SIZE == 0:\n",
    "            if step > 0:\n",
    "                average_loss /= DEBUG_SIZE\n",
    "                print('Total time for {0} steps: {1:.2f}s, each step: {2:.2f}s'.format(DEBUG_SIZE, time.time()-start, (time.time()-start) / DEBUG_SIZE))\n",
    "                print('Average mean loss at step ', step, ': ', average_loss)\n",
    "                average_loss = 0\n",
    "                start = time.time()\n",
    "                \n",
    "        if step % DEBUG_SIZE == 0:\n",
    "            save_path = saver.save(session, MODEL)\n",
    "            print(\"Model saved in file: %s\" % save_path)\n",
    "            \n",
    "            # Create the Timeline object, and write it to a json\n",
    "            tl = timeline.Timeline(run_metadata.step_stats)\n",
    "            ctf = tl.generate_chrome_trace_format()\n",
    "            with open('timeline.json', 'w') as f:\n",
    "                f.write(ctf)\n"
   ]
  },
  {
   "cell_type": "code",
   "execution_count": null,
   "metadata": {
    "collapsed": false,
    "deletable": true,
    "editable": true
   },
   "outputs": [],
   "source": [
    "with tf.Session(graph=graph) as session:\n",
    "    saver.restore(session, MODEL)\n",
    "    generator = sentenceGenerator(sents, words_dict, batch_size=2)\n",
    "    batch_inputs, batch_input_lengths, batch_masks = next(generator)\n",
    "    \n",
    "    feed_dict = {\n",
    "        inputs: batch_inputs,\n",
    "        input_lengths: batch_input_lengths,\n",
    "        decoder_masks: batch_masks\n",
    "    }\n",
    "    \n",
    "    feed_dict = {inputs: [\n",
    "        to_word_indices(['once', 'upon', 'a', 'time']), \n",
    "        to_word_indices(['this', 'cat', 'is', 'cute'])\n",
    "    ], input_lengths:[4, 4], decoder_masks: [[1, 1, 1, 1], [1,1,1,1]]}\n",
    "    \n",
    "    a, b, c = session.run([decoder_outputs.rnn_output, seq_loss, loss], feed_dict)\n",
    "    print('encoder_input: ', [inv_words_dict[out] for out in feed_dict[inputs][0]])\n",
    "    print('decoder_output: ', [inv_words_dict[word.argmax()] for word in project.eval({\n",
    "        project_input: a[0]\n",
    "    })])\n",
    "    print('encoder_input: ', [inv_words_dict[out] for out in feed_dict[inputs][1]])\n",
    "    print('decoder_output: ', [inv_words_dict[word.argmax()] for word in project.eval({\n",
    "        project_input: a[1]\n",
    "    })])\n",
    "    print(b)\n",
    "    print(c)\n",
    "    \n",
    "    #print(a[0][0].argsort())\n",
    "    #print('decoder_outputs: ', [inv_words_dict[out] for out in a[0]])\n",
    "    #print(b)\n",
    "    #print(c)"
   ]
  },
  {
   "cell_type": "code",
   "execution_count": null,
   "metadata": {
    "collapsed": true,
    "deletable": true,
    "editable": true
   },
   "outputs": [],
   "source": []
  }
 ],
 "metadata": {
  "kernelspec": {
   "display_name": "Python 3",
   "language": "python",
   "name": "python3"
  },
  "language_info": {
   "codemirror_mode": {
    "name": "ipython",
    "version": 3
   },
   "file_extension": ".py",
   "mimetype": "text/x-python",
   "name": "python",
   "nbconvert_exporter": "python",
   "pygments_lexer": "ipython3",
   "version": "3.5.2"
  }
 },
 "nbformat": 4,
 "nbformat_minor": 2
}
