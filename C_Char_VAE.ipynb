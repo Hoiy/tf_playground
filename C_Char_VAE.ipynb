{
 "cells": [
  {
   "cell_type": "markdown",
   "metadata": {
    "deletable": true,
    "editable": true
   },
   "source": [
    "# Character Level CNN"
   ]
  },
  {
   "cell_type": "code",
   "execution_count": 1,
   "metadata": {
    "collapsed": false,
    "deletable": true,
    "editable": true
   },
   "outputs": [
    {
     "name": "stderr",
     "output_type": "stream",
     "text": [
      "Using TensorFlow backend.\n"
     ]
    }
   ],
   "source": [
    "from TextPreprocess.Tokenizer.Stanford import tokenize\n",
    "from Utils.visual import hist, tally\n",
    "from Utils.debug import dump\n",
    "from Utils.generator import sliding_window_random_access, transform\n",
    "from Utils.FS.file import save, load\n",
    "from Utils.keras import compact_embedding\n",
    "from Utils.misc import batch\n",
    "from Utils.indexer import build_index, index_2_one_hot\n",
    "from keras.preprocessing.sequence import pad_sequences\n",
    "from keras_tqdm import TQDMNotebookCallback\n",
    "import numpy as np"
   ]
  },
  {
   "cell_type": "code",
   "execution_count": 2,
   "metadata": {
    "collapsed": false,
    "deletable": true,
    "editable": true
   },
   "outputs": [],
   "source": [
    "import nltk\n",
    "data = nltk.corpus.gutenberg.raw('austen-emma.txt')"
   ]
  },
  {
   "cell_type": "code",
   "execution_count": 3,
   "metadata": {
    "collapsed": false,
    "deletable": true,
    "editable": true
   },
   "outputs": [],
   "source": [
    "data = data[:len(data)]"
   ]
  },
  {
   "cell_type": "code",
   "execution_count": 4,
   "metadata": {
    "collapsed": true,
    "deletable": true,
    "editable": true
   },
   "outputs": [],
   "source": [
    "def char_generator():\n",
    "    for char in data:\n",
    "        yield char"
   ]
  },
  {
   "cell_type": "code",
   "execution_count": 5,
   "metadata": {
    "collapsed": false,
    "deletable": true,
    "editable": true
   },
   "outputs": [],
   "source": [
    "s2i, i2s, size = build_index(char_generator())"
   ]
  },
  {
   "cell_type": "code",
   "execution_count": 40,
   "metadata": {
    "collapsed": true,
    "deletable": true,
    "editable": true
   },
   "outputs": [],
   "source": [
    "#MAX_SEQ_LENGTH = max([len(word) for word in data])\n",
    "SEQ_LENGTH = 32"
   ]
  },
  {
   "cell_type": "code",
   "execution_count": 41,
   "metadata": {
    "collapsed": false,
    "deletable": true,
    "editable": true
   },
   "outputs": [
    {
     "data": {
      "text/plain": [
       "77"
      ]
     },
     "execution_count": 41,
     "metadata": {},
     "output_type": "execute_result"
    }
   ],
   "source": [
    "NUM_SYMBOL = size\n",
    "NUM_SYMBOL"
   ]
  },
  {
   "cell_type": "code",
   "execution_count": 42,
   "metadata": {
    "collapsed": false,
    "deletable": true,
    "editable": true
   },
   "outputs": [
    {
     "data": {
      "text/plain": [
       "887071"
      ]
     },
     "execution_count": 42,
     "metadata": {},
     "output_type": "execute_result"
    }
   ],
   "source": [
    "NUM_SAMPLE = len(data)\n",
    "NUM_SAMPLE"
   ]
  },
  {
   "cell_type": "code",
   "execution_count": 76,
   "metadata": {
    "collapsed": false,
    "deletable": true,
    "editable": true
   },
   "outputs": [],
   "source": [
    "from keras.layers import MaxPooling1D, Bidirectional, Input, GRU, LSTM, SimpleRNN, Conv1D, Conv2D, Conv2DTranspose, Dense, Flatten, Dropout, Reshape, Embedding, Concatenate\n",
    "from keras.models import Model, Sequential\n",
    "from keras.regularizers import l2\n",
    "from keras.optimizers import Adam\n",
    "from keras.constraints import unit_norm\n",
    "from keras.initializers import Identity\n",
    "import numpy as np\n",
    "import tensorflow as tf\n",
    "\n",
    "EMBEDDING_SIZE=100\n",
    "\n",
    "def create_baseline():\n",
    "    \n",
    "    activation = 'selu'\n",
    "    padding = 'valid'\n",
    "    use_bias = True\n",
    "    layer = 3\n",
    "    dim = [EMBEDDING_SIZE * 2, EMBEDDING_SIZE * 4, EMBEDDING_SIZE * 8, EMBEDDING_SIZE * 16, EMBEDDING_SIZE * 32]\n",
    "    kernel = [(1,2), (1,2), (1,2), (1,2), (1,2)]\n",
    "    strides = [(1,2), (1,2), (1,2), (1,2), (1,2)]\n",
    "\n",
    "    \n",
    "    gru_dim = 512\n",
    "    \n",
    "    inp = Input(shape=(SEQ_LENGTH,))\n",
    "    x = Embedding(NUM_SYMBOL, EMBEDDING_SIZE, input_length=SEQ_LENGTH, embeddings_constraint=unit_norm())(inp)\n",
    "    #x = Embedding(NUM_SYMBOL, NUM_SYMBOL, embeddings_initializer=Identity(), input_length=SEQ_LENGTH, embeddings_constraint=unit_norm(), trainable=False )(inp)    \n",
    "    print(x)\n",
    "\n",
    "    x = Reshape((1, SEQ_LENGTH, -1))(x)\n",
    "    for i in range(layer):\n",
    "        x = Conv2D(dim[i], kernel[i], strides=strides[i], padding=padding, activation=activation, use_bias=use_bias)(x)\n",
    "        print(x)\n",
    "        \n",
    "    x = Flatten()(x)\n",
    "    print(x)\n",
    "    \n",
    "    x = Reshape((1, 1, -1))(x)\n",
    "    \n",
    "    for i in reversed(range(layer)):\n",
    "        x = Conv2DTranspose(dim[i] // 2, kernel[i], strides=strides[i], padding=padding, activation=activation, use_bias=use_bias)(x)\n",
    "        print(x)\n",
    "    \n",
    "    x = Reshape((SEQ_LENGTH, -1))(x)\n",
    "    x = Dense(NUM_SYMBOL, activation='softmax')(x)\n",
    "    \n",
    "    model = Model(inp, x)\n",
    "    model.compile(loss='mean_squared_error',\n",
    "              optimizer='adam')\n",
    "    return model"
   ]
  },
  {
   "cell_type": "code",
   "execution_count": 77,
   "metadata": {
    "collapsed": false,
    "deletable": true,
    "editable": true
   },
   "outputs": [
    {
     "name": "stdout",
     "output_type": "stream",
     "text": [
      "Tensor(\"embedding_31/Gather:0\", shape=(?, 32, 100), dtype=float32)\n",
      "Tensor(\"conv2d_97/mul_1:0\", shape=(?, 1, 16, 200), dtype=float32)\n",
      "Tensor(\"conv2d_98/mul_1:0\", shape=(?, 1, 8, 400), dtype=float32)\n",
      "Tensor(\"conv2d_99/mul_1:0\", shape=(?, 1, 4, 800), dtype=float32)\n",
      "Tensor(\"flatten_7/Reshape:0\", shape=(?, ?), dtype=float32)\n",
      "Tensor(\"conv2d_transpose_102/mul_3:0\", shape=(?, ?, ?, 400), dtype=float32)\n",
      "Tensor(\"conv2d_transpose_103/mul_3:0\", shape=(?, ?, ?, 200), dtype=float32)\n",
      "Tensor(\"conv2d_transpose_104/mul_3:0\", shape=(?, ?, ?, 100), dtype=float32)\n",
      "_________________________________________________________________\n",
      "Layer (type)                 Output Shape              Param #   \n",
      "=================================================================\n",
      "input_31 (InputLayer)        (None, 32)                0         \n",
      "_________________________________________________________________\n",
      "embedding_31 (Embedding)     (None, 32, 100)           7700      \n",
      "_________________________________________________________________\n",
      "reshape_54 (Reshape)         (None, 1, 32, 100)        0         \n",
      "_________________________________________________________________\n",
      "conv2d_97 (Conv2D)           (None, 1, 16, 200)        40200     \n",
      "_________________________________________________________________\n",
      "conv2d_98 (Conv2D)           (None, 1, 8, 400)         160400    \n",
      "_________________________________________________________________\n",
      "conv2d_99 (Conv2D)           (None, 1, 4, 800)         640800    \n",
      "_________________________________________________________________\n",
      "flatten_7 (Flatten)          (None, 3200)              0         \n",
      "_________________________________________________________________\n",
      "reshape_55 (Reshape)         (None, 1, 1, 3200)        0         \n",
      "_________________________________________________________________\n",
      "conv2d_transpose_102 (Conv2D (None, 1, 2, 400)         2560400   \n",
      "_________________________________________________________________\n",
      "conv2d_transpose_103 (Conv2D (None, 1, 4, 200)         160200    \n",
      "_________________________________________________________________\n",
      "conv2d_transpose_104 (Conv2D (None, 1, 8, 100)         40100     \n",
      "_________________________________________________________________\n",
      "reshape_56 (Reshape)         (None, 32, 25)            0         \n",
      "_________________________________________________________________\n",
      "dense_2 (Dense)              (None, 32, 77)            2002      \n",
      "=================================================================\n",
      "Total params: 3,611,802\n",
      "Trainable params: 3,611,802\n",
      "Non-trainable params: 0\n",
      "_________________________________________________________________\n"
     ]
    }
   ],
   "source": [
    "model = create_baseline()\n",
    "model.summary()"
   ]
  },
  {
   "cell_type": "code",
   "execution_count": 75,
   "metadata": {
    "collapsed": false,
    "deletable": true,
    "editable": true
   },
   "outputs": [],
   "source": [
    "from keras.utils.np_utils import to_categorical\n",
    "\n",
    "def encode_word(word):\n",
    "    unpad = batch(s2i, word)\n",
    "    one_hot = to_categorical(unpad, num_classes=NUM_SYMBOL)\n",
    "    return one_hot\n",
    "\n",
    "def decode_word(one_hot):\n",
    "    return i2s( np.random.choice(list(range(NUM_SYMBOL)), p = one_hot)  )\n",
    "\n",
    "def decode_word_2(one_hot):\n",
    "    return i2s( np.argmax(one_hot) )\n",
    "\n",
    "\n",
    "# last char is used as output\n",
    "# so set it like gen = sliding_window(SEQ_LENGTH + 1)(data)\n",
    "def sample_generator(sliding_window_generator, batch_size = 64):\n",
    "    data = []\n",
    "    label = []\n",
    "    for window in sliding_window_generator:\n",
    "        #data.append(encode_word(window[:-1]))\n",
    "        data.append(batch(s2i, window[:-1]))\n",
    "        label.append(encode_word(window[-1:])[0])\n",
    "        if len(data) == batch_size:\n",
    "            yield (np.array(data), np.array(label))\n",
    "            data = []\n",
    "            label = []"
   ]
  },
  {
   "cell_type": "code",
   "execution_count": null,
   "metadata": {
    "collapsed": false,
    "deletable": true,
    "editable": true
   },
   "outputs": [],
   "source": [
    "gen = {}\n",
    "size = {}\n",
    "gen['train'], gen['test'], size['train'], size['test'] = sliding_window_random_access(data, SEQ_LENGTH + 1)\n",
    "print(next(sample_generator(gen['train'], 2))[0].shape)\n",
    "print(next(sample_generator(gen['test'], 2))[1].shape)"
   ]
  },
  {
   "cell_type": "code",
   "execution_count": null,
   "metadata": {
    "collapsed": false,
    "deletable": true,
    "editable": true
   },
   "outputs": [],
   "source": [
    "from keras.callbacks import Callback, ModelCheckpoint\n",
    "def testing(model):\n",
    "    seed = \"\"\"Your child comes home and presents you with a drawing of your house. There's a blue house, a yellow sun, and a green sky. You admire their handiwork and then gently ask why the sky is green. Shouldn't it be blue? Most teachers and parents would have the same reaction, but before you speak, stop! That innocent little comment carries a powerful punch. Unbeknownst to you, you are about to squelch your child's natural developing creativity.\n",
    "Everyone has the ability to be creative, however, Professor of Biology and neurobiologist Erin Clabough Ph.D. writes that \"creativity can be easily crushed by goals imposed by others.\" Not everyone needs to see the world in the same light- and they shouldn't. Before you mention that sky should be blue, consider your reasons carefully. Your child can see that a sky is blue, but in their world it isn't. Allow them the freedom to be creative. Creativity fosters critical thinking and problem solving skills. It helps people to deal with stress and adapt to changes.\n",
    "\"\"\"\n",
    "    for i in range(500):\n",
    "        seed = seed + decode_word(model.predict(np.array([batch(s2i,seed[-SEQ_LENGTH:])]))[0])[0]\n",
    "        \n",
    "    print(seed)\n",
    "\n",
    "    seed = \"\"\"Your child comes home and presents you with a drawing of your house. There's a blue house, a yellow sun, and a green sky. You admire their handiwork and then gently ask why the sky is green. Shouldn't it be blue? Most teachers and parents would have the same reaction, but before you speak, stop! That innocent little comment carries a powerful punch. Unbeknownst to you, you are about to squelch your child's natural developing creativity.\n",
    "Everyone has the ability to be creative, however, Professor of Biology and neurobiologist Erin Clabough Ph.D. writes that \"creativity can be easily crushed by goals imposed by others.\" Not everyone needs to see the world in the same light- and they shouldn't. Before you mention that sky should be blue, consider your reasons carefully. Your child can see that a sky is blue, but in their world it isn't. Allow them the freedom to be creative. Creativity fosters critical thinking and problem solving skills. It helps people to deal with stress and adapt to changes.\n",
    "\"\"\"\n",
    "    for i in range(500):\n",
    "        seed = seed + decode_word_2(model.predict(np.array([batch(s2i,seed[-SEQ_LENGTH:])]))[0])[0]\n",
    "        \n",
    "    print(seed)\n",
    "\n",
    "    \n",
    "class testSample(Callback):\n",
    "    def on_epoch_end(self, batch, logs={}):\n",
    "        testing(model)"
   ]
  },
  {
   "cell_type": "code",
   "execution_count": null,
   "metadata": {
    "collapsed": false,
    "deletable": true,
    "editable": true,
    "scrolled": false
   },
   "outputs": [],
   "source": [
    "from keras_tqdm import TQDMNotebookCallback\n",
    "from keras.callbacks import TensorBoard,Callback,ReduceLROnPlateau\n",
    "from keras.models import load_model\n",
    "import matplotlib.pyplot as plt\n",
    "\n",
    "MODEL_FILE = './model/char_cnn_2.hdf5'\n",
    "\n",
    "mc = ModelCheckpoint(MODEL_FILE, monitor='val_loss', verbose=0, save_best_only=True, save_weights_only=False, mode='auto', period=1)\n",
    "\n",
    "class LossHistory(Callback):\n",
    "    def on_train_begin(self, logs={}):\n",
    "        self.losses = []\n",
    "        self.count = 0\n",
    "\n",
    "    def on_batch_end(self, batch, logs={}):\n",
    "        self.losses.append(logs.get('loss'))\n",
    "            \n",
    "    def on_epoch_end(self, epouch, logs={}):\n",
    "            plt.plot(self.losses[::50])\n",
    "            plt.show()\n",
    "\n",
    "\n",
    "#model = load_model(MODEL_FILE)\n",
    "\n",
    "BATCH_SIZE = 128\n",
    "model.fit_generator(\n",
    "    sample_generator(gen['train'], BATCH_SIZE),\n",
    "    size['train'] // BATCH_SIZE,\n",
    "    validation_data = sample_generator(gen['test'], BATCH_SIZE),\n",
    "    validation_steps = size['test'] // BATCH_SIZE,\n",
    "    epochs=200000,\n",
    "    callbacks=[testSample(), TensorBoard(), ReduceLROnPlateau()]\n",
    "    #verbose=0, callbacks=[TQDMNotebookCallback(), testSample(), TensorBoard(), LossHistory(), ReduceLROnPlateau()]\n",
    ")"
   ]
  },
  {
   "cell_type": "code",
   "execution_count": null,
   "metadata": {
    "collapsed": true,
    "deletable": true,
    "editable": true
   },
   "outputs": [],
   "source": []
  },
  {
   "cell_type": "code",
   "execution_count": null,
   "metadata": {
    "collapsed": true,
    "deletable": true,
    "editable": true
   },
   "outputs": [],
   "source": []
  }
 ],
 "metadata": {
  "kernelspec": {
   "display_name": "Python 3",
   "language": "python",
   "name": "python3"
  },
  "language_info": {
   "codemirror_mode": {
    "name": "ipython",
    "version": 3
   },
   "file_extension": ".py",
   "mimetype": "text/x-python",
   "name": "python",
   "nbconvert_exporter": "python",
   "pygments_lexer": "ipython3",
   "version": "3.5.2+"
  }
 },
 "nbformat": 4,
 "nbformat_minor": 2
}
