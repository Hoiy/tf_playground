{
 "cells": [
  {
   "cell_type": "code",
   "execution_count": 1,
   "metadata": {
    "collapsed": false
   },
   "outputs": [],
   "source": [
    "import Utils.FS.file as file\n",
    "import TextPreprocess.cleaner as cleaner\n",
    "from sklearn.feature_extraction.text import CountVectorizer\n",
    "import Utils.misc as helper\n",
    "import Utils.pandas_helper as ph"
   ]
  },
  {
   "cell_type": "code",
   "execution_count": 2,
   "metadata": {
    "collapsed": true
   },
   "outputs": [],
   "source": [
    "eng_link_posts = file.read('eng_link_posts_2.pkl')"
   ]
  },
  {
   "cell_type": "code",
   "execution_count": 3,
   "metadata": {
    "collapsed": false
   },
   "outputs": [
    {
     "name": "stdout",
     "output_type": "stream",
     "text": [
      "(7695711, 23)\n"
     ]
    },
    {
     "data": {
      "text/html": [
       "<div>\n",
       "<table border=\"1\" class=\"dataframe\">\n",
       "  <thead>\n",
       "    <tr style=\"text-align: right;\">\n",
       "      <th></th>\n",
       "      <th>id</th>\n",
       "      <th>name</th>\n",
       "      <th>message</th>\n",
       "      <th>description</th>\n",
       "    </tr>\n",
       "  </thead>\n",
       "  <tbody>\n",
       "    <tr>\n",
       "      <th>1884124</th>\n",
       "      <td>317121371634190_1453303041349345</td>\n",
       "      <td>giphy.com</td>\n",
       "      <td>#MakeLifeFunnier is giving u a chance to win B...</td>\n",
       "      <td>NaN</td>\n",
       "    </tr>\n",
       "    <tr>\n",
       "      <th>4148853</th>\n",
       "      <td>112681712076876_1417417975163072</td>\n",
       "      <td>A que no te atreves a verlo ??</td>\n",
       "      <td>YO no pude :( y tu ?</td>\n",
       "      <td>VER YA !!</td>\n",
       "    </tr>\n",
       "    <tr>\n",
       "      <th>4078429</th>\n",
       "      <td>56571674793_10154461347059794</td>\n",
       "      <td>Hands On Product Reviews December 2016</td>\n",
       "      <td>This LED light is small enough for your first-...</td>\n",
       "      <td>Check out the latest products reviewed in JEMS.</td>\n",
       "    </tr>\n",
       "    <tr>\n",
       "      <th>4237772</th>\n",
       "      <td>295830058648_10154555269078649</td>\n",
       "      <td>Living with HIV</td>\n",
       "      <td>Living with HIV http://bbc.in/2kMqm7z</td>\n",
       "      <td>An Australian artist aims to rewrite the conve...</td>\n",
       "    </tr>\n",
       "    <tr>\n",
       "      <th>4838325</th>\n",
       "      <td>59651918044_10152988588953045</td>\n",
       "      <td>Former All-Stars Candace Parker, Sylvia Fowles...</td>\n",
       "      <td>Not the result we wanted on Wednesday, but fel...</td>\n",
       "      <td>After sitting out the first half of the 2015 W...</td>\n",
       "    </tr>\n",
       "    <tr>\n",
       "      <th>1098593</th>\n",
       "      <td>12786606933_226909467354497</td>\n",
       "      <td>Noah and the Whale, 'Life Is Life (Yuksek Remi...</td>\n",
       "      <td>The Yuksek remix of ‘Life is Life’ is the MP3 ...</td>\n",
       "      <td>Listen to Noah and the Whale's 'Life is Life' ...</td>\n",
       "    </tr>\n",
       "    <tr>\n",
       "      <th>7617924</th>\n",
       "      <td>146205388831743_799035300215412</td>\n",
       "      <td>[VIDEO] Mickey ‘Memphitz’ Wright Wanted For Ag...</td>\n",
       "      <td>NaN</td>\n",
       "      <td>Surveillance video shows the moments police sa...</td>\n",
       "    </tr>\n",
       "    <tr>\n",
       "      <th>7463634</th>\n",
       "      <td>141224181394_10153633728576395</td>\n",
       "      <td>HIJAB - Great Britain | Islamic Design House</td>\n",
       "      <td>Do you know our InEssence plain scarves? They ...</td>\n",
       "      <td>NaN</td>\n",
       "    </tr>\n",
       "    <tr>\n",
       "      <th>7674407</th>\n",
       "      <td>139399349522670_773853032743962</td>\n",
       "      <td>Deadpool: Ryan Reynolds on that R-rating, the ...</td>\n",
       "      <td>Glad it's not PG-13...ugh could you imagine th...</td>\n",
       "      <td>\"Deadpool's greatest superpower is annoying th...</td>\n",
       "    </tr>\n",
       "    <tr>\n",
       "      <th>475008</th>\n",
       "      <td>371844480840_10154266786875841</td>\n",
       "      <td>[VIDEO] Safaree Samuels Says Nicki Minaj Cheat...</td>\n",
       "      <td>Safaree Ain't Lettin No One Stop His Hustle! 😂</td>\n",
       "      <td>Get Your Tea Cups Ready!</td>\n",
       "    </tr>\n",
       "  </tbody>\n",
       "</table>\n",
       "</div>"
      ],
      "text/plain": [
       "                                       id  \\\n",
       "1884124  317121371634190_1453303041349345   \n",
       "4148853  112681712076876_1417417975163072   \n",
       "4078429     56571674793_10154461347059794   \n",
       "4237772    295830058648_10154555269078649   \n",
       "4838325     59651918044_10152988588953045   \n",
       "1098593       12786606933_226909467354497   \n",
       "7617924   146205388831743_799035300215412   \n",
       "7463634    141224181394_10153633728576395   \n",
       "7674407   139399349522670_773853032743962   \n",
       "475008     371844480840_10154266786875841   \n",
       "\n",
       "                                                      name  \\\n",
       "1884124                                          giphy.com   \n",
       "4148853                     A que no te atreves a verlo ??   \n",
       "4078429             Hands On Product Reviews December 2016   \n",
       "4237772                                    Living with HIV   \n",
       "4838325  Former All-Stars Candace Parker, Sylvia Fowles...   \n",
       "1098593  Noah and the Whale, 'Life Is Life (Yuksek Remi...   \n",
       "7617924  [VIDEO] Mickey ‘Memphitz’ Wright Wanted For Ag...   \n",
       "7463634       HIJAB - Great Britain | Islamic Design House   \n",
       "7674407  Deadpool: Ryan Reynolds on that R-rating, the ...   \n",
       "475008   [VIDEO] Safaree Samuels Says Nicki Minaj Cheat...   \n",
       "\n",
       "                                                   message  \\\n",
       "1884124  #MakeLifeFunnier is giving u a chance to win B...   \n",
       "4148853                               YO no pude :( y tu ?   \n",
       "4078429  This LED light is small enough for your first-...   \n",
       "4237772              Living with HIV http://bbc.in/2kMqm7z   \n",
       "4838325  Not the result we wanted on Wednesday, but fel...   \n",
       "1098593  The Yuksek remix of ‘Life is Life’ is the MP3 ...   \n",
       "7617924                                                NaN   \n",
       "7463634  Do you know our InEssence plain scarves? They ...   \n",
       "7674407  Glad it's not PG-13...ugh could you imagine th...   \n",
       "475008      Safaree Ain't Lettin No One Stop His Hustle! 😂   \n",
       "\n",
       "                                               description  \n",
       "1884124                                                NaN  \n",
       "4148853                                          VER YA !!  \n",
       "4078429    Check out the latest products reviewed in JEMS.  \n",
       "4237772  An Australian artist aims to rewrite the conve...  \n",
       "4838325  After sitting out the first half of the 2015 W...  \n",
       "1098593  Listen to Noah and the Whale's 'Life is Life' ...  \n",
       "7617924  Surveillance video shows the moments police sa...  \n",
       "7463634                                                NaN  \n",
       "7674407  \"Deadpool's greatest superpower is annoying th...  \n",
       "475008                            Get Your Tea Cups Ready!  "
      ]
     },
     "execution_count": 3,
     "metadata": {},
     "output_type": "execute_result"
    }
   ],
   "source": [
    "print(eng_link_posts.shape)\n",
    "eng_link_posts[['id', 'name', 'message', 'description']].sample(10)"
   ]
  },
  {
   "cell_type": "code",
   "execution_count": null,
   "metadata": {
    "collapsed": false
   },
   "outputs": [],
   "source": [
    "eng_link_posts['clean_description'] = ph.parallel_apply(eng_link_posts['description'].astype(str), cleaner.clean)"
   ]
  },
  {
   "cell_type": "code",
   "execution_count": null,
   "metadata": {
    "collapsed": false
   },
   "outputs": [],
   "source": [
    "eng_link_posts[['clean_description', 'description']].sample(10)"
   ]
  },
  {
   "cell_type": "code",
   "execution_count": null,
   "metadata": {
    "collapsed": false
   },
   "outputs": [],
   "source": [
    "def clean(df):\n",
    "    df['clean_description'] = df['description'].astype(str) \\\n",
    "        .apply(helper.trace_progress(cleaner.clean))\n",
    "    return df\n",
    "\n",
    "def applyParallel(dfGrouped, func):\n",
    "    retLst = Parallel(n_jobs=multiprocessing.cpu_count())(delayed(func)(group) for name, group in dfGrouped)\n",
    "    return pd.concat(retLst)\n",
    "\n",
    "print ('parallel version: ')\n",
    "# 4 min 30 seconds\n",
    "%time result = applyParallel(eng_link_posts.groupby(eng_link_posts.index % multiprocessing.cpu_count()), clean)"
   ]
  },
  {
   "cell_type": "code",
   "execution_count": null,
   "metadata": {
    "collapsed": false
   },
   "outputs": [],
   "source": [
    "result[['description', 'clean_description']].sample(100)"
   ]
  },
  {
   "cell_type": "code",
   "execution_count": null,
   "metadata": {
    "collapsed": false,
    "deletable": true,
    "editable": true
   },
   "outputs": [],
   "source": [
    "import pandas as pd\n",
    "posts = pd.DataFrame()\n",
    "for i in range(92):\n",
    "    print('./posts-{:0>12d}.gzip.csv'.format(i))\n",
    "    p = pd.read_csv('./posts-{:0>12d}.gzip.csv'.format(i))\n",
    "    p = p[p['type'] == 'link']\n",
    "    posts = posts.append(p, ignore_index=True)\n",
    "    print(posts.shape)"
   ]
  },
  {
   "cell_type": "code",
   "execution_count": null,
   "metadata": {
    "collapsed": false,
    "deletable": true,
    "editable": true
   },
   "outputs": [],
   "source": [
    "posts"
   ]
  },
  {
   "cell_type": "code",
   "execution_count": null,
   "metadata": {
    "collapsed": false,
    "deletable": true,
    "editable": true
   },
   "outputs": [],
   "source": [
    "import pickle\n",
    "with open('eng_link_posts_2.pkl', 'wb') as f:\n",
    "    pickle.dump(posts, f)"
   ]
  },
  {
   "cell_type": "code",
   "execution_count": null,
   "metadata": {
    "collapsed": false,
    "deletable": true,
    "editable": true
   },
   "outputs": [],
   "source": [
    "import Utils.GoogleCloud.storage as gcs\n",
    "gcs.upload('facebook-posts-processed', 'eng_link_posts_2.pkl', 'eng_link_posts_2.pkl')"
   ]
  },
  {
   "cell_type": "code",
   "execution_count": null,
   "metadata": {
    "collapsed": false,
    "deletable": true,
    "editable": true
   },
   "outputs": [],
   "source": [
    "lh_posts = posts[posts['page_id'].astype(str) == '109565802405671']"
   ]
  },
  {
   "cell_type": "code",
   "execution_count": null,
   "metadata": {
    "collapsed": false,
    "deletable": true,
    "editable": true
   },
   "outputs": [],
   "source": [
    "lh_posts[['id', 'name', 'description', 'caption']]"
   ]
  },
  {
   "cell_type": "code",
   "execution_count": null,
   "metadata": {
    "collapsed": false,
    "deletable": true,
    "editable": true
   },
   "outputs": [],
   "source": [
    "lh_posts.shape"
   ]
  },
  {
   "cell_type": "code",
   "execution_count": null,
   "metadata": {
    "collapsed": true,
    "deletable": true,
    "editable": true
   },
   "outputs": [],
   "source": []
  }
 ],
 "metadata": {
  "kernelspec": {
   "display_name": "Python 3",
   "language": "python",
   "name": "python3"
  },
  "language_info": {
   "codemirror_mode": {
    "name": "ipython",
    "version": 3
   },
   "file_extension": ".py",
   "mimetype": "text/x-python",
   "name": "python",
   "nbconvert_exporter": "python",
   "pygments_lexer": "ipython3",
   "version": "3.5.2+"
  }
 },
 "nbformat": 4,
 "nbformat_minor": 2
}
