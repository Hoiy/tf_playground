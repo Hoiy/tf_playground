{
 "cells": [
  {
   "cell_type": "code",
   "execution_count": 17,
   "metadata": {
    "collapsed": false
   },
   "outputs": [],
   "source": [
    "import pandas as pd\n",
    "\n",
    "origin = pd.read_csv('/Users/Shared/data/HN_posts_year_to_Sep_26_2016.csv', parse_dates=['created_at'])"
   ]
  },
  {
   "cell_type": "code",
   "execution_count": 18,
   "metadata": {
    "collapsed": false
   },
   "outputs": [],
   "source": [
    "created_at = origin['created_at']\n",
    "num_points = origin['num_points']\n",
    "dayofweek = origin['created_at'].dt.dayofweek"
   ]
  },
  {
   "cell_type": "code",
   "execution_count": 19,
   "metadata": {
    "collapsed": false
   },
   "outputs": [
    {
     "data": {
      "text/plain": [
       "count    293119.000000\n",
       "mean          0.099936\n",
       "std           0.299915\n",
       "min           0.000000\n",
       "25%           0.000000\n",
       "50%           0.000000\n",
       "75%           0.000000\n",
       "max           1.000000\n",
       "Name: num_points, dtype: float64"
      ]
     },
     "execution_count": 19,
     "metadata": {},
     "output_type": "execute_result"
    }
   ],
   "source": [
    "GOOD_THRESHOLD = 25\n",
    "\n",
    "label = num_points.apply(lambda x: 1 if x >= GOOD_THRESHOLD else 0)\n",
    "label.describe()\n"
   ]
  },
  {
   "cell_type": "code",
   "execution_count": 20,
   "metadata": {
    "collapsed": false
   },
   "outputs": [],
   "source": [
    "from keras.utils.np_utils import to_categorical\n",
    "\n",
    "label = to_categorical(label, 2)"
   ]
  },
  {
   "cell_type": "code",
   "execution_count": 44,
   "metadata": {
    "collapsed": false
   },
   "outputs": [],
   "source": [
    "from keras.layers import Input, LSTM, RepeatVector, Dense\n",
    "from keras.models import Model, Sequential\n",
    "\n",
    "predictor = Sequential()\n",
    "predictor.add(Dense(100, activation='relu', input_shape=(1,)))\n",
    "predictor.add(Dense(100, activation='relu'))\n",
    "predictor.add(Dense(2, activation='softmax'))"
   ]
  },
  {
   "cell_type": "code",
   "execution_count": null,
   "metadata": {
    "collapsed": true
   },
   "outputs": [],
   "source": []
  },
  {
   "cell_type": "code",
   "execution_count": 45,
   "metadata": {
    "collapsed": true
   },
   "outputs": [],
   "source": [
    "predictor.compile(loss='categorical_crossentropy',\n",
    "              optimizer='rmsprop',\n",
    "              metrics=['acc', 'precision', 'recall','fmeasure'])"
   ]
  },
  {
   "cell_type": "code",
   "execution_count": 46,
   "metadata": {
    "collapsed": false
   },
   "outputs": [
    {
     "name": "stdout",
     "output_type": "stream",
     "text": [
      "Train on 234495 samples, validate on 58624 samples\n",
      "Epoch 1/2\n",
      "234495/234495 [==============================] - 7s - loss: 0.3271 - acc: 0.9005 - precision: 0.9005 - recall: 0.9004 - fmeasure: 0.9005 - val_loss: 0.3306 - val_acc: 0.8969 - val_precision: 0.8969 - val_recall: 0.8969 - val_fmeasure: 0.8969\n",
      "Epoch 2/2\n",
      "234495/234495 [==============================] - 7s - loss: 0.3229 - acc: 0.9009 - precision: 0.9009 - recall: 0.9009 - fmeasure: 0.9009 - val_loss: 0.3306 - val_acc: 0.8969 - val_precision: 0.8969 - val_recall: 0.8969 - val_fmeasure: 0.8969\n"
     ]
    },
    {
     "data": {
      "text/plain": [
       "<keras.callbacks.History at 0x1135709e8>"
      ]
     },
     "execution_count": 46,
     "metadata": {},
     "output_type": "execute_result"
    }
   ],
   "source": [
    "# happy learning!\n",
    "predictor.fit(dayofweek, label, nb_epoch=2, batch_size=128, validation_split=0.2)"
   ]
  },
  {
   "cell_type": "code",
   "execution_count": 47,
   "metadata": {
    "collapsed": false
   },
   "outputs": [
    {
     "name": "stdout",
     "output_type": "stream",
     "text": [
      "7/7 [==============================] - 0s\n"
     ]
    },
    {
     "data": {
      "text/plain": [
       "array([[ 0.89283264,  0.10716743],\n",
       "       [ 0.90913218,  0.09086784],\n",
       "       [ 0.90679026,  0.09320967],\n",
       "       [ 0.90526175,  0.09473821],\n",
       "       [ 0.88730592,  0.11269412],\n",
       "       [ 0.85931402,  0.14068595],\n",
       "       [ 0.83636761,  0.16363236]], dtype=float32)"
      ]
     },
     "execution_count": 47,
     "metadata": {},
     "output_type": "execute_result"
    }
   ],
   "source": [
    "import numpy as np\n",
    "predictor.predict(np.array([0,1,2,3,4,5,6]), 7, 1)"
   ]
  },
  {
   "cell_type": "code",
   "execution_count": null,
   "metadata": {
    "collapsed": true
   },
   "outputs": [],
   "source": []
  }
 ],
 "metadata": {
  "kernelspec": {
   "display_name": "Python 3",
   "language": "python",
   "name": "python3"
  },
  "language_info": {
   "codemirror_mode": {
    "name": "ipython",
    "version": 3
   },
   "file_extension": ".py",
   "mimetype": "text/x-python",
   "name": "python",
   "nbconvert_exporter": "python",
   "pygments_lexer": "ipython3",
   "version": "3.5.2"
  }
 },
 "nbformat": 4,
 "nbformat_minor": 2
}
