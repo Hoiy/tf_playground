{
 "cells": [
  {
   "cell_type": "code",
   "execution_count": 1,
   "metadata": {
    "collapsed": false
   },
   "outputs": [],
   "source": [
    "import pandas as pd\n",
    "\n",
    "origin = pd.read_csv('/Users/Shared/data/HN_posts_year_to_Sep_26_2016.csv', parse_dates=['created_at'])\n"
   ]
  },
  {
   "cell_type": "code",
   "execution_count": 222,
   "metadata": {
    "collapsed": false
   },
   "outputs": [],
   "source": [
    "from keras.utils.np_utils import to_categorical\n",
    "GOOD_THRESHOLD = 100\n",
    "\n",
    "def prepareData(df):    \n",
    "    good = df[df[\"num_points\"] >= GOOD_THRESHOLD]\n",
    "    bad = df[df[\"num_points\"] < GOOD_THRESHOLD]\n",
    "    bad = bad.sample(n=good.shape[0])\n",
    "    data = good.append(bad)\n",
    "    data = data.sample(frac=1).reset_index(drop=True)\n",
    "    \n",
    "    dayofweek = data['created_at'].dt.dayofweek.values[:,np.newaxis]\n",
    "    hour = data['created_at'].dt.hour.values[:,np.newaxis]\n",
    "    month = data['created_at'].dt.month.values[:,np.newaxis]\n",
    "    day = data['created_at'].dt.day.values[:,np.newaxis]\n",
    "    \n",
    "    dayofweek = dayofweek / dayofweek.max() \n",
    "    hour = hour / hour.max()\n",
    "    month = month / month.max()\n",
    "    day = day / day.max()\n",
    "    \n",
    "    X = np.hstack((dayofweek, hour, month, day))\n",
    "\n",
    "    label = data[\"num_points\"].apply(lambda x: 1 if x >= GOOD_THRESHOLD else 0)\n",
    "    y = to_categorical(label)\n",
    "    \n",
    "    #return df['created_at'], y, df[\"num_points\"]\n",
    "\n",
    "    return X, y, label"
   ]
  },
  {
   "cell_type": "code",
   "execution_count": 223,
   "metadata": {
    "collapsed": false
   },
   "outputs": [],
   "source": [
    "data = origin[['id', 'num_points', 'created_at']]\n",
    "\n",
    "train = data.sample(frac=0.8)\n",
    "test = data.drop(train.index)\n",
    "\n",
    "X_train, y_train, y2_train = prepareData(train)\n",
    "X_test, y_test, y2_test = prepareData(test)"
   ]
  },
  {
   "cell_type": "code",
   "execution_count": 218,
   "metadata": {
    "collapsed": false
   },
   "outputs": [
    {
     "name": "stdout",
     "output_type": "stream",
     "text": [
      "[ 0.04500242  0.06725914  0.02041602 ...,  0.03572112  0.02655071\n",
      "  0.05526261]\n",
      "[0 0 0 ..., 0 0 0]\n",
      "0.0\n",
      "0.0\n"
     ]
    },
    {
     "name": "stderr",
     "output_type": "stream",
     "text": [
      "/Users/Hoiy/anaconda/envs/tensorflow/lib/python3.5/site-packages/sklearn/metrics/classification.py:1113: UndefinedMetricWarning: Precision is ill-defined and being set to 0.0 due to no predicted samples.\n",
      "  'precision', 'predicted', average, warn_for)\n"
     ]
    }
   ],
   "source": [
    "import xgboost as xgb\n",
    "\n",
    "params = {\"objective\": \"binary:logistic\",\n",
    "          \"eta\": 0.15,\n",
    "          \"max_depth\": 20,\n",
    "          \"min_child_weight\": 10,\n",
    "          \"silent\": 1,\n",
    "          \"subsample\": 0.7,\n",
    "          \"colsample_bytree\": 0.7,\n",
    "          \"seed\": 1337}\n",
    "num_trees=1001\n",
    "gbm = xgb.train(params, xgb.DMatrix(X_train, y2_train), num_trees)\n",
    "\n",
    "from sklearn.metrics import precision_score, recall_score\n",
    "\n",
    "res = gbm.predict(xgb.DMatrix(X_test))\n",
    "\n",
    "print(res)\n",
    "res2 = np.zeros(len(res), dtype=int)\n",
    "for i in range(0, len(res)):\n",
    "    res2[i] = 1 if res[i] >= 0.5 else 0\n",
    "print(res2)\n",
    "\n",
    "precision = precision_score(y2_test, res2)\n",
    "recall = recall_score(y2_test, res2)\n",
    "print(precision)\n",
    "print(recall)"
   ]
  },
  {
   "cell_type": "code",
   "execution_count": 211,
   "metadata": {
    "collapsed": false
   },
   "outputs": [
    {
     "name": "stdout",
     "output_type": "stream",
     "text": [
      "0.528915662651\n",
      "0.532121212121\n"
     ]
    }
   ],
   "source": [
    "from sklearn.ensemble import RandomForestClassifier\n",
    "\n",
    "rf = RandomForestClassifier(n_estimators=1000, n_jobs=-1, criterion=\"entropy\", random_state=1)\n",
    "rf.fit(X_train, y2_train)\n",
    "\n",
    "res = rf.predict(X_test)\n",
    "\n",
    "#validate_2(y_test, res)\n",
    "precision = precision_score(y2_test, res)\n",
    "recall = recall_score(y2_test, res)\n",
    "print(precision)\n",
    "print(recall)"
   ]
  },
  {
   "cell_type": "code",
   "execution_count": 226,
   "metadata": {
    "collapsed": false
   },
   "outputs": [
    {
     "name": "stdout",
     "output_type": "stream",
     "text": [
      "0.509821038848\n",
      "0.507164567955\n"
     ]
    }
   ],
   "source": [
    "from sklearn.ensemble import GradientBoostingClassifier\n",
    "\n",
    "gbc = GradientBoostingClassifier(n_estimators=500, learning_rate=0.1, max_depth=10, random_state=1)\n",
    "gbc.fit(X_train, y2_train)\n",
    "\n",
    "res = gbc.predict(X_test)\n",
    "\n",
    "precision = precision_score(y2_test, res)\n",
    "recall = recall_score(y2_test, res)\n",
    "print(precision)\n",
    "print(recall)"
   ]
  },
  {
   "cell_type": "code",
   "execution_count": 252,
   "metadata": {
    "collapsed": false
   },
   "outputs": [],
   "source": [
    "from keras.layers import Input, LSTM, RepeatVector, Dense\n",
    "from keras.models import Model, Sequential\n",
    "\n",
    "predictor = Sequential()\n",
    "predictor.add(Dense(10, activation='relu', input_shape=(4,)))\n",
    "predictor.add(Dense(10, activation='relu'))\n",
    "predictor.add(Dense(2, activation='softmax'))"
   ]
  },
  {
   "cell_type": "code",
   "execution_count": 253,
   "metadata": {
    "collapsed": false
   },
   "outputs": [],
   "source": [
    "predictor.compile(loss='categorical_crossentropy',\n",
    "              optimizer='rmsprop',\n",
    "              metrics=['acc', 'precision', 'recall','fmeasure'])"
   ]
  },
  {
   "cell_type": "code",
   "execution_count": 254,
   "metadata": {
    "collapsed": false
   },
   "outputs": [
    {
     "name": "stdout",
     "output_type": "stream",
     "text": [
      "Train on 14779 samples, validate on 3695 samples\n",
      "Epoch 1/10\n",
      "14779/14779 [==============================] - 1s - loss: 0.6929 - acc: 0.5135 - precision: 0.5135 - recall: 0.5135 - fmeasure: 0.5135 - val_loss: 0.6919 - val_acc: 0.5204 - val_precision: 0.5204 - val_recall: 0.5204 - val_fmeasure: 0.5204\n",
      "Epoch 2/10\n",
      "14779/14779 [==============================] - 1s - loss: 0.6920 - acc: 0.5212 - precision: 0.5212 - recall: 0.5212 - fmeasure: 0.5212 - val_loss: 0.6921 - val_acc: 0.5277 - val_precision: 0.5277 - val_recall: 0.5277 - val_fmeasure: 0.5277\n",
      "Epoch 3/10\n",
      "14779/14779 [==============================] - 1s - loss: 0.6919 - acc: 0.5217 - precision: 0.5217 - recall: 0.5217 - fmeasure: 0.5217 - val_loss: 0.6918 - val_acc: 0.5240 - val_precision: 0.5240 - val_recall: 0.5240 - val_fmeasure: 0.5240\n",
      "Epoch 4/10\n",
      "14779/14779 [==============================] - 1s - loss: 0.6912 - acc: 0.5228 - precision: 0.5228 - recall: 0.5228 - fmeasure: 0.5228 - val_loss: 0.6921 - val_acc: 0.5267 - val_precision: 0.5267 - val_recall: 0.5267 - val_fmeasure: 0.5267\n",
      "Epoch 5/10\n",
      "14779/14779 [==============================] - 1s - loss: 0.6912 - acc: 0.5240 - precision: 0.5240 - recall: 0.5240 - fmeasure: 0.5240 - val_loss: 0.6920 - val_acc: 0.5248 - val_precision: 0.5248 - val_recall: 0.5248 - val_fmeasure: 0.5248\n",
      "Epoch 6/10\n",
      "14779/14779 [==============================] - 1s - loss: 0.6907 - acc: 0.5303 - precision: 0.5302 - recall: 0.5302 - fmeasure: 0.5302 - val_loss: 0.6920 - val_acc: 0.5194 - val_precision: 0.5194 - val_recall: 0.5194 - val_fmeasure: 0.5194\n",
      "Epoch 7/10\n",
      "14779/14779 [==============================] - 1s - loss: 0.6903 - acc: 0.5328 - precision: 0.5328 - recall: 0.5328 - fmeasure: 0.5328 - val_loss: 0.6915 - val_acc: 0.5180 - val_precision: 0.5180 - val_recall: 0.5180 - val_fmeasure: 0.5180\n",
      "Epoch 8/10\n",
      "14779/14779 [==============================] - 1s - loss: 0.6905 - acc: 0.5280 - precision: 0.5280 - recall: 0.5280 - fmeasure: 0.5280 - val_loss: 0.6926 - val_acc: 0.5234 - val_precision: 0.5234 - val_recall: 0.5234 - val_fmeasure: 0.5234\n",
      "Epoch 9/10\n",
      "14779/14779 [==============================] - 1s - loss: 0.6900 - acc: 0.5319 - precision: 0.5319 - recall: 0.5319 - fmeasure: 0.5319 - val_loss: 0.6928 - val_acc: 0.5180 - val_precision: 0.5180 - val_recall: 0.5180 - val_fmeasure: 0.5180\n",
      "Epoch 10/10\n",
      "14779/14779 [==============================] - 2s - loss: 0.6902 - acc: 0.5333 - precision: 0.5333 - recall: 0.5333 - fmeasure: 0.5333 - val_loss: 0.6978 - val_acc: 0.5001 - val_precision: 0.5001 - val_recall: 0.5001 - val_fmeasure: 0.5001\n"
     ]
    },
    {
     "data": {
      "text/plain": [
       "<keras.callbacks.History at 0x1138a1fd0>"
      ]
     },
     "execution_count": 254,
     "metadata": {},
     "output_type": "execute_result"
    }
   ],
   "source": [
    "# happy learning!\n",
    "predictor.fit(X_train, y_train, nb_epoch=10, batch_size=32, validation_split=0.2)"
   ]
  },
  {
   "cell_type": "code",
   "execution_count": 255,
   "metadata": {
    "collapsed": false
   },
   "outputs": [
    {
     "name": "stdout",
     "output_type": "stream",
     "text": [
      "[[ 0.41849762  0.58150238]\n",
      " [ 0.47418538  0.52581465]\n",
      " [ 0.47119316  0.52880687]\n",
      " ..., \n",
      " [ 0.49984667  0.50015336]\n",
      " [ 0.49410808  0.50589192]\n",
      " [ 0.46115309  0.53884691]]\n",
      "[1 1 1 ..., 1 1 1]\n",
      "0.504700643246\n",
      "0.885801128962\n"
     ]
    }
   ],
   "source": [
    "import numpy as np\n",
    "\n",
    "res = predictor.predict(X_test)\n",
    "\n",
    "print(res)\n",
    "res2 = np.zeros(len(res), dtype=int)\n",
    "for i in range(0, len(res)):\n",
    "    res2[i] = 1 if res[i][1] >= 0.5 else 0\n",
    "print(res2)\n",
    "\n",
    "precision = precision_score(y2_test, res2)\n",
    "recall = recall_score(y2_test, res2)\n",
    "print(precision)\n",
    "print(recall)"
   ]
  },
  {
   "cell_type": "code",
   "execution_count": null,
   "metadata": {
    "collapsed": true
   },
   "outputs": [],
   "source": []
  }
 ],
 "metadata": {
  "kernelspec": {
   "display_name": "Python 3",
   "language": "python",
   "name": "python3"
  },
  "language_info": {
   "codemirror_mode": {
    "name": "ipython",
    "version": 3
   },
   "file_extension": ".py",
   "mimetype": "text/x-python",
   "name": "python",
   "nbconvert_exporter": "python",
   "pygments_lexer": "ipython3",
   "version": "3.5.2"
  }
 },
 "nbformat": 4,
 "nbformat_minor": 2
}
