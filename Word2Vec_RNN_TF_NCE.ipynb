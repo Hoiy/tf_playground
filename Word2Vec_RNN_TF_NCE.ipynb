{
 "cells": [
  {
   "cell_type": "code",
   "execution_count": 1,
   "metadata": {
    "collapsed": false,
    "deletable": true,
    "editable": true
   },
   "outputs": [],
   "source": [
    "from Utils.FS import file\n",
    "from nltk.tokenize.punkt import PunktSentenceTokenizer\n",
    "from nltk.tokenize import word_tokenize\n",
    "from nltk.corpus import brown\n",
    "from scipy.sparse import coo_matrix, dok_matrix\n",
    "from scipy.sparse.linalg import svds\n",
    "from sklearn.preprocessing import normalize\n",
    "import matplotlib.pyplot as plt\n",
    "import numpy as np\n",
    "from sklearn.manifold import TSNE\n",
    "from wordcloud import WordCloud\n",
    "from nltk.corpus import stopwords\n",
    "import tensorflow as tf\n",
    "import math"
   ]
  },
  {
   "cell_type": "code",
   "execution_count": 5,
   "metadata": {
    "collapsed": true,
    "deletable": true,
    "editable": true
   },
   "outputs": [],
   "source": [
    "np.random.seed(1234)"
   ]
  },
  {
   "cell_type": "code",
   "execution_count": 6,
   "metadata": {
    "collapsed": false,
    "deletable": true,
    "editable": true
   },
   "outputs": [],
   "source": [
    "sents = brown.sents()\n",
    "sents = [[token.lower() for token in sent] for sent in sents]\n",
    "words = brown.words()\n",
    "words = [word.lower() for word in words]"
   ]
  },
  {
   "cell_type": "code",
   "execution_count": 7,
   "metadata": {
    "collapsed": false,
    "deletable": true,
    "editable": true
   },
   "outputs": [
    {
     "name": "stdout",
     "output_type": "stream",
     "text": [
      "Number of tokens: 1161192\n",
      "Number of sentences: 57340\n",
      "Longest sentences length: 180\n"
     ]
    }
   ],
   "source": [
    "print(\"Number of tokens: {}\".format(len(words)))\n",
    "print(\"Number of sentences: {}\".format(len(sents)))\n",
    "print(\"Longest sentences length: {}\".format(max([len(sent) for sent in sents])))"
   ]
  },
  {
   "cell_type": "code",
   "execution_count": 8,
   "metadata": {
    "collapsed": true,
    "deletable": true,
    "editable": true
   },
   "outputs": [],
   "source": [
    "def words2dicts(words):\n",
    "    f_dict = {}\n",
    "    index = 0\n",
    "    for word in words:\n",
    "        if not word in f_dict.keys():\n",
    "            f_dict[word] = index\n",
    "            index = index + 1\n",
    "        \n",
    "    return f_dict, { v:k for k, v in f_dict.items()}"
   ]
  },
  {
   "cell_type": "code",
   "execution_count": 9,
   "metadata": {
    "collapsed": false,
    "deletable": true,
    "editable": true
   },
   "outputs": [
    {
     "name": "stdout",
     "output_type": "stream",
     "text": [
      "Number of unique tokens: 49815\n"
     ]
    }
   ],
   "source": [
    "words_dict, inv_words_dict = words2dicts(words)\n",
    "words_size = len(words_dict)\n",
    "print(\"Number of unique tokens: {}\".format(words_size))"
   ]
  },
  {
   "cell_type": "code",
   "execution_count": 10,
   "metadata": {
    "collapsed": true,
    "deletable": true,
    "editable": true
   },
   "outputs": [],
   "source": [
    "def dataGenerator(sents, words_dict, window_size = 5, batch_size=32):\n",
    "    s = []\n",
    "    c = []\n",
    "    while(True):\n",
    "        window = ['--' for i in range(window_size)]\n",
    "        for sent in sents:\n",
    "            for context in window:\n",
    "                s.append([words_dict[word] for word in sent])\n",
    "                c.append([words_dict[context]])\n",
    "                if(len(c) == batch_size):\n",
    "                    yield s, c\n",
    "                    s = []\n",
    "                    c = []\n",
    "            for word in sent:\n",
    "                window.pop(0)\n",
    "                window.append(word)\n",
    "\n",
    "        window = ['--' for i in range(window_size)]\n",
    "        for sent in reversed(sents):\n",
    "            for context in window:\n",
    "                s.append([words_dict[word] for word in sent])\n",
    "                c.append([words_dict[context]])\n",
    "                if(len(c) == batch_size):\n",
    "                    yield s, c\n",
    "                    s = []\n",
    "                    c = []\n",
    "            for word in reversed(sent):\n",
    "                window.pop(0)\n",
    "                window.append(word)"
   ]
  },
  {
   "cell_type": "code",
   "execution_count": 11,
   "metadata": {
    "collapsed": false,
    "deletable": true,
    "editable": true
   },
   "outputs": [],
   "source": [
    "WINDOW_SIZE = 10\n",
    "BATCH_SIZE = 1\n",
    "generator = dataGenerator(sents, words_dict, window_size = WINDOW_SIZE, batch_size=BATCH_SIZE)"
   ]
  },
  {
   "cell_type": "code",
   "execution_count": 12,
   "metadata": {
    "collapsed": false,
    "deletable": true,
    "editable": true
   },
   "outputs": [],
   "source": [
    "DIMENSION = 50\n",
    "VOCABULAY_SIZE = len(words_dict)\n",
    "NEGATIVE_SAMPLE = 64\n",
    "\n",
    "graph = tf.Graph()\n",
    "\n",
    "with graph.as_default():\n",
    "    with tf.device('/cpu:0'):\n",
    "    \n",
    "        inputs = tf.placeholder(tf.float32, (None, None)) #(batch, time)\n",
    "        batch_size = tf.shape(inputs)[0]\n",
    "        input_length = tf.shape(inputs)[1]\n",
    "\n",
    "        labels = tf.placeholder(tf.int32, shape=[BATCH_SIZE, 1])\n",
    "\n",
    "        rnn_inputs  = tf.expand_dims(tf.transpose(inputs, [1, 0]), -1)  # (time, batch, in)\n",
    "        cell = tf.contrib.rnn.BasicLSTMCell(DIMENSION, state_is_tuple=True)\n",
    "        initial_state = cell.zero_state(batch_size, tf.float32)\n",
    "        rnn_outputs, rnn_states = tf.nn.dynamic_rnn(cell, rnn_inputs, initial_state=initial_state, time_major=True)    \n",
    "        \n",
    "        rnn_final_state = tf.reshape(tf.gather_nd(rnn_outputs, [[tf.subtract(input_length, 1)]]), [-1, DIMENSION])\n",
    "\n",
    "        nce_weights = tf.Variable(\n",
    "            tf.truncated_normal([VOCABULAY_SIZE, DIMENSION],\n",
    "                                stddev=1.0 / math.sqrt(DIMENSION)))\n",
    "\n",
    "        nce_biases = tf.Variable(tf.zeros([VOCABULAY_SIZE]))\n",
    "\n",
    "        loss = tf.reduce_mean(\n",
    "          tf.nn.nce_loss(weights=nce_weights,\n",
    "                     biases=nce_biases,\n",
    "                     labels=labels,\n",
    "                     inputs=rnn_final_state,\n",
    "                     num_sampled=NEGATIVE_SAMPLE,\n",
    "                     num_classes=VOCABULAY_SIZE))\n",
    "\n",
    "        optimizer = tf.train.GradientDescentOptimizer(1.0).minimize(loss)\n",
    "        \n",
    "        init = tf.global_variables_initializer()\n",
    "        saver = tf.train.Saver()"
   ]
  },
  {
   "cell_type": "code",
   "execution_count": 52,
   "metadata": {
    "collapsed": false,
    "deletable": true,
    "editable": true
   },
   "outputs": [
    {
     "name": "stdout",
     "output_type": "stream",
     "text": [
      "INFO:tensorflow:Restoring parameters from ./model/rnn-tf-nce-model.ckpt\n",
      "Model saved in file: ./model/rnn-tf-nce-model.ckpt\n",
      "Average loss at step  2000 :  11.2076740854\n",
      "Average loss at step  4000 :  10.1554126407\n",
      "Average loss at step  6000 :  10.4242633301\n",
      "Average loss at step  8000 :  9.52975619698\n",
      "Average loss at step  10000 :  9.62595331028\n",
      "Average loss at step  12000 :  9.48849992478\n",
      "Average loss at step  14000 :  9.43170004022\n",
      "Average loss at step  16000 :  9.41286372928\n",
      "Average loss at step  18000 :  9.42166561843\n",
      "Average loss at step  20000 :  9.33900203326\n",
      "Model saved in file: ./model/rnn-tf-nce-model.ckpt\n",
      "Average loss at step  22000 :  9.33691114551\n",
      "Average loss at step  24000 :  9.26824543309\n",
      "Average loss at step  26000 :  9.58674203391\n",
      "Average loss at step  28000 :  9.26968712316\n",
      "Average loss at step  30000 :  9.28938150094\n",
      "Average loss at step  32000 :  9.54470630907\n",
      "Average loss at step  34000 :  9.33068675509\n",
      "Average loss at step  36000 :  9.7230190336\n",
      "Average loss at step  38000 :  9.9762371446\n",
      "Average loss at step  40000 :  9.48280880696\n",
      "Model saved in file: ./model/rnn-tf-nce-model.ckpt\n",
      "Average loss at step  42000 :  9.59358233232\n",
      "Average loss at step  44000 :  9.48882962757\n",
      "Average loss at step  46000 :  9.52028196778\n",
      "Average loss at step  48000 :  9.78678346789\n",
      "Average loss at step  50000 :  9.90653959777\n",
      "Average loss at step  52000 :  9.656776796\n",
      "Average loss at step  54000 :  9.50514576479\n",
      "Average loss at step  56000 :  9.07412696666\n",
      "Average loss at step  58000 :  8.88515649316\n",
      "Average loss at step  60000 :  9.07284868093\n",
      "Model saved in file: ./model/rnn-tf-nce-model.ckpt\n",
      "Average loss at step  62000 :  9.21980839037\n",
      "Average loss at step  64000 :  9.34224308834\n",
      "Average loss at step  66000 :  8.92850539801\n",
      "Average loss at step  68000 :  8.59679925711\n",
      "Average loss at step  70000 :  9.14160041257\n",
      "Average loss at step  72000 :  8.63344052961\n",
      "Average loss at step  74000 :  8.878329811\n",
      "Average loss at step  76000 :  8.7039984215\n",
      "Average loss at step  78000 :  8.95609717184\n",
      "Average loss at step  80000 :  8.79308250167\n",
      "Model saved in file: ./model/rnn-tf-nce-model.ckpt\n",
      "Average loss at step  82000 :  8.90300605583\n",
      "Average loss at step  84000 :  8.94539685942\n",
      "Average loss at step  86000 :  8.56429321451\n",
      "Average loss at step  88000 :  8.62465106563\n",
      "Average loss at step  90000 :  8.78603588164\n",
      "Average loss at step  92000 :  8.21519418891\n",
      "Average loss at step  94000 :  8.75085339954\n",
      "Average loss at step  96000 :  8.79752960948\n",
      "Average loss at step  98000 :  8.2380044988\n",
      "Average loss at step  100000 :  7.76371202308\n",
      "Model saved in file: ./model/rnn-tf-nce-model.ckpt\n"
     ]
    }
   ],
   "source": [
    "num_steps = 100001\n",
    "MODEL = './model/rnn-tf-nce-model.ckpt'\n",
    "\n",
    "with tf.Session(graph=graph) as session:\n",
    "    #init.run()\n",
    "    saver.restore(session, MODEL)\n",
    "      \n",
    "    average_loss = 0\n",
    "    for step in range(num_steps):\n",
    "        batch_inputs, batch_labels = next(generator)\n",
    "        feed_dict = {inputs: batch_inputs, labels: batch_labels}\n",
    "\n",
    "        _, loss_val = session.run([optimizer, loss], feed_dict=feed_dict)\n",
    "        average_loss += loss_val\n",
    "\n",
    "        if step % 2000 == 0:\n",
    "            if step > 0:\n",
    "                average_loss /= 2000\n",
    "                print('Average loss at step ', step, ': ', average_loss)\n",
    "                average_loss = 0\n",
    "                \n",
    "        if step % 20000 == 0:\n",
    "            save_path = saver.save(session, MODEL)\n",
    "            print(\"Model saved in file: %s\" % save_path)"
   ]
  },
  {
   "cell_type": "code",
   "execution_count": 53,
   "metadata": {
    "collapsed": false,
    "deletable": true,
    "editable": true
   },
   "outputs": [
    {
     "name": "stdout",
     "output_type": "stream",
     "text": [
      "INFO:tensorflow:Restoring parameters from ./model/rnn-tf-nce-model.ckpt\n",
      "Model restored.\n"
     ]
    }
   ],
   "source": [
    "from sklearn.preprocessing import normalize\n",
    "MODEL = './model/rnn-tf-nce-model.ckpt'\n",
    "\n",
    "with tf.Session(graph=graph) as session:\n",
    "    saver.restore(session, MODEL)\n",
    "    print(\"Model restored.\")\n",
    "    \n",
    "    sents_vec = {}\n",
    "    for sent in sents:\n",
    "        feed_dict = {inputs: [[words_dict[word] for word in sent]]}\n",
    "        sents_vec[' '.join(sent)] = np.array(sum(normalize(rnn_final_state.eval(feed_dict), norm='l2', copy=False)))"
   ]
  },
  {
   "cell_type": "code",
   "execution_count": 54,
   "metadata": {
    "collapsed": true
   },
   "outputs": [],
   "source": [
    "def sent2Vec(sent):\n",
    "    with tf.Session(graph=graph) as session:\n",
    "        saver.restore(session, MODEL)\n",
    "        feed_dict = {inputs: [[words_dict[word] for word in sent]]}\n",
    "        return np.array(sum(normalize(rnn_final_state.eval(feed_dict), norm='l2', copy=False)))"
   ]
  },
  {
   "cell_type": "code",
   "execution_count": 55,
   "metadata": {
    "collapsed": false,
    "deletable": true,
    "editable": true
   },
   "outputs": [
    {
     "name": "stdout",
     "output_type": "stream",
     "text": [
      "INFO:tensorflow:Restoring parameters from ./model/rnn-tf-nce-model.ckpt\n",
      "[ -3.32622159e-23  -7.86810331e-29  -5.04758589e-07  -6.63168081e-20\n",
      "  -6.83803166e-31   1.15277143e-09  -4.96376718e-10  -1.99860221e-27\n",
      "   0.00000000e+00  -2.53019333e-01  -2.38509041e-15   0.00000000e+00\n",
      "   2.55487044e-03   3.32223296e-01   3.72141510e-17   7.76481356e-20\n",
      "  -2.53019392e-01   2.53019422e-01   2.16926068e-07   0.00000000e+00\n",
      "  -8.16419737e-18  -3.41701992e-12   3.32223296e-01   0.00000000e+00\n",
      "   4.67841193e-04  -2.53019392e-01   3.84168131e-12   6.63544582e-25\n",
      "   9.72496578e-34  -3.32223296e-01   1.03643288e-06  -1.07066813e-23\n",
      "   7.86664238e-34  -2.53019273e-01   0.00000000e+00  -1.60554919e-04\n",
      "  -4.98425860e-23   8.64696486e-37   0.00000000e+00   1.92170653e-16\n",
      "  -1.48656425e-25  -2.49830748e-07   5.72228873e-06   2.53019333e-01\n",
      "   2.48085233e-11  -1.84134900e-14  -2.53019333e-01   2.68670770e-19\n",
      "  -3.32223296e-01  -3.32223296e-01]\n",
      "INFO:tensorflow:Restoring parameters from ./model/rnn-tf-nce-model.ckpt\n",
      "[ -2.63473993e-10  -7.87142133e-29  -2.70931014e-06  -6.63308572e-20\n",
      "  -6.84004458e-31   1.15242782e-09  -4.96307218e-10  -1.99754218e-27\n",
      "   0.00000000e+00  -2.53024697e-01  -2.38942108e-15   0.00000000e+00\n",
      "   2.10681115e-03   3.32200170e-01   3.69105360e-17   7.37363726e-20\n",
      "  -2.53024757e-01   2.53024787e-01   2.17374790e-07   0.00000000e+00\n",
      "  -8.16777327e-18  -3.41903502e-12   3.32230330e-01   0.00000000e+00\n",
      "   1.58784624e-05  -2.53024757e-01   3.84334448e-12   7.18765162e-13\n",
      "   9.72873196e-34  -3.32230330e-01   8.61533351e-07  -1.07315233e-23\n",
      "   7.87125160e-34  -2.53024638e-01   0.00000000e+00  -5.02578740e-04\n",
      "  -4.98131804e-23   8.59871266e-37   0.00000000e+00   1.92287477e-16\n",
      "  -1.48707775e-25  -2.49988062e-07   2.87497892e-06   2.53024697e-01\n",
      "   2.48257005e-11  -1.84153331e-14  -2.53024697e-01   2.68680102e-19\n",
      "  -3.32199991e-01  -3.32230330e-01]\n",
      "INFO:tensorflow:Restoring parameters from ./model/rnn-tf-nce-model.ckpt\n",
      "[ -2.85332820e-23  -7.86723364e-29  -1.11430623e-07  -6.63018930e-20\n",
      "  -6.83709362e-31   1.15258547e-09  -4.97152930e-10  -1.99575723e-27\n",
      "   0.00000000e+00  -2.53019392e-01  -2.38494535e-15   0.00000000e+00\n",
      "   2.48516188e-03   3.32223356e-01   3.55397687e-17   7.36794652e-20\n",
      "  -2.53019452e-01   2.53019482e-01   2.17312163e-07   0.00000000e+00\n",
      "  -8.16286809e-18  -3.41707240e-12   3.32223356e-01   0.00000000e+00\n",
      "   3.43188876e-04  -2.53019452e-01   3.84133177e-12   0.00000000e+00\n",
      "   9.72392804e-34  -3.32223356e-01   8.60671719e-07  -1.07025587e-23\n",
      "   7.86646422e-34  -2.53019333e-01   0.00000000e+00  -5.02192881e-04\n",
      "  -4.98357513e-23   8.64563127e-37   0.00000000e+00   1.92155128e-16\n",
      "  -1.48650767e-25  -2.49828616e-07   3.24099278e-06   2.53019392e-01\n",
      "   2.48094167e-11  -1.84047418e-14  -2.53019392e-01   2.68612842e-19\n",
      "  -3.32223356e-01  -3.32223356e-01]\n",
      "INFO:tensorflow:Restoring parameters from ./model/rnn-tf-nce-model.ckpt\n",
      "INFO:tensorflow:Restoring parameters from ./model/rnn-tf-nce-model.ckpt\n",
      "[  1.40129846e-45   0.00000000e+00   5.62455627e-14   4.39692986e-39\n",
      "   0.00000000e+00   1.32866765e-18   2.46775144e-19   0.00000000e+00\n",
      "   0.00000000e+00   6.40188009e-02   5.68831045e-30   0.00000000e+00\n",
      "   6.34926664e-06   1.10372335e-01   1.32258231e-33   5.72107283e-39\n",
      "   6.40188307e-02   6.40188456e-02   4.71406734e-14   0.00000000e+00\n",
      "   6.66432689e-35   1.16762048e-23   1.10372335e-01   0.00000000e+00\n",
      "   1.60557889e-07   6.40188307e-02   1.47571720e-23   0.00000000e+00\n",
      "   0.00000000e+00   1.10372335e-01   8.92028476e-13   0.00000000e+00\n",
      "   0.00000000e+00   6.40187711e-02   0.00000000e+00   8.06295404e-08\n",
      "   2.80259693e-45   0.00000000e+00   0.00000000e+00   3.69265769e-32\n",
      "   0.00000000e+00   6.24148696e-14   1.85458957e-11   6.40188009e-02\n",
      "   6.15484980e-22   3.38895540e-28   6.40188009e-02   7.21684179e-38\n",
      "   1.10372335e-01   1.10372335e-01]\n"
     ]
    }
   ],
   "source": [
    "print(sent2Vec(sents[0]))\n",
    "print(sent2Vec(sents[1]))\n",
    "print(sent2Vec(sents[2]))\n",
    "\n",
    "print(sent2Vec(sents[0]) * sent2Vec(sents[2]))"
   ]
  },
  {
   "cell_type": "code",
   "execution_count": null,
   "metadata": {
    "collapsed": true,
    "deletable": true,
    "editable": true
   },
   "outputs": [],
   "source": [
    "def plotData(vocabs, X, Y):\n",
    "    plt.clf()\n",
    "    plt.figure(figsize=(36, 36))\n",
    "    plt.scatter(X, Y)\n",
    "    plt.axis([min(X), max(X), min(Y), max(Y)])\n",
    "    for label, x, y in zip(vocabs, X, Y):\n",
    "        plt.annotate(label, xy=(x, y), xytext=(0, 0), textcoords='offset points')\n",
    "    plt.show()    "
   ]
  },
  {
   "cell_type": "code",
   "execution_count": null,
   "metadata": {
    "collapsed": true,
    "deletable": true,
    "editable": true
   },
   "outputs": [],
   "source": [
    "def plot(vocabs, words_vec):\n",
    "    X = [words_vec[vocab][0] for vocab in vocabs]\n",
    "    Y = [words_vec[vocab][1] for vocab in vocabs]\n",
    "    plotData(vocabs, X, Y)"
   ]
  },
  {
   "cell_type": "code",
   "execution_count": null,
   "metadata": {
    "collapsed": true,
    "deletable": true,
    "editable": true
   },
   "outputs": [],
   "source": [
    "def plotTSNE(vocabs, vectors):\n",
    "    tsne = TSNE(perplexity=30, n_components=2, n_iter=5000, random_state = 7890, method='exact')\n",
    "    #np.set_printoptions(suppress=True)\n",
    "    data = np.array([vectors[vocab] for vocab in vocabs])    \n",
    "    DATA = tsne.fit_transform(data)\n",
    "    X = DATA[:, 0]\n",
    "    Y = DATA[:, 1]\n",
    "    \n",
    "    plotData(vocabs, X, Y)"
   ]
  },
  {
   "cell_type": "code",
   "execution_count": null,
   "metadata": {
    "collapsed": false,
    "deletable": true,
    "editable": true
   },
   "outputs": [],
   "source": [
    "from DataLoader import GloVe\n",
    "\n",
    "glove = GloVe.load2('./data/GloVe/glove.6B.50d.txt')"
   ]
  },
  {
   "cell_type": "code",
   "execution_count": null,
   "metadata": {
    "collapsed": false,
    "deletable": true,
    "editable": true
   },
   "outputs": [],
   "source": [
    "vocabs = ['man', 'woman', 'king', 'queen', 'male', 'female', 'boy', 'girl']\n",
    "np.random.seed(1234)\n",
    "\n",
    "random_vocabs = []\n",
    "for i in np.random.randint(0, len(words_dict), 2000):\n",
    "    if inv_words_dict[i] in glove.keys():\n",
    "        random_vocabs.append(inv_words_dict[i])\n",
    "        \n",
    "print(len(random_vocabs))"
   ]
  },
  {
   "cell_type": "code",
   "execution_count": null,
   "metadata": {
    "collapsed": false,
    "deletable": true,
    "editable": true
   },
   "outputs": [],
   "source": [
    "#plotTSNE(random_vocabs, words_vec)"
   ]
  },
  {
   "cell_type": "code",
   "execution_count": null,
   "metadata": {
    "collapsed": false,
    "deletable": true,
    "editable": true
   },
   "outputs": [],
   "source": [
    "#plotTSNE(random_vocabs, glove)"
   ]
  },
  {
   "cell_type": "code",
   "execution_count": null,
   "metadata": {
    "collapsed": true,
    "deletable": true,
    "editable": true
   },
   "outputs": [],
   "source": [
    "def cloestWord(word, words_vec, count = 10, method=None):\n",
    "    if method == 'cos':\n",
    "        dist = np.array([ sum(words_vec[word] * words_vec[key]) for key in words_vec.keys()])\n",
    "        top_ten = dist.argsort()[::-1][:10]\n",
    "    else:\n",
    "        dist = np.array([ sum(np.square(np.array(words_vec[word]) - np.array(words_vec[key]))) for key in words_vec.keys()])\n",
    "        top_ten = dist.argsort()[:10]\n",
    "    return [list(words_vec.keys())[i] for i in top_ten]"
   ]
  },
  {
   "cell_type": "code",
   "execution_count": 45,
   "metadata": {
    "collapsed": true
   },
   "outputs": [],
   "source": [
    "def cloestSent(sent, sents_vec, count=10):\n",
    "    vec = sent2Vec(sent)\n",
    "    dist = np.array([ sum(vec * sents_vec[key]) for key in sents_vec.keys()])\n",
    "    closest = dist.argsort()[::-1][:count]\n",
    "    \n",
    "    return [list(sents_vec.keys())[i] for i in closest]"
   ]
  },
  {
   "cell_type": "code",
   "execution_count": 46,
   "metadata": {
    "collapsed": false
   },
   "outputs": [
    {
     "name": "stdout",
     "output_type": "stream",
     "text": [
      "the fulton county grand jury said friday an investigation of atlanta's recent primary election produced `` no evidence '' that any irregularities took place .\n",
      "\n",
      "INFO:tensorflow:Restoring parameters from ./model/rnn-tf-nce-model.ckpt\n",
      "[ 1.00000008  0.99997272  0.99997263 ...,  0.99997267  0.99997273\n",
      "  0.99997265]\n",
      "the proposal would have to receive final legislative approval , by two-thirds majorities , before march 1 to be printed on the april 4 ballot , roberts said .\n",
      "\n",
      "the suitcases had come while they were out , and had been put in their room , the concierge said .\n",
      "\n",
      "the only day they `` have a chance to compete with large supermarkets is on sunday '' , the council's resolution said .\n",
      "\n",
      "the hughes concern then took `` shortcuts '' on the project but got paid anyway , hemphill said .\n",
      "\n",
      "the deeds of this team , through two seasons and in the two world's series that followed , have been written and talked about until hardly a word is left to be said .\n",
      "\n",
      "the grand jury commented on a number of other topics , among them the atlanta and fulton county purchasing departments which it said `` are well operated and follow generally accepted practices which inure to the best interest of both governments '' .\n",
      "\n",
      "the action is a drop-block , handling all the standard\n",
      "\n",
      "the fulton county grand jury said friday an investigation of atlanta's recent primary election produced `` no evidence '' that any irregularities took place .\n",
      "\n",
      "the line af is the image of l .\n",
      "\n",
      "the clock you heard strike -- it's really the town clock -- was installed last april by mrs. shorter , on her birthday '' .\n"
     ]
    }
   ],
   "source": [
    "print(' '.join(sents[0]) + '\\n')\n",
    "print('\\n\\n'.join(cloestSent(sents[0], sents_vec)))"
   ]
  },
  {
   "cell_type": "code",
   "execution_count": null,
   "metadata": {
    "collapsed": false,
    "deletable": true,
    "editable": true
   },
   "outputs": [],
   "source": [
    "print(cloestWord('man', words_vec, method='cos'))\n",
    "print(cloestWord('man', glove))"
   ]
  },
  {
   "cell_type": "code",
   "execution_count": null,
   "metadata": {
    "collapsed": false,
    "deletable": true,
    "editable": true
   },
   "outputs": [],
   "source": [
    "print(cloestWord('woman', words_vec, method='cos'))\n",
    "print(cloestWord('woman', glove))"
   ]
  },
  {
   "cell_type": "code",
   "execution_count": null,
   "metadata": {
    "collapsed": false,
    "deletable": true,
    "editable": true
   },
   "outputs": [],
   "source": [
    "print(cloestWord('however', words_vec, method='cos'))\n",
    "print(cloestWord('however', glove))"
   ]
  },
  {
   "cell_type": "code",
   "execution_count": null,
   "metadata": {
    "collapsed": false,
    "deletable": true,
    "editable": true
   },
   "outputs": [],
   "source": [
    "print(cloestWord('his', words_vec, method='cos'))\n",
    "print(cloestWord('his', glove))"
   ]
  },
  {
   "cell_type": "code",
   "execution_count": null,
   "metadata": {
    "collapsed": false,
    "deletable": true,
    "editable": true
   },
   "outputs": [],
   "source": [
    "print(cloestWord('zero', words_vec, method='cos'))\n",
    "print(cloestWord('zero', glove))"
   ]
  },
  {
   "cell_type": "code",
   "execution_count": null,
   "metadata": {
    "collapsed": false,
    "deletable": true,
    "editable": true
   },
   "outputs": [],
   "source": [
    "print(cloestWord('one', words_vec, method='cos'))\n",
    "print(cloestWord('one', glove))"
   ]
  },
  {
   "cell_type": "code",
   "execution_count": null,
   "metadata": {
    "collapsed": false,
    "deletable": true,
    "editable": true
   },
   "outputs": [],
   "source": [
    "print(cloestWord('two', words_vec, method='cos'))\n",
    "print(cloestWord('two', glove))"
   ]
  },
  {
   "cell_type": "code",
   "execution_count": null,
   "metadata": {
    "collapsed": true,
    "deletable": true,
    "editable": true
   },
   "outputs": [],
   "source": []
  }
 ],
 "metadata": {
  "kernelspec": {
   "display_name": "Python 3",
   "language": "python",
   "name": "python3"
  },
  "language_info": {
   "codemirror_mode": {
    "name": "ipython",
    "version": 3
   },
   "file_extension": ".py",
   "mimetype": "text/x-python",
   "name": "python",
   "nbconvert_exporter": "python",
   "pygments_lexer": "ipython3",
   "version": "3.5.2+"
  }
 },
 "nbformat": 4,
 "nbformat_minor": 2
}
