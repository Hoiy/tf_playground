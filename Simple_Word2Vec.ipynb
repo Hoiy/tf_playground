{
 "cells": [
  {
   "cell_type": "code",
   "execution_count": 125,
   "metadata": {
    "collapsed": false
   },
   "outputs": [],
   "source": [
    "from Utils.FS import file\n",
    "from nltk.tokenize.punkt import PunktSentenceTokenizer\n",
    "from nltk.tokenize import word_tokenize\n",
    "from nltk.corpus import brown\n",
    "from scipy.sparse import coo_matrix, dok_matrix\n",
    "from scipy.sparse.linalg import svds\n",
    "from sklearn.preprocessing import normalize"
   ]
  },
  {
   "cell_type": "code",
   "execution_count": 71,
   "metadata": {
    "collapsed": false
   },
   "outputs": [],
   "source": [
    "sents = brown.sents()\n",
    "sents = [[token.lower() for token in sent] for sent in sents]\n",
    "words = brown.words()\n",
    "words = [word.lower() for word in words]"
   ]
  },
  {
   "cell_type": "code",
   "execution_count": 72,
   "metadata": {
    "collapsed": false
   },
   "outputs": [
    {
     "name": "stdout",
     "output_type": "stream",
     "text": [
      "Number of tokens: 1161192\n",
      "Number of sentences: 57340\n",
      "Longest sentences length: 180\n"
     ]
    }
   ],
   "source": [
    "print(\"Number of tokens: {}\".format(len(words)))\n",
    "print(\"Number of sentences: {}\".format(len(sents)))\n",
    "print(\"Longest sentences length: {}\".format(max([len(sent) for sent in sents])))"
   ]
  },
  {
   "cell_type": "code",
   "execution_count": 73,
   "metadata": {
    "collapsed": false
   },
   "outputs": [],
   "source": [
    "def words2dicts(words):\n",
    "    f_dict = {}\n",
    "    index = 0\n",
    "    for word in words:\n",
    "        if not word in f_dict.keys():\n",
    "            f_dict[word] = index\n",
    "            index = index + 1\n",
    "        \n",
    "    return f_dict, { v:k for k, v in f_dict.items()}\n",
    "\n",
    "#def sents2wordContextMatrix(sents):\n",
    "    "
   ]
  },
  {
   "cell_type": "code",
   "execution_count": 74,
   "metadata": {
    "collapsed": false
   },
   "outputs": [
    {
     "name": "stdout",
     "output_type": "stream",
     "text": [
      "{'c': 2, 'a': 0, 'b': 1}\n",
      "{0: 'a', 1: 'b', 2: 'c'}\n"
     ]
    }
   ],
   "source": [
    "a = ['a','b', 'c', 'c', 'a']\n",
    "c,d = words2dicts(a)\n",
    "print(c)\n",
    "print(d)"
   ]
  },
  {
   "cell_type": "code",
   "execution_count": 84,
   "metadata": {
    "collapsed": false
   },
   "outputs": [
    {
     "name": "stdout",
     "output_type": "stream",
     "text": [
      "Number of unique tokens: 49815\n"
     ]
    }
   ],
   "source": [
    "words_dict, inv_words_dict = words2dicts(words)\n",
    "words_size = len(words_dict)\n",
    "print(\"Number of unique tokens: {}\".format(words_size))"
   ]
  },
  {
   "cell_type": "code",
   "execution_count": 255,
   "metadata": {
    "collapsed": false
   },
   "outputs": [],
   "source": [
    "def sents2wordContextMatrix(sents, words_dict, window = 5):\n",
    "    m = coo_matrix((words_size, words_size), 'float64')\n",
    "    \n",
    "    print('Doing forward pass...')\n",
    "    back = []\n",
    "    row = []\n",
    "    col = []\n",
    "    data = []\n",
    "    for sent in sents:\n",
    "        for word in sent:\n",
    "            row += [words_dict[word] for b in back]\n",
    "            col += [words_dict[b] for b in back]\n",
    "            data += [1 for b in back]\n",
    "            if len(back) == window:\n",
    "                back.pop(0)\n",
    "            back.append(word)\n",
    "    m = m + coo_matrix((data, (row, col)), shape=(words_size, words_size))\n",
    "    \n",
    "    print('Doing backward pass...')\n",
    "    back = []\n",
    "    row = []\n",
    "    col = []\n",
    "    data = []\n",
    "    for sent in reversed(sents):\n",
    "        for word in reversed(sent):\n",
    "            row += [words_dict[word] for b in back]\n",
    "            col += [words_dict[b] for b in back]\n",
    "            data += [1 for b in back]\n",
    "            if len(back) == window:\n",
    "                back.pop(0)\n",
    "            back.append(word)\n",
    "    m = m + coo_matrix((data, (row, col)), shape=(words_size, words_size))\n",
    "    \n",
    "    return m"
   ]
  },
  {
   "cell_type": "code",
   "execution_count": 265,
   "metadata": {
    "collapsed": false
   },
   "outputs": [
    {
     "name": "stdout",
     "output_type": "stream",
     "text": [
      "Doing forward pass...\n",
      "Doing backward pass...\n"
     ]
    }
   ],
   "source": [
    "m = sents2wordContextMatrix(sents, words_dict, 15)"
   ]
  },
  {
   "cell_type": "code",
   "execution_count": 288,
   "metadata": {
    "collapsed": false
   },
   "outputs": [],
   "source": [
    "norm_m = normalize(m, norm='l2', axis=1, copy=True, return_norm=False)"
   ]
  },
  {
   "cell_type": "code",
   "execution_count": 289,
   "metadata": {
    "collapsed": false
   },
   "outputs": [],
   "source": [
    "u, s, vt = svds(norm_m, k=100)"
   ]
  },
  {
   "cell_type": "code",
   "execution_count": 290,
   "metadata": {
    "collapsed": false
   },
   "outputs": [],
   "source": [
    "word_vec = norm_m.dot(u)"
   ]
  },
  {
   "cell_type": "code",
   "execution_count": 327,
   "metadata": {
    "collapsed": true
   },
   "outputs": [],
   "source": [
    "vocabs = ['man', 'men', 'boy', 'boys', 'car', 'cars', 'woman', 'women']\n",
    "x = [word_vec[words_dict[vocab]][::-1][0] for vocab in vocabs]\n",
    "y = [word_vec[words_dict[vocab]][::-1][1] for vocab in vocabs]"
   ]
  },
  {
   "cell_type": "code",
   "execution_count": 328,
   "metadata": {
    "collapsed": false
   },
   "outputs": [
    {
     "data": {
      "image/png": "[encoded data removed]",
      "text/plain": [
       "<matplotlib.figure.Figure at 0x11cfbdf98>"
      ]
     },
     "metadata": {},
     "output_type": "display_data"
    }
   ],
   "source": [
    "import matplotlib.pyplot as plt\n",
    "import pylab\n",
    "\n",
    "%matplotlib inline\n",
    "\n",
    "plt.scatter(x, y)\n",
    "\n",
    "for i, name in enumerate(vocabs):\n",
    "    plt.annotate(name, (x[i],y[i]))\n",
    "plt.autoscale(enable=True)\n",
    "plt.show()"
   ]
  }
 ],
 "metadata": {
  "kernelspec": {
   "display_name": "Python 3",
   "language": "python",
   "name": "python3"
  },
  "language_info": {
   "codemirror_mode": {
    "name": "ipython",
    "version": 3
   },
   "file_extension": ".py",
   "mimetype": "text/x-python",
   "name": "python",
   "nbconvert_exporter": "python",
   "pygments_lexer": "ipython3",
   "version": "3.5.2"
  }
 },
 "nbformat": 4,
 "nbformat_minor": 2
}
