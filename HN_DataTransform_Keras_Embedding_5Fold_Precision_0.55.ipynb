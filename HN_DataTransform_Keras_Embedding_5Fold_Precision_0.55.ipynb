{
 "cells": [
  {
   "cell_type": "code",
   "execution_count": 1,
   "metadata": {
    "collapsed": false
   },
   "outputs": [],
   "source": [
    "import pandas as pd\n",
    "\n",
    "FILE = \"/Users/Shared/data/HN_posts_year_to_Sep_26_2016.csv\"\n",
    "\n",
    "data = pd.read_csv(FILE)\n",
    "data = data[[\"id\", \"title\", \"num_points\"]]"
   ]
  },
  {
   "cell_type": "code",
   "execution_count": 2,
   "metadata": {
    "collapsed": false
   },
   "outputs": [],
   "source": [
    "import numpy as np\n",
    "\n",
    "seed = 7\n",
    "np.random.seed(seed)"
   ]
  },
  {
   "cell_type": "code",
   "execution_count": 3,
   "metadata": {
    "collapsed": false
   },
   "outputs": [
    {
     "name": "stderr",
     "output_type": "stream",
     "text": [
      "Using TensorFlow backend.\n"
     ]
    },
    {
     "name": "stdout",
     "output_type": "stream",
     "text": [
      "Found 87282 unique tokens.\n"
     ]
    }
   ],
   "source": [
    "from keras.preprocessing.text import Tokenizer\n",
    "from keras.preprocessing.sequence import pad_sequences\n",
    "\n",
    "title = data[\"title\"]\n",
    "\n",
    "tokenizer = Tokenizer()\n",
    "tokenizer.fit_on_texts(title)\n",
    "word_index = tokenizer.word_index\n",
    "print('Found %s unique tokens.' % len(word_index))"
   ]
  },
  {
   "cell_type": "code",
   "execution_count": 19,
   "metadata": {
    "collapsed": false
   },
   "outputs": [],
   "source": [
    "GOOD_THRESHOLD = 100\n",
    "MAX_SEQUENCE_LENGTH = 24\n",
    "\n",
    "train = data.sample(frac=0.8)\n",
    "test = data.drop(train.index)"
   ]
  },
  {
   "cell_type": "code",
   "execution_count": 20,
   "metadata": {
    "collapsed": false
   },
   "outputs": [
    {
     "name": "stdout",
     "output_type": "stream",
     "text": [
      "Found 400000 word vectors.\n"
     ]
    }
   ],
   "source": [
    "import os\n",
    "import numpy as np\n",
    "\n",
    "EMBEDDING_DIM = 300\n",
    "\n",
    "embeddings_index = {}\n",
    "f = open(os.path.join('/Users/Shared/data/glove.6B/', 'glove.6B.%dd.txt' % EMBEDDING_DIM))\n",
    "for line in f:\n",
    "    values = line.split()\n",
    "    word = values[0]\n",
    "    coefs = np.asarray(values[1:], dtype='float32')\n",
    "    embeddings_index[word] = coefs\n",
    "f.close()\n",
    "\n",
    "print('Found %s word vectors.' % len(embeddings_index))"
   ]
  },
  {
   "cell_type": "code",
   "execution_count": 21,
   "metadata": {
    "collapsed": false
   },
   "outputs": [],
   "source": [
    "\n",
    "\n",
    "embedding_matrix = np.zeros((len(word_index) + 1, EMBEDDING_DIM))\n",
    "for word, i in word_index.items():\n",
    "    embedding_vector = embeddings_index.get(word)\n",
    "    if embedding_vector is not None:\n",
    "        # words not found in embedding index will be all-zeros.\n",
    "        embedding_matrix[i] = embedding_vector"
   ]
  },
  {
   "cell_type": "code",
   "execution_count": 22,
   "metadata": {
    "collapsed": false
   },
   "outputs": [],
   "source": [
    "def prepareData(df):    \n",
    "    good = df[df[\"num_points\"] >= GOOD_THRESHOLD]\n",
    "    bad = df[df[\"num_points\"] < GOOD_THRESHOLD]\n",
    "    bad = bad.sample(n=good.shape[0])\n",
    "    data = good.append(bad)\n",
    "    data = data.sample(frac=1).reset_index(drop=True)\n",
    "    \n",
    "    num_points = data[\"num_points\"].values\n",
    "\n",
    "    y_train = np.zeros((len(num_points), 2), dtype=int)\n",
    "    y_original = np.zeros((len(num_points)), dtype=int)\n",
    "    for i in range(0, len(num_points)):\n",
    "        y_train[i, 1] = int(num_points[i] >= GOOD_THRESHOLD)\n",
    "        y_train[i, 0] = int(num_points[i] < GOOD_THRESHOLD)\n",
    "        y_original[i] = int(num_points[i] >= GOOD_THRESHOLD)\n",
    "        \n",
    "    sequences = tokenizer.texts_to_sequences(data[\"title\"])\n",
    "    x_train = pad_sequences(sequences, maxlen=MAX_SEQUENCE_LENGTH)\n",
    "\n",
    "    return x_train, y_train, y_original\n"
   ]
  },
  {
   "cell_type": "code",
   "execution_count": 23,
   "metadata": {
    "collapsed": false
   },
   "outputs": [
    {
     "name": "stdout",
     "output_type": "stream",
     "text": [
      "[0 0 0 ..., 0 1 0]\n"
     ]
    }
   ],
   "source": [
    "x_full, y_full, y2_full = prepareData(data)\n",
    "x_train, y_train, _ = prepareData(train)\n",
    "x_test, y_test, _ = prepareData(test)\n",
    "\n",
    "print(y2_full)"
   ]
  },
  {
   "cell_type": "code",
   "execution_count": 45,
   "metadata": {
    "collapsed": false
   },
   "outputs": [],
   "source": [
    "from keras.layers import Input, Convolution1D, MaxPooling1D, Dense, Flatten, Dropout, Embedding\n",
    "from keras.models import Model\n",
    "from keras.regularizers import l2, activity_l2\n",
    "\n",
    "def create_baseline():\n",
    "    embedding_layer = Embedding(len(word_index) + 1,\n",
    "                            EMBEDDING_DIM,\n",
    "                            input_length=MAX_SEQUENCE_LENGTH,\n",
    "                            trainable=False)\n",
    "\n",
    "    sequence_input = Input(shape=(MAX_SEQUENCE_LENGTH,), dtype='int32')\n",
    "    embedded_sequences = embedding_layer(sequence_input)\n",
    "    x = Convolution1D(16, 5, activation='relu')(embedded_sequences)\n",
    "    #x = Dropout(0.5)(x)\n",
    "    x = MaxPooling1D()(x)\n",
    "    x = Convolution1D(16, 5, activation='relu')(embedded_sequences)\n",
    "    #x = Dropout(0.5)(x)\n",
    "    x = MaxPooling1D()(x)\n",
    "    #x = Dropout(0.5)(x)\n",
    "    #x = Flatten()(embedded_sequences)\n",
    "    x = Flatten()(x)\n",
    "    x = Dense(50, init='uniform', activation='relu')(x)\n",
    "    x = Dense(50, init='uniform', activation='relu')(x)\n",
    "\n",
    "    preds = Dense(2, activation='softmax')(x)\n",
    "    model = Model(sequence_input, preds)\n",
    "    model.compile(loss='binary_crossentropy',\n",
    "              optimizer='adam',\n",
    "              metrics=['acc', 'precision'])\n",
    "    return model"
   ]
  },
  {
   "cell_type": "code",
   "execution_count": 46,
   "metadata": {
    "collapsed": true
   },
   "outputs": [],
   "source": [
    "from sklearn.metrics import precision_score, recall_score\n",
    "\n",
    "def validate(model, x_test, y_test):\n",
    "    test_truth = np.apply_along_axis(lambda x: np.argmax(x), 1, y_test)\n",
    "    test_pred = model.predict(x_test)\n",
    "    test_pred = np.apply_along_axis(lambda x: np.argmax(x), 1, test_pred)\n",
    "    precision = precision_score(test_truth, test_pred)\n",
    "    recall = recall_score(test_truth, test_pred)\n",
    "    print(precision)\n",
    "    print(recall)\n",
    "    return precision, recall"
   ]
  },
  {
   "cell_type": "code",
   "execution_count": 47,
   "metadata": {
    "collapsed": true
   },
   "outputs": [],
   "source": [
    "from keras.callbacks import EarlyStopping\n",
    "es = EarlyStopping('val_precision', patience=1, mode='max')"
   ]
  },
  {
   "cell_type": "code",
   "execution_count": null,
   "metadata": {
    "collapsed": false,
    "scrolled": false
   },
   "outputs": [
    {
     "name": "stdout",
     "output_type": "stream",
     "text": [
      "[0 0 0 ..., 0 1 0]\n",
      "TRAIN: [    1     2     3 ..., 23074 23076 23077] TEST: [    0     6    12 ..., 23075 23078 23079]\n",
      "Train on 18464 samples, validate on 4616 samples\n",
      "Epoch 1/100\n",
      "18464/18464 [==============================] - 5s - loss: 0.6909 - acc: 0.5272 - precision: 0.5272 - val_loss: 0.6872 - val_acc: 0.5498 - val_precision: 0.5498\n",
      "Epoch 2/100\n",
      "18464/18464 [==============================] - 4s - loss: 0.6779 - acc: 0.5738 - precision: 0.5738 - val_loss: 0.6853 - val_acc: 0.5505 - val_precision: 0.5505\n",
      "Epoch 3/100\n",
      "18464/18464 [==============================] - 4s - loss: 0.6471 - acc: 0.6274 - precision: 0.6274 - val_loss: 0.6997 - val_acc: 0.5457 - val_precision: 0.5457\n",
      "Epoch 4/100\n",
      "18464/18464 [==============================] - 5s - loss: 0.6033 - acc: 0.6797 - precision: 0.6797 - val_loss: 0.7319 - val_acc: 0.5461 - val_precision: 0.5461\n",
      "Epoch 5/100\n",
      "18464/18464 [==============================] - 4s - loss: 0.5451 - acc: 0.7289 - precision: 0.7289 - val_loss: 0.7856 - val_acc: 0.5364 - val_precision: 0.5364\n",
      "Epoch 6/100\n",
      "18464/18464 [==============================] - 4s - loss: 0.4807 - acc: 0.7743 - precision: 0.7743 - val_loss: 0.8613 - val_acc: 0.5349 - val_precision: 0.5349\n",
      "Epoch 7/100\n",
      "18464/18464 [==============================] - 5s - loss: 0.4157 - acc: 0.8176 - precision: 0.8176 - val_loss: 0.9722 - val_acc: 0.5282 - val_precision: 0.5282\n",
      "Epoch 8/100\n",
      "18464/18464 [==============================] - 5s - loss: 0.3538 - acc: 0.8537 - precision: 0.8537 - val_loss: 1.0912 - val_acc: 0.5321 - val_precision: 0.5321\n",
      "Epoch 9/100\n",
      "18464/18464 [==============================] - 4s - loss: 0.2931 - acc: 0.8853 - precision: 0.8853 - val_loss: 1.2251 - val_acc: 0.5364 - val_precision: 0.5364\n",
      "Epoch 10/100\n",
      "18464/18464 [==============================] - 5s - loss: 0.2501 - acc: 0.9055 - precision: 0.9055 - val_loss: 1.4340 - val_acc: 0.5266 - val_precision: 0.5266\n",
      "Epoch 11/100\n",
      "18464/18464 [==============================] - 5s - loss: 0.2167 - acc: 0.9194 - precision: 0.9194 - val_loss: 1.5488 - val_acc: 0.5327 - val_precision: 0.5327\n",
      "Epoch 12/100\n",
      "18464/18464 [==============================] - 5s - loss: 0.1833 - acc: 0.9340 - precision: 0.9340 - val_loss: 1.6765 - val_acc: 0.5273 - val_precision: 0.5273\n",
      "Epoch 13/100\n",
      "18464/18464 [==============================] - 5s - loss: 0.1511 - acc: 0.9503 - precision: 0.9503 - val_loss: 1.9025 - val_acc: 0.5251 - val_precision: 0.5251\n",
      "Epoch 14/100\n",
      "18464/18464 [==============================] - 5s - loss: 0.1401 - acc: 0.9531 - precision: 0.9531 - val_loss: 1.9181 - val_acc: 0.5316 - val_precision: 0.5316\n",
      "Epoch 15/100\n",
      "18464/18464 [==============================] - 5s - loss: 0.1289 - acc: 0.9591 - precision: 0.9591 - val_loss: 2.1033 - val_acc: 0.5318 - val_precision: 0.5318\n",
      "Epoch 16/100\n",
      "18464/18464 [==============================] - 5s - loss: 0.1137 - acc: 0.9636 - precision: 0.9636 - val_loss: 2.1574 - val_acc: 0.5344 - val_precision: 0.5344\n",
      "Epoch 17/100\n",
      "18464/18464 [==============================] - 5s - loss: 0.1030 - acc: 0.9686 - precision: 0.9686 - val_loss: 2.3371 - val_acc: 0.5373 - val_precision: 0.5373\n",
      "Epoch 18/100\n",
      "18464/18464 [==============================] - 5s - loss: 0.1174 - acc: 0.9607 - precision: 0.9607 - val_loss: 2.1882 - val_acc: 0.5349 - val_precision: 0.5349\n",
      "Epoch 19/100\n",
      " 3200/18464 [====>.........................] - ETA: 4s - loss: 0.0922 - acc: 0.9706 - precision: 0.9706"
     ]
    }
   ],
   "source": [
    "from sklearn.model_selection import StratifiedKFold\n",
    "\n",
    "N = 5\n",
    "\n",
    "kfold = StratifiedKFold(n_splits=N, shuffle=True, random_state=seed)\n",
    "kfold.get_n_splits(x_full, y_full)\n",
    "\n",
    "print(y2_full)\n",
    "\n",
    "precision = 0\n",
    "recall = 0\n",
    "for train_index, test_index in kfold.split(x_full, y2_full):\n",
    "    print(\"TRAIN:\", train_index, \"TEST:\", test_index)\n",
    "    x_train, x_test = x_full[train_index], x_full[test_index]\n",
    "    y_train, y_test = y_full[train_index], y_full[test_index]\n",
    "    model = create_baseline()\n",
    "    model.fit(x_train, y_train, nb_epoch=100, batch_size=128, validation_data=(x_test, y_test), callbacks=[])\n",
    "    p, r = validate(model, x_test, y_test)\n",
    "    precision += p\n",
    "    recall += r\n",
    "    \n",
    "print(\"Precision: %.2f\" % (precision / N))\n",
    "print(\"Recall: %.2f\" % (recall / N))"
   ]
  },
  {
   "cell_type": "code",
   "execution_count": null,
   "metadata": {
    "collapsed": true
   },
   "outputs": [],
   "source": []
  },
  {
   "cell_type": "code",
   "execution_count": null,
   "metadata": {
    "collapsed": true
   },
   "outputs": [],
   "source": []
  }
 ],
 "metadata": {
  "anaconda-cloud": {},
  "kernelspec": {
   "display_name": "Python 3",
   "language": "python",
   "name": "python3"
  },
  "language_info": {
   "codemirror_mode": {
    "name": "ipython",
    "version": 3
   },
   "file_extension": ".py",
   "mimetype": "text/x-python",
   "name": "python",
   "nbconvert_exporter": "python",
   "pygments_lexer": "ipython3",
   "version": "3.5.2"
  }
 },
 "nbformat": 4,
 "nbformat_minor": 1
}
