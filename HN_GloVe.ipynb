{
 "cells": [
  {
   "cell_type": "code",
   "execution_count": null,
   "metadata": {
    "collapsed": false
   },
   "outputs": [],
   "source": [
    "import pandas as pd\n",
    "\n",
    "FILE = \"/Users/Shared/data/HN_posts_year_to_Sep_26_2016.csv\"\n",
    "SIZE = 10000\n",
    "VIRAL_THRESHOLD = 100\n",
    "\n",
    "data = pd.read_csv(FILE)\n",
    "data = data.sample(SIZE)"
   ]
  },
  {
   "cell_type": "code",
   "execution_count": null,
   "metadata": {
    "collapsed": false
   },
   "outputs": [],
   "source": [
    "data = data[['title', 'num_points']]"
   ]
  },
  {
   "cell_type": "code",
   "execution_count": null,
   "metadata": {
    "collapsed": false
   },
   "outputs": [],
   "source": [
    "viral = data[\"num_points\"].apply(lambda x: pd.Series(1 if x >= VIRAL_THRESHOLD else 0))\n",
    "viral.columns=[\"viral\"]"
   ]
  },
  {
   "cell_type": "code",
   "execution_count": null,
   "metadata": {
    "collapsed": false
   },
   "outputs": [],
   "source": [
    "#skew checking\n",
    "viral.describe()"
   ]
  },
  {
   "cell_type": "code",
   "execution_count": null,
   "metadata": {
    "collapsed": false
   },
   "outputs": [],
   "source": [
    "from nltk.tokenize import StanfordTokenizer\n",
    "import numpy as np\n",
    "title = data[\"title\"].apply(lambda x: pd.Series(StanfordTokenizer().tokenize(x)))\n",
    "title = title.applymap(lambda x: '.' if x is np.nan else x.lower())"
   ]
  },
  {
   "cell_type": "code",
   "execution_count": null,
   "metadata": {
    "collapsed": false
   },
   "outputs": [],
   "source": [
    "import DataLoader.GloVe as gl\n",
    "glove = gl.load('/Users/Shared/data/glove.6B/glove.6B.50d.txt')"
   ]
  },
  {
   "cell_type": "code",
   "execution_count": null,
   "metadata": {
    "collapsed": false,
    "scrolled": true
   },
   "outputs": [],
   "source": [
    "def to_word_vec(word, embedding):\n",
    "    try:\n",
    "        return embedding.loc[word]\n",
    "    except:\n",
    "        return embedding.loc['.']\n",
    "\n",
    "title_emb = []\n",
    "for i in title.columns:\n",
    "    title_emb.append(title[i].apply(lambda x: to_word_vec(x, glove)))\n",
    "    title_emb[-1].columns = [ i * glove.shape[1] + j for j in title_emb[i].columns]"
   ]
  },
  {
   "cell_type": "code",
   "execution_count": null,
   "metadata": {
    "collapsed": false
   },
   "outputs": [],
   "source": [
    "hn_data = viral\n",
    "for i in range(len(title_emb)):\n",
    "    hn_data = hn_data.join(title_emb[i])"
   ]
  },
  {
   "cell_type": "code",
   "execution_count": null,
   "metadata": {
    "collapsed": true
   },
   "outputs": [],
   "source": [
    "hn_data.to_csv('./hn_gloves_%d_%d' % (SIZE, VIRAL_THRESHOLD), header=False, index=False)"
   ]
  },
  {
   "cell_type": "code",
   "execution_count": null,
   "metadata": {
    "collapsed": false
   },
   "outputs": [],
   "source": [
    "testing_data = hn_data.sample(frac=0.2)\n",
    "training_data = hn_data.drop(testing_data.index)\n",
    "\n",
    "testing_data.to_csv('./hn_testing_%d_%d.csv' % (SIZE, VIRAL_THRESHOLD), header=False, index=False)\n",
    "training_data.to_csv('./hn_training_%d_%d.csv' % (SIZE, VIRAL_THRESHOLD), header=False, index=False)"
   ]
  },
  {
   "cell_type": "code",
   "execution_count": null,
   "metadata": {
    "collapsed": true
   },
   "outputs": [],
   "source": []
  }
 ],
 "metadata": {
  "anaconda-cloud": {},
  "kernelspec": {
   "display_name": "Python 3",
   "language": "python",
   "name": "python3"
  },
  "language_info": {
   "codemirror_mode": {
    "name": "ipython",
    "version": 3
   },
   "file_extension": ".py",
   "mimetype": "text/x-python",
   "name": "python",
   "nbconvert_exporter": "python",
   "pygments_lexer": "ipython3",
   "version": "3.5.2"
  }
 },
 "nbformat": 4,
 "nbformat_minor": 1
}
