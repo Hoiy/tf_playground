{
 "cells": [
  {
   "cell_type": "code",
   "execution_count": 1,
   "metadata": {
    "collapsed": true
   },
   "outputs": [],
   "source": [
    "import numpy as np\n",
    "import matplotlib.pyplot as plt"
   ]
  },
  {
   "cell_type": "code",
   "execution_count": 2,
   "metadata": {
    "collapsed": false
   },
   "outputs": [],
   "source": [
    "SIZE = 1000\n",
    "np.random.seed(1337)"
   ]
  },
  {
   "cell_type": "code",
   "execution_count": 3,
   "metadata": {
    "collapsed": false
   },
   "outputs": [
    {
     "data": {
      "image/png": "[encoded data removed]",
      "text/plain": [
       "<matplotlib.figure.Figure at 0x105b094e0>"
      ]
     },
     "metadata": {},
     "output_type": "display_data"
    }
   ],
   "source": [
    "s = np.zeros(SIZE)\n",
    "s[:SIZE//3] = np.random.rand(SIZE//3)\n",
    "s = np.sort(s)[::-1]\n",
    "plt.plot(s)\n",
    "plt.show()"
   ]
  },
  {
   "cell_type": "code",
   "execution_count": 4,
   "metadata": {
    "collapsed": false
   },
   "outputs": [],
   "source": [
    "u = np.random.rand(SIZE, SIZE)\n",
    "#u = np.matmul(u, np.matmul(np.eye(SIZE), u.T))\n",
    "v = np.random.rand(SIZE, SIZE)\n",
    "#v = np.matmul(v, np.matmul(np.eye(SIZE), v.T))"
   ]
  },
  {
   "cell_type": "code",
   "execution_count": 5,
   "metadata": {
    "collapsed": false
   },
   "outputs": [],
   "source": [
    "m = np.matmul(np.matmul(u, np.diag(s)), v)"
   ]
  },
  {
   "cell_type": "code",
   "execution_count": 6,
   "metadata": {
    "collapsed": false
   },
   "outputs": [],
   "source": [
    "m /= np.sum(m, 0)"
   ]
  },
  {
   "cell_type": "code",
   "execution_count": 7,
   "metadata": {
    "collapsed": false
   },
   "outputs": [
    {
     "data": {
      "text/plain": [
       "'\\n(u1, s1, v1) = np.linalg.svd(m)\\nplt.plot(s1[1:])\\nplt.show()\\n'"
      ]
     },
     "execution_count": 7,
     "metadata": {},
     "output_type": "execute_result"
    }
   ],
   "source": [
    "\"\"\"\n",
    "(u1, s1, v1) = np.linalg.svd(m)\n",
    "plt.plot(s1[1:])\n",
    "plt.show()\n",
    "\"\"\""
   ]
  },
  {
   "cell_type": "code",
   "execution_count": 8,
   "metadata": {
    "collapsed": false
   },
   "outputs": [
    {
     "data": {
      "text/plain": [
       "0.0010064659639179617"
      ]
     },
     "execution_count": 8,
     "metadata": {},
     "output_type": "execute_result"
    }
   ],
   "source": [
    "np.mean(m[0])"
   ]
  },
  {
   "cell_type": "code",
   "execution_count": 9,
   "metadata": {
    "collapsed": false
   },
   "outputs": [
    {
     "name": "stderr",
     "output_type": "stream",
     "text": [
      "Using TensorFlow backend.\n"
     ]
    },
    {
     "name": "stdout",
     "output_type": "stream",
     "text": [
      "float64\n"
     ]
    }
   ],
   "source": [
    "from keras.models import Sequential\n",
    "from keras.layers import Dense, Activation, Lambda\n",
    "from keras import backend as K\n",
    "from keras.callbacks import TensorBoard\n",
    "from keras.initializers import Constant\n",
    "from keras.optimizers import Adamax\n",
    "\n",
    "print(K.floatx())\n",
    "\n",
    "x_train = m[: SIZE // 10 * 8]\n",
    "x_test = m[SIZE // 10 * 8:]\n",
    "input_dim = 10\n",
    "\n",
    "encoding_dim = 1\n",
    "\n",
    "output_dim = 2\n",
    "\n",
    "model = Sequential([\n",
    "    Dense(encoding_dim, input_dim=input_dim, dtype='float64', use_bias=False),\n",
    "    Dense(output_dim, dtype='float64', use_bias=False),\n",
    "])\n",
    "\n",
    "model.compile(optimizer=Adamax(lr=0.5, epsilon=1e-32),\n",
    "              loss='mse')\n",
    "\n"
   ]
  },
  {
   "cell_type": "code",
   "execution_count": 10,
   "metadata": {
    "collapsed": false,
    "scrolled": false
   },
   "outputs": [
    {
     "name": "stdout",
     "output_type": "stream",
     "text": [
      "Train on 800 samples, validate on 200 samples\n",
      "INFO:tensorflow:Summary name dense_1/kernel:0 is illegal; using dense_1/kernel_0 instead.\n",
      "INFO:tensorflow:Summary name dense_2/kernel:0 is illegal; using dense_2/kernel_0 instead.\n",
      "Epoch 1/100\n",
      "800/800 [==============================] - 1s - loss: 1.8340e-08 - val_loss: 1.4109e-09\n",
      "Epoch 2/100\n",
      "800/800 [==============================] - 1s - loss: 2.1571e-09 - val_loss: 4.0895e-09\n",
      "Epoch 3/100\n",
      "800/800 [==============================] - 1s - loss: 1.6810e-09 - val_loss: 4.6019e-10\n",
      "Epoch 4/100\n",
      "800/800 [==============================] - 1s - loss: 3.0890e-09 - val_loss: 8.3254e-10\n",
      "Epoch 5/100\n",
      "800/800 [==============================] - 1s - loss: 2.9125e-09 - val_loss: 7.4921e-09\n",
      "Epoch 6/100\n",
      "800/800 [==============================] - 1s - loss: 2.6670e-09 - val_loss: 1.1716e-09\n",
      "Epoch 7/100\n",
      "800/800 [==============================] - 1s - loss: 2.2786e-09 - val_loss: 3.0841e-10\n",
      "Epoch 8/100\n",
      "800/800 [==============================] - 1s - loss: 1.9700e-09 - val_loss: 1.5349e-09\n",
      "Epoch 9/100\n",
      "800/800 [==============================] - 1s - loss: 2.0010e-09 - val_loss: 2.2704e-09\n",
      "Epoch 10/100\n",
      "800/800 [==============================] - 1s - loss: 2.2017e-09 - val_loss: 2.8370e-09\n",
      "Epoch 11/100\n",
      "800/800 [==============================] - 1s - loss: 2.0057e-09 - val_loss: 1.5043e-09\n",
      "Epoch 12/100\n",
      "800/800 [==============================] - 1s - loss: 2.2410e-09 - val_loss: 3.1304e-10\n",
      "Epoch 13/100\n",
      "800/800 [==============================] - 1s - loss: 1.9318e-09 - val_loss: 7.1331e-10\n",
      "Epoch 14/100\n",
      "800/800 [==============================] - 1s - loss: 2.1096e-09 - val_loss: 6.4160e-10\n",
      "Epoch 15/100\n",
      "800/800 [==============================] - 1s - loss: 2.2113e-09 - val_loss: 8.7025e-09\n",
      "Epoch 16/100\n",
      "800/800 [==============================] - 1s - loss: 2.2357e-09 - val_loss: 6.5185e-10\n",
      "Epoch 17/100\n",
      "800/800 [==============================] - 1s - loss: 1.8508e-09 - val_loss: 5.9233e-10\n",
      "Epoch 18/100\n",
      "800/800 [==============================] - 1s - loss: 2.0261e-09 - val_loss: 6.6414e-10\n",
      "Epoch 19/100\n",
      "800/800 [==============================] - 1s - loss: 2.3846e-09 - val_loss: 1.6147e-09\n",
      "Epoch 20/100\n",
      "800/800 [==============================] - 1s - loss: 2.0931e-09 - val_loss: 1.5198e-09\n",
      "Epoch 21/100\n",
      "800/800 [==============================] - 1s - loss: 2.0060e-09 - val_loss: 2.2881e-09\n",
      "Epoch 22/100\n",
      "800/800 [==============================] - 1s - loss: 2.2127e-09 - val_loss: 7.2741e-10\n",
      "Epoch 23/100\n",
      "800/800 [==============================] - 1s - loss: 2.0900e-09 - val_loss: 3.0840e-09\n",
      "Epoch 24/100\n",
      "800/800 [==============================] - 1s - loss: 2.0337e-09 - val_loss: 1.0407e-09\n",
      "Epoch 25/100\n",
      "800/800 [==============================] - 1s - loss: 2.4470e-09 - val_loss: 7.9475e-10\n",
      "Epoch 26/100\n",
      "800/800 [==============================] - 1s - loss: 2.3009e-09 - val_loss: 3.0560e-09\n",
      "Epoch 27/100\n",
      "800/800 [==============================] - 1s - loss: 2.5172e-09 - val_loss: 4.1741e-10\n",
      "Epoch 28/100\n",
      "800/800 [==============================] - 1s - loss: 2.4493e-09 - val_loss: 6.8677e-10\n",
      "Epoch 29/100\n",
      "800/800 [==============================] - 1s - loss: 2.6212e-09 - val_loss: 1.2511e-09\n",
      "Epoch 30/100\n",
      "800/800 [==============================] - 1s - loss: 2.1827e-09 - val_loss: 3.5475e-09\n",
      "Epoch 31/100\n",
      "800/800 [==============================] - 1s - loss: 2.4608e-09 - val_loss: 2.8160e-09\n",
      "Epoch 32/100\n",
      "800/800 [==============================] - 1s - loss: 2.3754e-09 - val_loss: 4.7591e-09\n",
      "Epoch 33/100\n",
      "800/800 [==============================] - 1s - loss: 1.9858e-09 - val_loss: 7.0657e-09\n",
      "Epoch 34/100\n",
      "800/800 [==============================] - 1s - loss: 2.0205e-09 - val_loss: 3.9283e-09\n",
      "Epoch 35/100\n",
      "800/800 [==============================] - 1s - loss: 2.2689e-09 - val_loss: 6.3216e-10\n",
      "Epoch 36/100\n",
      "800/800 [==============================] - 0s - loss: 2.2860e-09 - val_loss: 2.7532e-10\n",
      "Epoch 37/100\n",
      "800/800 [==============================] - 0s - loss: 1.5855e-09 - val_loss: 1.4357e-09\n",
      "Epoch 38/100\n",
      "800/800 [==============================] - 1s - loss: 1.6837e-09 - val_loss: 2.7619e-10\n",
      "Epoch 39/100\n",
      "800/800 [==============================] - 1s - loss: 1.8387e-09 - val_loss: 1.4408e-09\n",
      "Epoch 40/100\n",
      "800/800 [==============================] - 0s - loss: 2.3671e-09 - val_loss: 1.0394e-09\n",
      "Epoch 41/100\n",
      "800/800 [==============================] - 0s - loss: 2.4294e-09 - val_loss: 9.0045e-10\n",
      "Epoch 42/100\n",
      "800/800 [==============================] - 0s - loss: 1.8118e-09 - val_loss: 1.8372e-09\n",
      "Epoch 43/100\n",
      "800/800 [==============================] - 0s - loss: 1.8531e-09 - val_loss: 4.9252e-10\n",
      "Epoch 44/100\n",
      "800/800 [==============================] - 0s - loss: 2.1270e-09 - val_loss: 9.8902e-10\n",
      "Epoch 45/100\n",
      "800/800 [==============================] - 1s - loss: 1.8183e-09 - val_loss: 1.6144e-09\n",
      "Epoch 46/100\n",
      "800/800 [==============================] - 0s - loss: 2.3959e-09 - val_loss: 1.9212e-09\n",
      "Epoch 47/100\n",
      "800/800 [==============================] - 0s - loss: 1.9643e-09 - val_loss: 3.6032e-09\n",
      "Epoch 48/100\n",
      "800/800 [==============================] - 0s - loss: 2.5587e-09 - val_loss: 1.0868e-09\n",
      "Epoch 49/100\n",
      "800/800 [==============================] - 0s - loss: 1.6014e-09 - val_loss: 3.1179e-09\n",
      "Epoch 50/100\n",
      "800/800 [==============================] - 0s - loss: 2.1058e-09 - val_loss: 3.2097e-10\n",
      "Epoch 51/100\n",
      "800/800 [==============================] - 0s - loss: 1.8819e-09 - val_loss: 5.0141e-09\n",
      "Epoch 52/100\n",
      "800/800 [==============================] - 0s - loss: 2.0465e-09 - val_loss: 4.7536e-10\n",
      "Epoch 53/100\n",
      "800/800 [==============================] - 0s - loss: 2.1182e-09 - val_loss: 7.6698e-09\n",
      "Epoch 54/100\n",
      "800/800 [==============================] - 0s - loss: 1.7604e-09 - val_loss: 5.3547e-10\n",
      "Epoch 55/100\n",
      "800/800 [==============================] - 0s - loss: 2.0685e-09 - val_loss: 3.5549e-09\n",
      "Epoch 56/100\n",
      "800/800 [==============================] - 0s - loss: 1.9122e-09 - val_loss: 1.9835e-09\n",
      "Epoch 57/100\n",
      "800/800 [==============================] - 0s - loss: 2.1264e-09 - val_loss: 9.9414e-10\n",
      "Epoch 58/100\n",
      "800/800 [==============================] - 0s - loss: 1.7774e-09 - val_loss: 8.9677e-10\n",
      "Epoch 59/100\n",
      "800/800 [==============================] - 1s - loss: 1.9673e-09 - val_loss: 2.2088e-10\n",
      "Epoch 60/100\n",
      "800/800 [==============================] - 0s - loss: 1.9789e-09 - val_loss: 2.3986e-10\n",
      "Epoch 61/100\n",
      "800/800 [==============================] - 0s - loss: 2.0897e-09 - val_loss: 3.2333e-10\n",
      "Epoch 62/100\n",
      "800/800 [==============================] - 0s - loss: 2.1410e-09 - val_loss: 3.3411e-09\n",
      "Epoch 63/100\n",
      "800/800 [==============================] - 0s - loss: 2.1037e-09 - val_loss: 8.1271e-09\n",
      "Epoch 64/100\n",
      "800/800 [==============================] - 0s - loss: 2.3628e-09 - val_loss: 1.2242e-09\n",
      "Epoch 65/100\n",
      "800/800 [==============================] - 0s - loss: 2.2132e-09 - val_loss: 9.8017e-09\n",
      "Epoch 66/100\n",
      "800/800 [==============================] - 0s - loss: 2.3725e-09 - val_loss: 3.2112e-09\n",
      "Epoch 67/100\n",
      "800/800 [==============================] - 0s - loss: 1.9097e-09 - val_loss: 1.3393e-08\n",
      "Epoch 68/100\n",
      "800/800 [==============================] - 1s - loss: 2.3307e-09 - val_loss: 1.1084e-08\n",
      "Epoch 69/100\n",
      "800/800 [==============================] - 0s - loss: 1.8817e-09 - val_loss: 3.0667e-10\n",
      "Epoch 70/100\n",
      "800/800 [==============================] - 0s - loss: 2.0066e-09 - val_loss: 1.6424e-09\n",
      "Epoch 71/100\n",
      "800/800 [==============================] - 0s - loss: 2.2612e-09 - val_loss: 1.8631e-09\n",
      "Epoch 72/100\n",
      "800/800 [==============================] - 0s - loss: 1.9330e-09 - val_loss: 9.7260e-10\n",
      "Epoch 73/100\n",
      "800/800 [==============================] - 0s - loss: 1.9982e-09 - val_loss: 1.7274e-09\n",
      "Epoch 74/100\n",
      "800/800 [==============================] - 0s - loss: 1.9607e-09 - val_loss: 6.4641e-10\n",
      "Epoch 75/100\n",
      "800/800 [==============================] - 0s - loss: 1.8821e-09 - val_loss: 6.8520e-10\n",
      "Epoch 76/100\n",
      "800/800 [==============================] - 0s - loss: 1.9574e-09 - val_loss: 6.2966e-10\n",
      "Epoch 77/100\n",
      "800/800 [==============================] - 0s - loss: 1.7580e-09 - val_loss: 4.0401e-09\n",
      "Epoch 78/100\n",
      "800/800 [==============================] - 0s - loss: 2.2722e-09 - val_loss: 1.8474e-09\n",
      "Epoch 79/100\n",
      "800/800 [==============================] - 0s - loss: 1.8516e-09 - val_loss: 6.4748e-10\n",
      "Epoch 80/100\n",
      "800/800 [==============================] - 0s - loss: 2.1956e-09 - val_loss: 3.2504e-10\n",
      "Epoch 81/100\n",
      "800/800 [==============================] - 0s - loss: 2.6484e-09 - val_loss: 6.4075e-10\n",
      "Epoch 82/100\n",
      "800/800 [==============================] - 0s - loss: 2.5143e-09 - val_loss: 7.5382e-09\n",
      "Epoch 83/100\n",
      "800/800 [==============================] - 0s - loss: 2.9598e-09 - val_loss: 3.0172e-10\n",
      "Epoch 84/100\n",
      "800/800 [==============================] - 0s - loss: 2.1009e-09 - val_loss: 4.3605e-09\n",
      "Epoch 85/100\n",
      "800/800 [==============================] - 0s - loss: 1.8994e-09 - val_loss: 2.2816e-10\n",
      "Epoch 86/100\n",
      "800/800 [==============================] - 0s - loss: 2.5769e-09 - val_loss: 3.2659e-09\n",
      "Epoch 87/100\n",
      "800/800 [==============================] - 0s - loss: 2.5367e-09 - val_loss: 3.4474e-09\n",
      "Epoch 88/100\n",
      "800/800 [==============================] - 0s - loss: 2.7244e-09 - val_loss: 2.1832e-08\n",
      "Epoch 89/100\n",
      "800/800 [==============================] - 0s - loss: 2.3186e-09 - val_loss: 2.8101e-09\n",
      "Epoch 90/100\n",
      "800/800 [==============================] - 0s - loss: 2.2819e-09 - val_loss: 1.6590e-09\n",
      "Epoch 91/100\n",
      "800/800 [==============================] - 0s - loss: 2.4090e-09 - val_loss: 2.8974e-09\n",
      "Epoch 92/100\n",
      "800/800 [==============================] - 0s - loss: 2.0886e-09 - val_loss: 1.4296e-08\n",
      "Epoch 93/100\n",
      "800/800 [==============================] - 1s - loss: 2.1180e-09 - val_loss: 4.4839e-09\n",
      "Epoch 94/100\n",
      "800/800 [==============================] - 0s - loss: 2.1478e-09 - val_loss: 1.8650e-09\n",
      "Epoch 95/100\n",
      "800/800 [==============================] - 0s - loss: 2.4929e-09 - val_loss: 2.4777e-09\n",
      "Epoch 96/100\n",
      "800/800 [==============================] - 0s - loss: 2.1806e-09 - val_loss: 5.8285e-09\n",
      "Epoch 97/100\n",
      "800/800 [==============================] - 0s - loss: 2.0897e-09 - val_loss: 1.6811e-09\n",
      "Epoch 98/100\n",
      "800/800 [==============================] - 0s - loss: 2.2964e-09 - val_loss: 1.0771e-09\n",
      "Epoch 99/100\n",
      "800/800 [==============================] - 0s - loss: 2.5093e-09 - val_loss: 2.6315e-09\n",
      "Epoch 100/100\n",
      "800/800 [==============================] - 0s - loss: 2.2384e-09 - val_loss: 3.8223e-10\n"
     ]
    },
    {
     "data": {
      "text/plain": [
       "<keras.callbacks.History at 0x108719a90>"
      ]
     },
     "execution_count": 10,
     "metadata": {},
     "output_type": "execute_result"
    }
   ],
   "source": [
    "model.fit(x_train[:,:input_dim], x_train[:,:output_dim], epochs=100, batch_size=1, validation_data=(x_test[:,:input_dim], x_test[:,:output_dim]), callbacks=[TensorBoard(histogram_freq=1)])"
   ]
  },
  {
   "cell_type": "code",
   "execution_count": 11,
   "metadata": {
    "collapsed": false
   },
   "outputs": [
    {
     "name": "stdout",
     "output_type": "stream",
     "text": [
      "[array([[-0.95045241],\n",
      "       [-0.85520178],\n",
      "       [-0.25777022],\n",
      "       [ 0.03325722],\n",
      "       [-0.06485901],\n",
      "       [-0.06067772],\n",
      "       [ 0.05136988],\n",
      "       [ 0.00644065],\n",
      "       [-0.01129518],\n",
      "       [-0.0272959 ]])]\n",
      "[array([[-0.46318516, -0.46157211]])]\n"
     ]
    }
   ],
   "source": [
    "for layer in model.layers:\n",
    "    print(layer.get_weights())"
   ]
  },
  {
   "cell_type": "code",
   "execution_count": null,
   "metadata": {
    "collapsed": true
   },
   "outputs": [],
   "source": []
  }
 ],
 "metadata": {
  "kernelspec": {
   "display_name": "Python 3",
   "language": "python",
   "name": "python3"
  },
  "language_info": {
   "codemirror_mode": {
    "name": "ipython",
    "version": 3
   },
   "file_extension": ".py",
   "mimetype": "text/x-python",
   "name": "python",
   "nbconvert_exporter": "python",
   "pygments_lexer": "ipython3",
   "version": "3.5.2"
  }
 },
 "nbformat": 4,
 "nbformat_minor": 2
}
