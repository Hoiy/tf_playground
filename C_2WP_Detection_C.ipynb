{
 "cells": [
  {
   "cell_type": "markdown",
   "metadata": {},
   "source": [
    "# 2WP Detection"
   ]
  },
  {
   "cell_type": "code",
   "execution_count": 1,
   "metadata": {
    "collapsed": false
   },
   "outputs": [],
   "source": [
    "import Corpus.gutenberg as corpus\n",
    "from TextPreprocess.Tokenizer.Stanford import tokenize\n",
    "from Utils.visual import hist\n",
    "from Utils.debug import dump\n",
    "from Utils.generator import sliding_window, random_window"
   ]
  },
  {
   "cell_type": "code",
   "execution_count": 2,
   "metadata": {
    "collapsed": false
   },
   "outputs": [
    {
     "name": "stdout",
     "output_type": "stream",
     "text": [
      "<class 'list'>\n",
      "['-LSB-', 'emma', 'by', 'jane', 'austen', '1816', '-RSB-', 'volume', 'i', 'chapter', 'i', 'emma', 'woodhouse', ',', 'handsome', ',', 'clever', ',', 'and', 'rich', ',', 'with', 'a', 'comfortable', 'home', 'and', 'happy', 'disposition', ',', 'seemed', 'to', 'unite', 'some', 'of', 'the', 'best', 'blessings', 'of', 'existence', ';', 'and', 'had', 'lived', 'nearly', 'twenty-one', 'years', 'in', 'the', 'world', 'with', 'very', 'little', 'to', 'distress', 'or', 'vex', 'her', '.', 'she', 'was', 'the', 'youngest', 'of', 'the', 'two', 'daughters', 'of', 'a', 'most', 'affectionate', ',', 'indulgent', 'father', ';', 'and', 'had', ',', 'in', 'consequence', 'of', 'her', 'sister', \"'s\", 'marriage', ',', 'been', 'mistress', 'of', 'his', 'house', 'from', 'a', 'very', 'early', 'period', '.', 'her', 'mother', 'had', 'died', 'too', 'long', 'ago', 'for', 'her', 'to', 'have', 'more', 'than', 'an', 'indistinct', 'remembrance', 'of', 'her', 'caresses', ';', 'and', 'her', 'place', 'had', 'been', 'supplied', 'by', 'an', 'excellent', 'woman', 'as', 'governess', ',', 'who', 'had', 'fallen', 'little', 'short', 'of', 'a', 'mother', 'in', 'affection', '.', 'sixteen', 'years', 'had', 'miss', 'taylor', 'been', 'in', 'mr.', 'woodhouse', \"'s\", 'family', ',', 'less', 'as', 'a', 'governess', 'than', 'a', 'friend', ',', 'very', 'fond', 'of', 'both', 'daughters', ',', 'but', 'particularly', 'of', 'emma', '.', 'between', '_', 'them', '_', 'it', 'was', 'more', 'the', 'intimacy', 'of', 'sisters', '.', 'even', 'before', 'miss', 'taylor', 'had', 'ceased', 'to', 'hold', 'the', 'nominal', 'office', 'of', 'governess', ',', 'the', 'mildness', 'of', 'her', 'temper', 'had', 'hardly', 'allowed', 'her', 'to', 'impose', 'any', 'restraint', ';', 'and', 'the', 'shadow', 'of', 'authority', 'being', 'now', 'long', 'passed', 'away', ',', 'they', 'had', 'been', 'living', 'together', 'as', 'friend', 'and', 'friend', 'very', 'mutually', 'attached', ',', 'and', 'emma', 'doing', 'just', 'what', 'she', 'liked', ';', 'highly', 'esteeming', 'miss', 'taylor', \"'s\", 'judgment', ',', ...]\n"
     ]
    }
   ],
   "source": [
    "data = tokenize(corpus.raw().lower())\n",
    "dump(data)"
   ]
  },
  {
   "cell_type": "code",
   "execution_count": 3,
   "metadata": {
    "collapsed": false
   },
   "outputs": [
    {
     "name": "stdout",
     "output_type": "stream",
     "text": [
      "['-LSB-', 'emma']\n",
      "['emma', 'by']\n",
      "['by', 'jane']\n",
      "['jane', 'austen']\n",
      "['austen', '1816']\n"
     ]
    }
   ],
   "source": [
    "gen = sliding_window(2)(data)\n",
    "dump(gen, 5)"
   ]
  },
  {
   "cell_type": "code",
   "execution_count": 4,
   "metadata": {
    "collapsed": false
   },
   "outputs": [
    {
     "name": "stdout",
     "output_type": "stream",
     "text": [
      "['such', 'wonder']\n",
      "['duty', ';']\n",
      "['the', 'lord']\n",
      "['me', '!']\n",
      "['out', 'of']\n",
      "[',', 'he']\n",
      "['in', 'the']\n",
      "['humorously', 'added']\n",
      "['haunt', 'many']\n",
      "['how', 'matters']\n",
      "['blossom', ',']\n",
      "['which', 'was']\n",
      "['in', 'the']\n",
      "['10:3', 'for']\n",
      "['opened', ',']\n",
      "['he', ',']\n",
      "['the', 'truth']\n",
      "['has', 'been']\n",
      "['some', 'dignity']\n",
      "['we', 'gather']\n",
      "['or', 'pert']\n",
      "['45:11', 'and']\n",
      "[';', 'and']\n",
      "['dispense', 'with']\n",
      "['lady', 'middleton']\n",
      "['together', ',']\n",
      "['is', 'twenty']\n",
      "['set', ';']\n",
      "['of', 'narrow']\n",
      "['these', 'chants']\n",
      "[',', 'he']\n",
      "['the', 'bushes']\n",
      "['with', 'fir']\n",
      "['to', 'mizpeh']\n",
      "['saith', 'the']\n",
      "['and', 'i']\n",
      "['she', 'was']\n",
      "['in', 'your']\n",
      "['next', 'day']\n",
      "['morrow', ',']\n",
      "['instantly', 'followed']\n",
      "['you', '?']\n",
      "['is', 'marvellous']\n",
      "['seemed', 'to']\n",
      "['they', 'of']\n",
      "[',', 'casting']\n",
      "['follow', 'what']\n",
      "[',', 'son']\n",
      "['go', 'along']\n",
      "['solomon', 'said']\n",
      "['an', 'emetic']\n",
      "['whom', 'he']\n",
      "['because', 'they']\n",
      "['his', 'own']\n",
      "[',', 'made']\n",
      "['measures', '.']\n",
      "['hour', 'upon']\n",
      "[',', 'saying']\n",
      "['a', 'lease']\n",
      "['headland', ',']\n",
      "['of', 'thy']\n",
      "['of', 'pleasant']\n",
      "['of', 'myself']\n",
      "[',', 'when']\n",
      "['to', 'support']\n",
      "['disciples', ',']\n",
      "['primitive', 'great']\n",
      "['your', 'company']\n",
      "[';', 'they']\n",
      "['that', 'i']\n",
      "['but', 'from']\n",
      "['them', 'that']\n",
      "['forget', 'the']\n",
      "['the', 'poet']\n",
      "['and', 'needless']\n",
      "['nevertheless', 'when']\n",
      "['-RRB-', ',']\n",
      "['ca', \"n't\"]\n",
      "['not', 'play']\n",
      "['hear', 'him']\n",
      "['the', 'uncle']\n",
      "['likely', 'to']\n",
      "['.', \"''\"]\n",
      "['coach', 'was']\n",
      "['by', 'the']\n",
      "['her', 'son']\n",
      "['pleasure', 'at']\n",
      "['skilful', 'has']\n",
      "['1:45', 'but']\n",
      "['and', 'thee']\n",
      "['out', 'of']\n",
      "['in', 'upon']\n",
      "['.', '19:9']\n",
      "['by', 'the']\n",
      "['to', 'break']\n",
      "[',', \"''\"]\n",
      "['tower', 'of']\n",
      "['the', 'people']\n",
      "['with', 'their']\n",
      "['and', 'being']\n"
     ]
    }
   ],
   "source": [
    "gen = random_window(2)(data)\n",
    "dump(gen, 100)"
   ]
  },
  {
   "cell_type": "code",
   "execution_count": null,
   "metadata": {
    "collapsed": true
   },
   "outputs": [],
   "source": []
  }
 ],
 "metadata": {
  "kernelspec": {
   "display_name": "Python 3",
   "language": "python",
   "name": "python3"
  },
  "language_info": {
   "codemirror_mode": {
    "name": "ipython",
    "version": 3
   },
   "file_extension": ".py",
   "mimetype": "text/x-python",
   "name": "python",
   "nbconvert_exporter": "python",
   "pygments_lexer": "ipython3",
   "version": "3.5.2"
  }
 },
 "nbformat": 4,
 "nbformat_minor": 2
}
