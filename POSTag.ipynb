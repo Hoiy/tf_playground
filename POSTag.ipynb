{
 "cells": [
  {
   "cell_type": "code",
   "execution_count": 7,
   "metadata": {
    "collapsed": false
   },
   "outputs": [
    {
     "name": "stdout",
     "output_type": "stream",
     "text": [
      "['CD', 'NN', 'PRP', 'VBP', 'RB', 'VB', 'WRB', '.', 'PRP', 'VBZ', 'RB', 'RB', 'VB', 'WRB', 'JJ', 'PRP', 'VBP', '.', ':', 'NNP', 'NNP']\n"
     ]
    }
   ],
   "source": [
    "from nltk.tokenize import StanfordTokenizer\n",
    "from nltk.tag import StanfordPOSTagger\n",
    "\n",
    "text = \"One thing I don't know why. It doesn't even matter how hard you try. -Linkin Park\"\n",
    "\n",
    "st = StanfordPOSTagger('english-bidirectional-distsim.tagger')\n",
    "res = st.tag(StanfordTokenizer().tokenize(text))\n",
    "res2 = [x[1] for x in res]\n",
    "print(res2)"
   ]
  },
  {
   "cell_type": "code",
   "execution_count": null,
   "metadata": {
    "collapsed": true
   },
   "outputs": [],
   "source": []
  }
 ],
 "metadata": {
  "kernelspec": {
   "display_name": "Python 3",
   "language": "python",
   "name": "python3"
  },
  "language_info": {
   "codemirror_mode": {
    "name": "ipython",
    "version": 3
   },
   "file_extension": ".py",
   "mimetype": "text/x-python",
   "name": "python",
   "nbconvert_exporter": "python",
   "pygments_lexer": "ipython3",
   "version": "3.5.2"
  }
 },
 "nbformat": 4,
 "nbformat_minor": 2
}
