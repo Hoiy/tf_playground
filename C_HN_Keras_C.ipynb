{
 "cells": [
  {
   "cell_type": "code",
   "execution_count": 1,
   "metadata": {
    "collapsed": false
   },
   "outputs": [],
   "source": [
    "import pandas as pd\n",
    "\n",
    "data = pd.read_csv(\"/Users/Shared/data/HN_posts_year_to_Sep_26_2016.csv\", parse_dates=['created_at'])\n",
    "data = data[[\"id\", \"title\", \"created_at\", \"num_points\"]]"
   ]
  },
  {
   "cell_type": "code",
   "execution_count": 24,
   "metadata": {
    "collapsed": false
   },
   "outputs": [
    {
     "name": "stdout",
     "output_type": "stream",
     "text": [
      "Start: Loading Glove Model\n",
      "End: Loaded 400000 rows.\n",
      "Embedding Dimension: 300\n",
      "Embedding Symbols: 400003\n",
      "Index to symbol: [(0, '!'), (1, '!!'), (2, '!!!'), (3, '!!!!'), (4, '!!!!!'), (5, '!?'), (6, '!?!'), (7, '\"'), (8, '#'), (9, '##')]\n"
     ]
    }
   ],
   "source": [
    "from DataLoader import GloVe\n",
    "\n",
    "WORD_DIM = 300\n",
    "glove = GloVe.load2('./data/GloVe/glove.6B.{}d.txt'.format(WORD_DIM))\n",
    "# emb: Symbol to float32 of fixed DIMENSION\n",
    "# Create an index mapping, index to symbol, symbol to index\n",
    "\n",
    "class Embedding:\n",
    "    def __init__(self, emb, verbose = False):\n",
    "        # assert emb is dictionary and each entry has same dimension\n",
    "        self.emb = emb\n",
    "        self.dim = len(self.emb[list(self.emb.keys())[0]])\n",
    "        self.emb['<UNK>'] = [0. for i in range(self.dim)]\n",
    "        self.emb['<PAD>'] = [1. for i in range(self.dim)]\n",
    "        self.emb['<GO>'] = [-1. for i in range(self.dim)]\n",
    "        \n",
    "        self.build_dicts()\n",
    "        \n",
    "        if verbose:\n",
    "            self.describe()\n",
    "        \n",
    "    def describe(self):\n",
    "        print('Embedding Dimension: {}'.format(self.dim))\n",
    "        print('Embedding Symbols: {}'.format(len(self.emb)))\n",
    "        print('Index to symbol: {}'.format([(i, self.idx2Sym[i]) for i in range(10)]))\n",
    "        \n",
    "    def getIndex(self, symbol):\n",
    "        if symbol in self.sym2Idx:\n",
    "            return self.sym2Idx[symbol]\n",
    "        else:\n",
    "            return self.sym2Idx['<UNK>']\n",
    "\n",
    "    def getEmb(self, symbol):\n",
    "        return self.emb[self.idx2Sym[self.getIndex(symbol)]]\n",
    "    \n",
    "    def getSymbols(self, indices):\n",
    "        return [self.idx2Sym[idx] for idx in indices]\n",
    "\n",
    "    def getNumpyArray(self):\n",
    "        return np.array([self.emb[self.idx2Sym[idx]] for idx in range(len(self.emb))])\n",
    "    \n",
    "    def build_dicts(self):\n",
    "        self.sym2Idx = {}\n",
    "        index = 0\n",
    "        for key in sorted(self.emb.keys()):\n",
    "            self.sym2Idx[key] = index\n",
    "            index += 1\n",
    "            \n",
    "        self.idx2Sym = { v:k for k, v in self.sym2Idx.items()}\n",
    "\n",
    "glove_emb = Embedding(glove, verbose=True)\n",
    "glove = glove_emb.getNumpyArray()"
   ]
  },
  {
   "cell_type": "code",
   "execution_count": 3,
   "metadata": {
    "collapsed": true
   },
   "outputs": [],
   "source": [
    "GOOD_THRESHOLD = 100\n",
    "MAX_SEQUENCE_LENGTH = 30\n",
    "BATCH_SIZE = 64"
   ]
  },
  {
   "cell_type": "code",
   "execution_count": 4,
   "metadata": {
    "collapsed": false
   },
   "outputs": [],
   "source": [
    "import numpy as np\n",
    "\n",
    "seed = 7\n",
    "np.random.seed(seed)"
   ]
  },
  {
   "cell_type": "code",
   "execution_count": 5,
   "metadata": {
    "collapsed": false
   },
   "outputs": [
    {
     "name": "stderr",
     "output_type": "stream",
     "text": [
      "Using TensorFlow backend.\n"
     ]
    },
    {
     "name": "stdout",
     "output_type": "stream",
     "text": [
      "Found 87282 unique tokens.\n"
     ]
    }
   ],
   "source": [
    "from keras.preprocessing.text import Tokenizer\n",
    "from keras.preprocessing.sequence import pad_sequences\n",
    "\n",
    "title = data[\"title\"]\n",
    "\n",
    "tokenizer = Tokenizer()\n",
    "tokenizer.fit_on_texts(title)\n",
    "word_index = tokenizer.word_index\n",
    "print('Found %s unique tokens.' % len(word_index))"
   ]
  },
  {
   "cell_type": "code",
   "execution_count": 6,
   "metadata": {
    "collapsed": false
   },
   "outputs": [
    {
     "data": {
      "text/plain": [
       "'\\nembedding_matrix = np.zeros((len(word_index) + 1, EMBEDDING_DIM))\\nfor word, i in word_index.items():\\n    embedding_vector = embeddings_index.get(word)\\n    if embedding_vector is not None:\\n        # words not found in embedding index will be all-zeros.\\n        embedding_matrix[i] = embedding_vector\\n'"
      ]
     },
     "execution_count": 6,
     "metadata": {},
     "output_type": "execute_result"
    }
   ],
   "source": [
    "\"\"\"\n",
    "embedding_matrix = np.zeros((len(word_index) + 1, EMBEDDING_DIM))\n",
    "for word, i in word_index.items():\n",
    "    embedding_vector = embeddings_index.get(word)\n",
    "    if embedding_vector is not None:\n",
    "        # words not found in embedding index will be all-zeros.\n",
    "        embedding_matrix[i] = embedding_vector\n",
    "\"\"\""
   ]
  },
  {
   "cell_type": "code",
   "execution_count": 21,
   "metadata": {
    "collapsed": true
   },
   "outputs": [],
   "source": [
    "from TextPreprocess.Tokenizer.RegExp import tokenize\n",
    "\n",
    "def preprocessStrings(strings):\n",
    "    return [[glove_emb.getIndex(token.lower()) for token in tokenize(string)] for string in strings]\n",
    "\n",
    "def prepareData(df):        \n",
    "    num_points = data[\"num_points\"].values\n",
    "\n",
    "    #dayofweek = data['created_at'].dt.dayofweek.values[:,np.newaxis]\n",
    "    #hour = data['created_at'].dt.hour.values[:,np.newaxis]\n",
    "    #month = data['created_at'].dt.month.values[:,np.newaxis]\n",
    "    #day = data['created_at'].dt.day.values[:,np.newaxis]\n",
    "    \n",
    "    #dayofweek = dayofweek / dayofweek.max() \n",
    "    #hour = hour / hour.max()\n",
    "    #month = month / month.max()\n",
    "    #day = day / day.max()\n",
    "    \n",
    "    y_train = np.zeros((len(num_points), 2), dtype=int)\n",
    "    y_original = np.zeros((len(num_points)), dtype=int)\n",
    "    for i in range(0, len(num_points)):\n",
    "        y_train[i, 1] = int(num_points[i] >= GOOD_THRESHOLD)\n",
    "        y_train[i, 0] = int(num_points[i] < GOOD_THRESHOLD)\n",
    "        y_original[i] = int(num_points[i] >= GOOD_THRESHOLD)\n",
    "        \n",
    "    sequences = preprocessStrings(data[\"title\"])\n",
    "    x_train = pad_sequences(sequences, maxlen=MAX_SEQUENCE_LENGTH)\n",
    "    \n",
    "    #x_train_expand = np.zeros((x_train.shape[0], x_train.shape[1] * EMBEDDING_DIM))\n",
    "    #for i in range(0, x_train.shape[0]):\n",
    "    #    for j in range(0, x_train.shape[1]):\n",
    "    #        x_train_expand[i][j*EMBEDDING_DIM:(j+1)*EMBEDDING_DIM] = embedding_matrix[x_train[i][j]]\n",
    "            \n",
    "    \n",
    "    #X = np.hstack((x_train_expand, dayofweek, hour, month, day))\n",
    "    return x_train, y_train, y_original\n",
    "    #return X, y_train, y_original\n"
   ]
  },
  {
   "cell_type": "code",
   "execution_count": 22,
   "metadata": {
    "collapsed": false,
    "scrolled": true
   },
   "outputs": [
    {
     "name": "stdout",
     "output_type": "stream",
     "text": [
      "Index(['id', 'title', 'created_at', 'num_points'], dtype='object')\n"
     ]
    }
   ],
   "source": [
    "print(data.columns)"
   ]
  },
  {
   "cell_type": "code",
   "execution_count": 23,
   "metadata": {
    "collapsed": false
   },
   "outputs": [
    {
     "name": "stdout",
     "output_type": "stream",
     "text": [
      "(293119, 30)\n"
     ]
    }
   ],
   "source": [
    "X_full, _, y_full = prepareData(data)\n",
    "#x_train, y_train, y2_train = prepareData(train)\n",
    "#x_test, y_test, y2_test = prepareData(test)\n",
    "\n",
    "print(X_full.shape)"
   ]
  },
  {
   "cell_type": "code",
   "execution_count": 11,
   "metadata": {
    "collapsed": true
   },
   "outputs": [],
   "source": [
    "from sklearn.metrics import precision_score, recall_score\n",
    "\n",
    "def validate(model, x_test, y_test):\n",
    "    test_truth = np.apply_along_axis(lambda x: np.argmax(x), 1, y_test)\n",
    "    test_pred = model.predict(x_test)\n",
    "    test_pred = np.apply_along_axis(lambda x: np.argmax(x), 1, test_pred)\n",
    "    precision = precision_score(test_truth, test_pred)\n",
    "    recall = recall_score(test_truth, test_pred)\n",
    "    print(precision)\n",
    "    print(recall)\n",
    "    return precision, recall\n",
    "\n",
    "def validate_2(truth, pred):\n",
    "    truth = np.apply_along_axis(lambda x: np.argmax(x), 1, truth)\n",
    "    pred = np.apply_along_axis(lambda x: np.argmax(x), 1, pred)\n",
    "    precision = precision_score(truth, pred)\n",
    "    recall = recall_score(truth, pred)\n",
    "    print(precision)\n",
    "    print(recall)\n",
    "    return precision, recall"
   ]
  },
  {
   "cell_type": "code",
   "execution_count": 29,
   "metadata": {
    "collapsed": false
   },
   "outputs": [],
   "source": [
    "from keras.layers import Input, Convolution1D, MaxPooling1D, Dense, Flatten, Dropout, Embedding\n",
    "from keras.models import Model, Sequential\n",
    "from keras.regularizers import l2\n",
    "\n",
    "def create_model():\n",
    "    model = Sequential()\n",
    "    model.add(Dense(10, input_shape=(5,)))\n",
    "    model.add(Dense(1, activation='softmax'))\n",
    "    model.compile(optimizer='rmsprop',\n",
    "          loss='categorical_crossentropy',\n",
    "          metrics=['accuracy', 'precision'])\n",
    "    return model\n",
    "    \n",
    "\n",
    "def create_baseline():\n",
    "    embedding_layer = Embedding(glove.shape[0],\n",
    "                            glove.shape[1],\n",
    "                            weights=[glove],\n",
    "                            input_length=MAX_SEQUENCE_LENGTH,\n",
    "                            trainable=False)\n",
    "\n",
    "    sequence_input = Input(shape=(MAX_SEQUENCE_LENGTH,), dtype='int32')\n",
    "    embedded_sequences = embedding_layer(sequence_input)\n",
    "    #x = Convolution1D(16, 5, activation='relu')(embedded_sequences)\n",
    "    #x = Dropout(0.5)(x)\n",
    "    #x = MaxPooling1D()(x)\n",
    "    #x = Convolution1D(16, 5, activation='relu')(embedded_sequences)\n",
    "    #x = Dropout(0.5)(x)\n",
    "    #x = MaxPooling1D()(x)\n",
    "    #x = Dropout(0.5)(x)\n",
    "    x = Flatten()(embedded_sequences)\n",
    "    x = Dropout(0.3)(x)\n",
    "    x = Dense(64, activation='tanh')(x)\n",
    "    x = Dropout(0.3)(x)\n",
    "    preds = Dense(1, activation='sigmoid')(x)\n",
    "    model = Model(sequence_input, preds)\n",
    "    model.compile(loss='binary_crossentropy',\n",
    "              optimizer='adam',\n",
    "              metrics=['acc'])\n",
    "    return model"
   ]
  },
  {
   "cell_type": "code",
   "execution_count": 30,
   "metadata": {
    "collapsed": true
   },
   "outputs": [],
   "source": [
    "from keras.callbacks import EarlyStopping\n",
    "es = EarlyStopping('val_loss', patience=3)"
   ]
  },
  {
   "cell_type": "code",
   "execution_count": 31,
   "metadata": {
    "collapsed": false
   },
   "outputs": [
    {
     "name": "stdout",
     "output_type": "stream",
     "text": [
      "{0: 1, 1: 24.400259965337955}\n"
     ]
    }
   ],
   "source": [
    "# w_x * c_x / (w_y * c_y) = 1, w_y = c_x / c_y if w_x = 1\n",
    "\n",
    "class_weight = {\n",
    "    0: 1,\n",
    "    1: (len(y_full) - sum(y_full)) / sum(y_full)\n",
    "}\n",
    "\n",
    "print(class_weight)"
   ]
  },
  {
   "cell_type": "code",
   "execution_count": null,
   "metadata": {
    "collapsed": false
   },
   "outputs": [
    {
     "name": "stdout",
     "output_type": "stream",
     "text": [
      "Train on 234495 samples, validate on 58624 samples\n",
      "Epoch 1/200\n",
      " 58688/234495 [======>.......................] - ETA: 110s - loss: 1.6340 - acc: 0.5132"
     ]
    }
   ],
   "source": [
    "model = create_baseline()\n",
    "model.fit(\n",
    "    x = X_full,\n",
    "    y = y_full,\n",
    "    batch_size=BATCH_SIZE, \n",
    "    epochs=200, \n",
    "    callbacks=[es], \n",
    "    validation_split=0.2,\n",
    "    shuffle=True, \n",
    "    class_weight=class_weight)"
   ]
  },
  {
   "cell_type": "code",
   "execution_count": null,
   "metadata": {
    "collapsed": false
   },
   "outputs": [],
   "source": [
    "\n",
    "\n",
    "from sklearn.model_selection import StratifiedKFold\n",
    "\n",
    "N = 5\n",
    "\n",
    "kfold = StratifiedKFold(n_splits=N, shuffle=True, random_state=seed)\n",
    "kfold.get_n_splits(x_group_train, y_train)\n",
    "\n",
    "print(y2_train)\n",
    "\n",
    "precision = 0\n",
    "recall = 0\n",
    "for train_index, test_index in kfold.split(x_group_train, y2_train):\n",
    "    print(\"TRAIN:\", train_index, \"TEST:\", test_index)\n",
    "    x_k_train, x_k_test = x_group_train[train_index], x_group_train[test_index]\n",
    "    y_k_train, y_k_test = y_train[train_index], y_train[test_index]\n",
    "    model = create_model()\n",
    "    model.fit(x_k_train, y_k_train, nb_epoch=10, batch_size=32, validation_data=(x_k_test, y_k_test), callbacks=[])\n",
    "    p, r = validate(model, x_k_test, y_k_test)\n",
    "    precision += p\n",
    "    recall += r\n",
    "    validate(model, x_group_test, y_group_test)\n",
    "    \n",
    "print(\"Precision: %.2f\" % (precision / N))\n",
    "print(\"Recall: %.2f\" % (recall / N))"
   ]
  },
  {
   "cell_type": "code",
   "execution_count": null,
   "metadata": {
    "collapsed": false,
    "scrolled": false
   },
   "outputs": [],
   "source": [
    "from sklearn.model_selection import StratifiedKFold\n",
    "\n",
    "N = 5\n",
    "\n",
    "kfold = StratifiedKFold(n_splits=N, shuffle=True, random_state=seed)\n",
    "kfold.get_n_splits(x_full, y_full)\n",
    "\n",
    "print(y2_full)\n",
    "\n",
    "precision = 0\n",
    "recall = 0\n",
    "for train_index, test_index in kfold.split(x_full, y2_full):\n",
    "    print(\"TRAIN:\", train_index, \"TEST:\", test_index)\n",
    "    x_train, x_test = x_full[train_index], x_full[test_index]\n",
    "    y_train, y_test = y_full[train_index], y_full[test_index]\n",
    "    model = create_baseline()\n",
    "    model.fit(x_train, y_train, nb_epoch=100, batch_size=128, validation_data=(x_test, y_test), callbacks=[es])\n",
    "    p, r = validate(model, x_test, y_test)\n",
    "    precision += p\n",
    "    recall += r\n",
    "    \n",
    "print(\"Precision: %.2f\" % (precision / N))\n",
    "print(\"Recall: %.2f\" % (recall / N))"
   ]
  },
  {
   "cell_type": "code",
   "execution_count": null,
   "metadata": {
    "collapsed": true
   },
   "outputs": [],
   "source": []
  },
  {
   "cell_type": "code",
   "execution_count": null,
   "metadata": {
    "collapsed": true
   },
   "outputs": [],
   "source": []
  }
 ],
 "metadata": {
  "anaconda-cloud": {},
  "kernelspec": {
   "display_name": "Python 3",
   "language": "python",
   "name": "python3"
  },
  "language_info": {
   "codemirror_mode": {
    "name": "ipython",
    "version": 3
   },
   "file_extension": ".py",
   "mimetype": "text/x-python",
   "name": "python",
   "nbconvert_exporter": "python",
   "pygments_lexer": "ipython3",
   "version": "3.5.2"
  }
 },
 "nbformat": 4,
 "nbformat_minor": 1
}
