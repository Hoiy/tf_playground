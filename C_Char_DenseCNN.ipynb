{
 "cells": [
  {
   "cell_type": "markdown",
   "metadata": {
    "deletable": true,
    "editable": true
   },
   "source": [
    "# Character Level CNN"
   ]
  },
  {
   "cell_type": "code",
   "execution_count": 1,
   "metadata": {
    "collapsed": false,
    "deletable": true,
    "editable": true
   },
   "outputs": [
    {
     "name": "stderr",
     "output_type": "stream",
     "text": [
      "Using TensorFlow backend.\n"
     ]
    }
   ],
   "source": [
    "import Corpus.gutenberg as corpus\n",
    "from TextPreprocess.Tokenizer.Stanford import tokenize\n",
    "from Utils.visual import hist, tally\n",
    "from Utils.debug import dump\n",
    "from Utils.generator import sliding_window_random_access, transform\n",
    "from Utils.FS.file import save, load\n",
    "from Utils.keras import compact_embedding\n",
    "from Utils.misc import batch\n",
    "from Utils.indexer import build_index, index_2_one_hot\n",
    "from keras.preprocessing.sequence import pad_sequences\n",
    "from keras_tqdm import TQDMNotebookCallback\n",
    "import numpy as np"
   ]
  },
  {
   "cell_type": "code",
   "execution_count": 2,
   "metadata": {
    "collapsed": false,
    "deletable": true,
    "editable": true
   },
   "outputs": [
    {
     "data": {
      "text/plain": [
       "['austen-emma.txt',\n",
       " 'austen-persuasion.txt',\n",
       " 'austen-sense.txt',\n",
       " 'bible-kjv.txt',\n",
       " 'blake-poems.txt',\n",
       " 'bryant-stories.txt',\n",
       " 'burgess-busterbrown.txt',\n",
       " 'carroll-alice.txt',\n",
       " 'chesterton-ball.txt',\n",
       " 'chesterton-brown.txt',\n",
       " 'chesterton-thursday.txt',\n",
       " 'edgeworth-parents.txt',\n",
       " 'melville-moby_dick.txt',\n",
       " 'milton-paradise.txt',\n",
       " 'shakespeare-caesar.txt',\n",
       " 'shakespeare-hamlet.txt',\n",
       " 'shakespeare-macbeth.txt',\n",
       " 'whitman-leaves.txt']"
      ]
     },
     "execution_count": 2,
     "metadata": {},
     "output_type": "execute_result"
    }
   ],
   "source": [
    "import nltk\n",
    "#nltk.corpus.gutenberg.raw('austen-emma.txt')\n",
    "nltk.corpus.gutenberg.fileids()"
   ]
  },
  {
   "cell_type": "code",
   "execution_count": 3,
   "metadata": {
    "collapsed": false,
    "deletable": true,
    "editable": true
   },
   "outputs": [],
   "source": [
    "#data = nltk.corpus.gutenberg.raw(['austen-emma.txt', 'austen-persuasion.txt', 'austen-sense.txt'])\n",
    "data = nltk.corpus.gutenberg.raw(['austen-emma.txt'])\n",
    "data = data[:len(data) // 20]"
   ]
  },
  {
   "cell_type": "code",
   "execution_count": 4,
   "metadata": {
    "collapsed": true,
    "deletable": true,
    "editable": true
   },
   "outputs": [],
   "source": [
    "def char_generator():\n",
    "    for char in data:\n",
    "        yield char"
   ]
  },
  {
   "cell_type": "code",
   "execution_count": 5,
   "metadata": {
    "collapsed": true,
    "deletable": true,
    "editable": true
   },
   "outputs": [],
   "source": [
    "s2i, i2s, size = build_index(char_generator())"
   ]
  },
  {
   "cell_type": "code",
   "execution_count": 6,
   "metadata": {
    "collapsed": true,
    "deletable": true,
    "editable": true
   },
   "outputs": [],
   "source": [
    "#MAX_SEQ_LENGTH = max([len(word) for word in data])\n",
    "SEQ_LENGTH = 128"
   ]
  },
  {
   "cell_type": "code",
   "execution_count": 7,
   "metadata": {
    "collapsed": false,
    "deletable": true,
    "editable": true
   },
   "outputs": [
    {
     "data": {
      "text/plain": [
       "70"
      ]
     },
     "execution_count": 7,
     "metadata": {},
     "output_type": "execute_result"
    }
   ],
   "source": [
    "NUM_SYMBOL = size\n",
    "NUM_SYMBOL"
   ]
  },
  {
   "cell_type": "code",
   "execution_count": 8,
   "metadata": {
    "collapsed": false,
    "deletable": true,
    "editable": true
   },
   "outputs": [
    {
     "data": {
      "text/plain": [
       "44353"
      ]
     },
     "execution_count": 8,
     "metadata": {},
     "output_type": "execute_result"
    }
   ],
   "source": [
    "NUM_SAMPLE = len(data)\n",
    "NUM_SAMPLE"
   ]
  },
  {
   "cell_type": "code",
   "execution_count": 78,
   "metadata": {
    "collapsed": false,
    "deletable": true,
    "editable": true
   },
   "outputs": [],
   "source": [
    "from keras.layers import MaxPooling1D, Input, Conv1D, Conv2D, Conv2DTranspose, Dense, Flatten, Dropout, Reshape, Embedding, Concatenate\n",
    "from keras.models import Model, Sequential\n",
    "from keras.regularizers import l2\n",
    "from keras.optimizers import Adam\n",
    "import numpy as np\n",
    "import tensorflow as tf\n",
    "\n",
    "def create_baseline():\n",
    "    \n",
    "    activation = 'selu'\n",
    "    padding = 'same'\n",
    "    use_bias = True\n",
    "    layer = 1\n",
    "    dim = [400, 400, 400, 800, 1600, 3200]\n",
    "    kernel = [5, 5, 5, 5, 5, 5]\n",
    "    strides = [1, 1, 1, 2, 2, 2]\n",
    "    EMBEDDING_SIZE=100\n",
    "        \n",
    "    inp = Input(shape=(SEQ_LENGTH,))\n",
    "    emb = Embedding(NUM_SYMBOL, EMBEDDING_SIZE, input_length=SEQ_LENGTH)(inp)\n",
    "    x = emb\n",
    "    for l in range(layer):\n",
    "        x = Conv1D(dim[l], kernel[l], strides=strides[l], activation=activation, padding=padding, use_bias=use_bias, name=\"Conv{}\".format(l))(x)\n",
    "        x = MaxPooling1D(strides=2, padding=padding)(x)\n",
    "        #x = Concatenate(name=\"MixLayer{}\".format(l))([x, emb])\n",
    "        \n",
    "    #x = Dense(100, activation='selu')(x)\n",
    "    \n",
    "    x = Flatten()(x)\n",
    "    \n",
    "    emb2 = Embedding(NUM_SYMBOL, EMBEDDING_SIZE, input_length=SEQ_LENGTH)(inp)\n",
    "    emb2 = Flatten()(emb2)\n",
    "    x = Concatenate()([x, emb2])\n",
    "\n",
    "    #x = Dropout(0.2)(x)\n",
    "    #x = Dense(1600, activation='selu')(x)\n",
    "    #x = Dropout(0.2)(x)\n",
    "    x = Dense(NUM_SYMBOL, activation='softmax')(x)\n",
    "    model = Model(inp, x)\n",
    "    #opt = Adam(lr=0.002, beta_1=0.9, beta_2=0.999, epsilon=1e-08, decay=0.0002)\n",
    "    model.compile(loss='categorical_crossentropy',\n",
    "              optimizer='adam')\n",
    "    return model"
   ]
  },
  {
   "cell_type": "code",
   "execution_count": 79,
   "metadata": {
    "collapsed": false,
    "deletable": true,
    "editable": true
   },
   "outputs": [
    {
     "name": "stdout",
     "output_type": "stream",
     "text": [
      "____________________________________________________________________________________________________\n",
      "Layer (type)                     Output Shape          Param #     Connected to                     \n",
      "====================================================================================================\n",
      "input_16 (InputLayer)            (None, 128)           0                                            \n",
      "____________________________________________________________________________________________________\n",
      "embedding_25 (Embedding)         (None, 128, 100)      7000        input_16[0][0]                   \n",
      "____________________________________________________________________________________________________\n",
      "Conv0 (Conv1D)                   (None, 128, 400)      200400      embedding_25[0][0]               \n",
      "____________________________________________________________________________________________________\n",
      "max_pooling1d_43 (MaxPooling1D)  (None, 64, 400)       0           Conv0[0][0]                      \n",
      "____________________________________________________________________________________________________\n",
      "embedding_26 (Embedding)         (None, 128, 100)      7000        input_16[0][0]                   \n",
      "____________________________________________________________________________________________________\n",
      "flatten_16 (Flatten)             (None, 25600)         0           max_pooling1d_43[0][0]           \n",
      "____________________________________________________________________________________________________\n",
      "flatten_17 (Flatten)             (None, 12800)         0           embedding_26[0][0]               \n",
      "____________________________________________________________________________________________________\n",
      "concatenate_9 (Concatenate)      (None, 38400)         0           flatten_16[0][0]                 \n",
      "                                                                   flatten_17[0][0]                 \n",
      "____________________________________________________________________________________________________\n",
      "dense_9 (Dense)                  (None, 70)            2688070     concatenate_9[0][0]              \n",
      "====================================================================================================\n",
      "Total params: 2,902,470\n",
      "Trainable params: 2,902,470\n",
      "Non-trainable params: 0\n",
      "____________________________________________________________________________________________________\n"
     ]
    }
   ],
   "source": [
    "model = create_baseline()\n",
    "model.summary()"
   ]
  },
  {
   "cell_type": "code",
   "execution_count": 80,
   "metadata": {
    "collapsed": true,
    "deletable": true,
    "editable": true
   },
   "outputs": [],
   "source": [
    "from keras.utils.np_utils import to_categorical\n",
    "\n",
    "def encode_word(word):\n",
    "    unpad = batch(s2i, word)\n",
    "    one_hot = to_categorical(unpad, num_classes=NUM_SYMBOL)\n",
    "    return one_hot\n",
    "\n",
    "def decode_word(one_hot):\n",
    "    return i2s( np.random.choice(list(range(NUM_SYMBOL)), p = one_hot)  )\n",
    "\n",
    "def decode_word_2(one_hot):\n",
    "    return i2s( np.argmax(one_hot) )\n",
    "\n",
    "\n",
    "# last char is used as output\n",
    "# so set it like gen = sliding_window(SEQ_LENGTH + 1)(data)\n",
    "def sample_generator(sliding_window_generator, batch_size = 64):\n",
    "    data = []\n",
    "    label = []\n",
    "    for window in sliding_window_generator:\n",
    "        #data.append(encode_word(window[:-1]))\n",
    "        data.append(batch(s2i, window[:-1]))\n",
    "        label.append(encode_word(window[-1:])[0])\n",
    "        if len(data) == batch_size:\n",
    "            yield (np.array(data), np.array(label))\n",
    "            data = []\n",
    "            label = []"
   ]
  },
  {
   "cell_type": "code",
   "execution_count": 81,
   "metadata": {
    "collapsed": false,
    "deletable": true,
    "editable": true
   },
   "outputs": [
    {
     "name": "stdout",
     "output_type": "stream",
     "text": [
      "Training data size: 35380\n",
      "Testing data size: 8845\n",
      "(2, 128)\n",
      "(2, 70)\n"
     ]
    }
   ],
   "source": [
    "gen = {}\n",
    "size = {}\n",
    "gen['train'], gen['test'], size['train'], size['test'] = sliding_window_random_access(data, SEQ_LENGTH + 1)\n",
    "print(next(sample_generator(gen['train'], 2))[0].shape)\n",
    "print(next(sample_generator(gen['test'], 2))[1].shape)"
   ]
  },
  {
   "cell_type": "code",
   "execution_count": 82,
   "metadata": {
    "collapsed": false,
    "deletable": true,
    "editable": true
   },
   "outputs": [],
   "source": [
    "from keras.callbacks import Callback, ModelCheckpoint\n",
    "def testing(model):\n",
    "    seed = \"\"\"Your child comes home and presents you with a drawing of your house. There's a blue house, a yellow sun, and a green sky. You admire their handiwork and then gently ask why the sky is green. Shouldn't it be blue? Most teachers and parents would have the same reaction, but before you speak, stop! That innocent little comment carries a powerful punch. Unbeknownst to you, you are about to squelch your child's natural developing creativity.\n",
    "Everyone has the ability to be creative, however, Professor of Biology and neurobiologist Erin Clabough Ph.D. writes that \"creativity can be easily crushed by goals imposed by others.\" Not everyone needs to see the world in the same light- and they shouldn't. Before you mention that sky should be blue, consider your reasons carefully. Your child can see that a sky is blue, but in their world it isn't. Allow them the freedom to be creative. Creativity fosters critical thinking and problem solving skills. It helps people to deal with stress and adapt to changes.\n",
    "\"\"\"\n",
    "    for i in range(500):\n",
    "        seed = seed + decode_word(model.predict(np.array([batch(s2i,seed[-SEQ_LENGTH:])]))[0])[0]\n",
    "        \n",
    "    print(seed)\n",
    "\n",
    "    seed = \"\"\"Your child comes home and presents you with a drawing of your house. There's a blue house, a yellow sun, and a green sky. You admire their handiwork and then gently ask why the sky is green. Shouldn't it be blue? Most teachers and parents would have the same reaction, but before you speak, stop! That innocent little comment carries a powerful punch. Unbeknownst to you, you are about to squelch your child's natural developing creativity.\n",
    "Everyone has the ability to be creative, however, Professor of Biology and neurobiologist Erin Clabough Ph.D. writes that \"creativity can be easily crushed by goals imposed by others.\" Not everyone needs to see the world in the same light- and they shouldn't. Before you mention that sky should be blue, consider your reasons carefully. Your child can see that a sky is blue, but in their world it isn't. Allow them the freedom to be creative. Creativity fosters critical thinking and problem solving skills. It helps people to deal with stress and adapt to changes.\n",
    "\"\"\"\n",
    "    for i in range(500):\n",
    "        seed = seed + decode_word_2(model.predict(np.array([batch(s2i,seed[-SEQ_LENGTH:])]))[0])[0]\n",
    "        \n",
    "    print(seed)\n",
    "\n",
    "    \n",
    "class testSample(Callback):\n",
    "    def on_epoch_end(self, batch, logs={}):\n",
    "        testing(model)"
   ]
  },
  {
   "cell_type": "code",
   "execution_count": 83,
   "metadata": {
    "collapsed": false,
    "deletable": true,
    "editable": true,
    "scrolled": true
   },
   "outputs": [
    {
     "name": "stderr",
     "output_type": "stream",
     "text": [
      "Widget Javascript not detected.  It may not be installed or enabled properly.\n"
     ]
    },
    {
     "data": {
      "application/vnd.jupyter.widget-view+json": {
       "model_id": "f33cb7fa702543f888bb9b4835f8b7af"
      }
     },
     "metadata": {},
     "output_type": "display_data"
    },
    {
     "name": "stderr",
     "output_type": "stream",
     "text": [
      "Widget Javascript not detected.  It may not be installed or enabled properly.\n"
     ]
    },
    {
     "data": {
      "application/vnd.jupyter.widget-view+json": {
       "model_id": "2d890ed7fad4475484779d4b69de45cd"
      }
     },
     "metadata": {},
     "output_type": "display_data"
    },
    {
     "name": "stdout",
     "output_type": "stream",
     "text": [
      "1095/|/[loss: 1.584]  99%|| 1095/1105 [01:45<00:00, 13.15it/s]Your child comes home and presents you with a drawing of your house. There's a blue house, a yellow sun, and a green sky. You admire their handiwork and then gently ask why the sky is green. Shouldn't it be blue? Most teachers and parents would have the same reaction, but before you speak, stop! That innocent little comment carries a powerful punch. Unbeknownst to you, you are about to squelch your child's natural developing creativity.\n",
      "Everyone has the ability to be creative, however, Professor of Biology and neurobiologist Erin Clabough Ph.D. writes that \"creativity can be easily crushed by goals imposed by others.\" Not everyone needs to see the world in the same light- and they shouldn't. Before you mention that sky should be blue, consider your reasons carefully. Your child can see that a sky is blue, but in their world it isn't. Allow them the freedom to be creative. Creativity fosters critical thinking and problem solving skills. It helps people to deal with stress and adapt to changes.\n",
      "- torligScond\n",
      "tonlly geat yt. gaithriy toghe hid be faverken ther Ctalgude mituser,urs uesiver, bed the kasla hain tha- acisplionpand of sutering\n",
      "inWeonig zonM\n",
      "shiend\n",
      "te yo chice oofreas eashbe s:\n",
      "the the by itss Cud nerene l\n",
      "of.  Hertre an, toothe \n",
      "and ad terired or heed a wh b tia.. \n",
      "\"\"F\n",
      "ss perredimf je trentyle ,hougoo a vey bely fabe Dao mav is badisteved\n",
      "tca the! Em alleve tas eI pof oaddinw.\n",
      "\"I a rafKtatclotem, an the Mr.p aacoI hod Mos aC apouved nd thed gome therord doobef past taYudr ba\n",
      "Your child comes home and presents you with a drawing of your house. There's a blue house, a yellow sun, and a green sky. You admire their handiwork and then gently ask why the sky is green. Shouldn't it be blue? Most teachers and parents would have the same reaction, but before you speak, stop! That innocent little comment carries a powerful punch. Unbeknownst to you, you are about to squelch your child's natural developing creativity.\n",
      "Everyone has the ability to be creative, however, Professor of Biology and neurobiologist Erin Clabough Ph.D. writes that \"creativity can be easily crushed by goals imposed by others.\" Not everyone needs to see the world in the same light- and they shouldn't. Before you mention that sky should be blue, consider your reasons carefully. Your child can see that a sky is blue, but in their world it isn't. Allow them the freedom to be creative. Creativity fosters critical thinking and problem solving skills. It helps people to deal with stress and adapt to changes.\n",
      " oma the could to and ton the tou har falled sand be and to toude fore and the hire fall the gould so the the the the the the sore and the her fore and the had and the here the the the the the the the the the the the tha gha wose the the that a the the the the the the the the the the the the the the the the the the than the she had so the the the the tho tho tho thouthe the the the the the the the the the the the the the the the the the the the tho tho the the the the the tho tha thouth the thin\n"
     ]
    },
    {
     "name": "stderr",
     "output_type": "stream",
     "text": [
      "Widget Javascript not detected.  It may not be installed or enabled properly.\n"
     ]
    },
    {
     "data": {
      "application/vnd.jupyter.widget-view+json": {
       "model_id": "aaad8da9fcb746b8bf63b5b868cdb6f6"
      }
     },
     "metadata": {},
     "output_type": "display_data"
    },
    {
     "name": "stdout",
     "output_type": "stream",
     "text": [
      "Your child comes home and presents you with a drawing of your house. There's a blue house, a yellow sun, and a green sky. You admire their handiwork and then gently ask why the sky is green. Shouldn't it be blue? Most teachers and parents would have the same reaction, but before you speak, stop! That innocent little comment carries a powerful punch. Unbeknownst to you, you are about to squelch your child's natural developing creativity.\n",
      "Everyone has the ability to be creative, however, Professor of Biology and neurobiologist Erin Clabough Ph.D. writes that \"creativity can be easily crushed by goals imposed by others.\" Not everyone needs to see the world in the same light- and they shouldn't. Before you mention that sky should be blue, consider your reasons carefully. Your child can see that a sky is blue, but in their world it isn't. Allow them the freedom to be creative. Creativity fosters critical thinking and problem solving skills. It helps people to deal with stress and adapt to changes.\n",
      "bher the weltaydly tald the hill bf at mvoni troul dotr, for ad.\n",
      "do\n",
      "he ats tor at, err stade thand ,e th tlirge were tnoy, and be\n",
      "alo\n",
      "mange grel achint leacf as fatgingt arred aod hiventiy reist-.\n",
      "\n",
      "\n",
      "uwthl yer her of shad sotet lo trigh, aly whar ol -his fal\n",
      "eres\n",
      "mo\n",
      "chuse co makis fou e lester, and as her to hy wall be wuse \n",
      "t\n",
      "of athe Mrst ongtor,, whowselwsided the gat amed bitp acceblante\n",
      "\n",
      "cgHa ved feed lo mat ploded to, she ch't rer all yevitinging to plomits cereng intriss of wich iriwghaal o\n",
      "Your child comes home and presents you with a drawing of your house. There's a blue house, a yellow sun, and a green sky. You admire their handiwork and then gently ask why the sky is green. Shouldn't it be blue? Most teachers and parents would have the same reaction, but before you speak, stop! That innocent little comment carries a powerful punch. Unbeknownst to you, you are about to squelch your child's natural developing creativity.\n",
      "Everyone has the ability to be creative, however, Professor of Biology and neurobiologist Erin Clabough Ph.D. writes that \"creativity can be easily crushed by goals imposed by others.\" Not everyone needs to see the world in the same light- and they shouldn't. Before you mention that sky should be blue, consider your reasons carefully. Your child can see that a sky is blue, but in their world it isn't. Allow them the freedom to be creative. Creativity fosters critical thinking and problem solving skills. It helps people to deal with stress and adapt to changes.\n",
      "\"\n",
      "to be an ever\n",
      "the coust was ble the groand her be all ell ees\n",
      "end\n",
      "on the titht as all the contad tee the no no fere timat an the\n",
      "ersaling and the che the the was all os all es ant her ver and\n",
      "thing and the light core fout to knut here wom the the grouth she has the gattere bo netere that alrithe hald an ary cond and at ance and her and was all couse so for the was ance could anger all wely be of al acomate ant care in that on to ken to tha whach are bean en at of ing ins the could betaritl che\n"
     ]
    },
    {
     "name": "stderr",
     "output_type": "stream",
     "text": [
      "Widget Javascript not detected.  It may not be installed or enabled properly.\n"
     ]
    },
    {
     "data": {
      "application/vnd.jupyter.widget-view+json": {
       "model_id": "f9fb26c934374ee5bedbe79b1c3231cd"
      }
     },
     "metadata": {},
     "output_type": "display_data"
    },
    {
     "name": "stdout",
     "output_type": "stream",
     "text": [
      "Your child comes home and presents you with a drawing of your house. There's a blue house, a yellow sun, and a green sky. You admire their handiwork and then gently ask why the sky is green. Shouldn't it be blue? Most teachers and parents would have the same reaction, but before you speak, stop! That innocent little comment carries a powerful punch. Unbeknownst to you, you are about to squelch your child's natural developing creativity.\n",
      "Everyone has the ability to be creative, however, Professor of Biology and neurobiologist Erin Clabough Ph.D. writes that \"creativity can be easily crushed by goals imposed by others.\" Not everyone needs to see the world in the same light- and they shouldn't. Before you mention that sky should be blue, consider your reasons carefully. Your child can see that a sky is blue, but in their world it isn't. Allow them the freedom to be creative. Creativity fosters critical thinking and problem solving skills. It helps people to deal with stress and adapt to changes.\n",
      "oMr senadd ofty ltit when plopange onfletent not to ns in tsenowed\n",
      "hah \n",
      "wereminttenoped sroush s and\n",
      "matend me farp ary montistoob.\n",
      "Ha\n",
      "sai\"s remang entia fapdeedut dimess, thiy deable hought no wese\n",
      "oniked noghen leached nosle she wine Rands of his but whok dbue\n",
      "wersomo-tayll had be centiad, it tut apamle. a noshe to dones ared to times and nes unsees comed aneethiss,\n",
      "mulw beln empupperversat, at lesesule hagas ow the hargung if resigenuresny tatch perser sorl, yed yot bnittlen storith me red gr\n",
      "Your child comes home and presents you with a drawing of your house. There's a blue house, a yellow sun, and a green sky. You admire their handiwork and then gently ask why the sky is green. Shouldn't it be blue? Most teachers and parents would have the same reaction, but before you speak, stop! That innocent little comment carries a powerful punch. Unbeknownst to you, you are about to squelch your child's natural developing creativity.\n",
      "Everyone has the ability to be creative, however, Professor of Biology and neurobiologist Erin Clabough Ph.D. writes that \"creativity can be easily crushed by goals imposed by others.\" Not everyone needs to see the world in the same light- and they shouldn't. Before you mention that sky should be blue, consider your reasons carefully. Your child can see that a sky is blue, but in their world it isn't. Allow them the freedom to be creative. Creativity fosters critical thinking and problem solving skills. It helps people to deal with stress and adapt to changes.\n",
      "ond reit waduan lto ness owed no graing.\n",
      "\n",
      "Ar herse was a some\n",
      "wersele, the carle sers is she was d tisuld you daco\n",
      "marn thing ther.\n",
      "wes an a semall had the nile to the pleeser,\n",
      "and micurmer for it livery so shid sand her net onling the ligtadurit\n",
      "had all the llbenest of the light so the thened fathar the ture\n",
      "of hed fornass ed hat lo the here buster this was ulhen wand to the cactirge thad bet restirat such she madring be to mere sheng.  He his ad neved tame the bodysul of the sure her so wat un\n"
     ]
    },
    {
     "name": "stderr",
     "output_type": "stream",
     "text": [
      "Widget Javascript not detected.  It may not be installed or enabled properly.\n"
     ]
    },
    {
     "data": {
      "application/vnd.jupyter.widget-view+json": {
       "model_id": "79854f35bf19427782091e4d3fdca752"
      }
     },
     "metadata": {},
     "output_type": "display_data"
    },
    {
     "name": "stdout",
     "output_type": "stream",
     "text": [
      "Your child comes home and presents you with a drawing of your house. There's a blue house, a yellow sun, and a green sky. You admire their handiwork and then gently ask why the sky is green. Shouldn't it be blue? Most teachers and parents would have the same reaction, but before you speak, stop! That innocent little comment carries a powerful punch. Unbeknownst to you, you are about to squelch your child's natural developing creativity.\n",
      "Everyone has the ability to be creative, however, Professor of Biology and neurobiologist Erin Clabough Ph.D. writes that \"creativity can be easily crushed by goals imposed by others.\" Not everyone needs to see the world in the same light- and they shouldn't. Before you mention that sky should be blue, consider your reasons carefully. Your child can see that a sky is blue, but in their world it isn't. Allow them the freedom to be creative. Creativity fosters critical thinking and problem solving skills. It helps people to deal with stress and adapt to changes.\n",
      " his be of outy\n",
      "st.  nurnowe, bufh, withoughtore lecm oallonserwy hed bat.\n",
      "antenas of, was and fres methe ivaling of a naturfece thoulr, in and sed whand so her per dactr, pnaten-to lery, weawenten hims, in whel she woule ver wend saruthe daings fort coritly tha wans hip goner in ate anmishe\n",
      "he she wall her lanceptenbuseed her aldeand wed eahe hen a mone ,\n",
      "in the propoo lithore lount aulotis ho hireme in a tinher helfer\n",
      "outher\n",
      "tin her ow s a nareof the beardenther will the try the ward has mony \n",
      "Your child comes home and presents you with a drawing of your house. There's a blue house, a yellow sun, and a green sky. You admire their handiwork and then gently ask why the sky is green. Shouldn't it be blue? Most teachers and parents would have the same reaction, but before you speak, stop! That innocent little comment carries a powerful punch. Unbeknownst to you, you are about to squelch your child's natural developing creativity.\n",
      "Everyone has the ability to be creative, however, Professor of Biology and neurobiologist Erin Clabough Ph.D. writes that \"creativity can be easily crushed by goals imposed by others.\" Not everyone needs to see the world in the same light- and they shouldn't. Before you mention that sky should be blue, consider your reasons carefully. Your child can see that a sky is blue, but in their world it isn't. Allow them the freedom to be creative. Creativity fosters critical thinking and problem solving skills. It helps people to deal with stress and adapt to changes.\n",
      "\n",
      "Mrs.  nownouty wty negreciely ow , and no mand hap sheallons, wede\n",
      "\n",
      "that in a tose for tary, to chees here name onb the sind wacone\n",
      "ungatile and there wes bo her all,\n",
      "sot ever they be the was not\n",
      "ener, and noo deat in of hims, bhing and\n",
      "tee presa gome lorgins wound yout waat lucher goimend mand here and\n",
      "tooll.  He had yound the werulime her whome hit was moty a terting his hat she was oureno\n",
      "dood then and your and hoo the gare of all oopented, stamled so it horsines chere then was aclacamither \n"
     ]
    },
    {
     "name": "stderr",
     "output_type": "stream",
     "text": [
      "Widget Javascript not detected.  It may not be installed or enabled properly.\n"
     ]
    },
    {
     "data": {
      "application/vnd.jupyter.widget-view+json": {
       "model_id": "83239d01fb74441e98294a0034918ee6"
      }
     },
     "metadata": {},
     "output_type": "display_data"
    },
    {
     "name": "stdout",
     "output_type": "stream",
     "text": [
      "Your child comes home and presents you with a drawing of your house. There's a blue house, a yellow sun, and a green sky. You admire their handiwork and then gently ask why the sky is green. Shouldn't it be blue? Most teachers and parents would have the same reaction, but before you speak, stop! That innocent little comment carries a powerful punch. Unbeknownst to you, you are about to squelch your child's natural developing creativity.\n",
      "Everyone has the ability to be creative, however, Professor of Biology and neurobiologist Erin Clabough Ph.D. writes that \"creativity can be easily crushed by goals imposed by others.\" Not everyone needs to see the world in the same light- and they shouldn't. Before you mention that sky should be blue, consider your reasons carefully. Your child can see that a sky is blue, but in their world it isn't. Allow them the freedom to be creative. Creativity fosters critical thinking and problem solving skills. It helps people to deal with stress and adapt to changes.\n",
      " ts bean soontentte necinuland no thiml.  mhanr ho suslally and\n",
      "enoued nevientugh, he wened nott beinge\n",
      "funt ribe relc in tighchey im port in ages.  such on misn and relarge of mising then\n",
      "sion and in remer; and mone a plecend ond her comt en tis teres\n",
      "cour a were tian of a chatring bo sharent in and limmule\n",
      "to houn end and not en the eappa wing when the fed to eve icther\n",
      "in er en with\n",
      "mot hes farend so a to beard that spie suso siof thit\n",
      "was nacomating eagacd had nestining ald sing in sterfit s\n",
      "Your child comes home and presents you with a drawing of your house. There's a blue house, a yellow sun, and a green sky. You admire their handiwork and then gently ask why the sky is green. Shouldn't it be blue? Most teachers and parents would have the same reaction, but before you speak, stop! That innocent little comment carries a powerful punch. Unbeknownst to you, you are about to squelch your child's natural developing creativity.\n",
      "Everyone has the ability to be creative, however, Professor of Biology and neurobiologist Erin Clabough Ph.D. writes that \"creativity can be easily crushed by goals imposed by others.\" Not everyone needs to see the world in the same light- and they shouldn't. Before you mention that sky should be blue, consider your reasons carefully. Your child can see that a sky is blue, but in their world it isn't. Allow them the freedom to be creative. Creativity fosters critical thinking and problem solving skills. It helps people to deal with stress and adapt to changes.\n",
      "one in the of chetion of in a sell actley mannere and a mond and a\n",
      "meebeven in the wery ness moth reme, en a disrof shat fron in sed happis as poof highll bot one countenos ther,\n",
      "and she a was sand the hand ss her.  fou tee in thim she was such she\n",
      "wose ante biconathit dishis disiss astie suct own bodd.  atcomed to all chesenden sanisud ining a in nacriels botsoos in fing beried eve in cife with in a maty latiriel for heard in aelind arim ling a thein es, and visile e commane for a lesule smon v\n"
     ]
    },
    {
     "name": "stderr",
     "output_type": "stream",
     "text": [
      "Widget Javascript not detected.  It may not be installed or enabled properly.\n"
     ]
    },
    {
     "data": {
      "application/vnd.jupyter.widget-view+json": {
       "model_id": "9687cd599b5146dfb39bbee521d53ff4"
      }
     },
     "metadata": {},
     "output_type": "display_data"
    },
    {
     "name": "stdout",
     "output_type": "stream",
     "text": [
      "Your child comes home and presents you with a drawing of your house. There's a blue house, a yellow sun, and a green sky. You admire their handiwork and then gently ask why the sky is green. Shouldn't it be blue? Most teachers and parents would have the same reaction, but before you speak, stop! That innocent little comment carries a powerful punch. Unbeknownst to you, you are about to squelch your child's natural developing creativity.\n",
      "Everyone has the ability to be creative, however, Professor of Biology and neurobiologist Erin Clabough Ph.D. writes that \"creativity can be easily crushed by goals imposed by others.\" Not everyone needs to see the world in the same light- and they shouldn't. Before you mention that sky should be blue, consider your reasons carefully. Your child can see that a sky is blue, but in their world it isn't. Allow them the freedom to be creative. Creativity fosters critical thinking and problem solving skills. It helps people to deal with stress and adapt to changes.\n",
      "ond bether of anlty new noded bet ir cony nther doa solistod sitll\n",
      "gothere cor faterrey suases and her ved becanvery be not of himeinf\n",
      "as diaffew the wames mo sadentos hood drhere doratell rot mout\n",
      "rest tee the hat fre l, nerald thie sing her her fant tonbeinte, and would he chea danser was onen\n",
      "the litted har vary the hid to were diseron cand firionay all gonse\n",
      "leesd a to she med the was a hand lly\n",
      "datiend as om a saminte\n",
      "ourhictionshe cawind she ling mat in the wabeed be the as theness the yno\n",
      "Your child comes home and presents you with a drawing of your house. There's a blue house, a yellow sun, and a green sky. You admire their handiwork and then gently ask why the sky is green. Shouldn't it be blue? Most teachers and parents would have the same reaction, but before you speak, stop! That innocent little comment carries a powerful punch. Unbeknownst to you, you are about to squelch your child's natural developing creativity.\n",
      "Everyone has the ability to be creative, however, Professor of Biology and neurobiologist Erin Clabough Ph.D. writes that \"creativity can be easily crushed by goals imposed by others.\" Not everyone needs to see the world in the same light- and they shouldn't. Before you mention that sky should be blue, consider your reasons carefully. Your child can see that a sky is blue, but in their world it isn't. Allow them the freedom to be creative. Creativity fosters critical thinking and problem solving skills. It helps people to deal with stress and adapt to changes.\n",
      "ond betheer had lteccelingdas ble bring every to had sous devein she way such rest rah meste hsse yedenvenger her ed thand sand scoung bedot here for houl shat the vare tow\n",
      "thos her hersed tomed or her oved sersos to tha cienly onself end so all mad wat of en ther to be and the had do mongla sfor horsol ther here woon she sand himes and mere be mes plachenecof cer as she was litoly derevery to mothes chane of have hand soond\n",
      "them es the relit sed sither and marremushe ham samys mand so arod\n",
      "on e\n"
     ]
    },
    {
     "name": "stderr",
     "output_type": "stream",
     "text": [
      "Widget Javascript not detected.  It may not be installed or enabled properly.\n"
     ]
    },
    {
     "data": {
      "application/vnd.jupyter.widget-view+json": {
       "model_id": "fa51070c572742ea9ba4f8b21127d6cf"
      }
     },
     "metadata": {},
     "output_type": "display_data"
    },
    {
     "name": "stdout",
     "output_type": "stream",
     "text": [
      "Your child comes home and presents you with a drawing of your house. There's a blue house, a yellow sun, and a green sky. You admire their handiwork and then gently ask why the sky is green. Shouldn't it be blue? Most teachers and parents would have the same reaction, but before you speak, stop! That innocent little comment carries a powerful punch. Unbeknownst to you, you are about to squelch your child's natural developing creativity.\n",
      "Everyone has the ability to be creative, however, Professor of Biology and neurobiologist Erin Clabough Ph.D. writes that \"creativity can be easily crushed by goals imposed by others.\" Not everyone needs to see the world in the same light- and they shouldn't. Before you mention that sky should be blue, consider your reasons carefully. Your child can see that a sky is blue, but in their world it isn't. Allow them the freedom to be creative. Creativity fosters critical thinking and problem solving skills. It helps people to deal with stress and adapt to changes.\n",
      "\"\n",
      "s of to touby levone grupase of d itly, havoun sacl atlyoud\n",
      "ibte\n",
      "\n",
      "atiof werted danpot as wy soulgenet he sea tact had mings onle\n",
      "\n",
      "thes with thar the cound a covndible she bagugt ontercure, and,\n",
      "wesledd sthen a frecenselsas ints him.  wmat secomet to to mest had a fatitin tpanserseb lyscpiand lefoer,ownd\n",
      "th he perncessent wes enc, and was all cofreddulnenesr,\n",
      "buch ony seretfer the soone thould, it door hearilly very berded sain\n",
      "tint for mistlbulistto a mo ted lingeea taiccpabred theil he fboh e\n",
      "Your child comes home and presents you with a drawing of your house. There's a blue house, a yellow sun, and a green sky. You admire their handiwork and then gently ask why the sky is green. Shouldn't it be blue? Most teachers and parents would have the same reaction, but before you speak, stop! That innocent little comment carries a powerful punch. Unbeknownst to you, you are about to squelch your child's natural developing creativity.\n",
      "Everyone has the ability to be creative, however, Professor of Biology and neurobiologist Erin Clabough Ph.D. writes that \"creativity can be easily crushed by goals imposed by others.\" Not everyone needs to see the world in the same light- and they shouldn't. Before you mention that sky should be blue, consider your reasons carefully. Your child can see that a sky is blue, but in their world it isn't. Allow them the freedom to be creative. Creativity fosters critical thinking and problem solving skills. It helps people to deal with stress and adapt to changes.\n",
      "\"\n",
      "so in owed ay lty ceppripass of haid haveny be the saulld and wa\n",
      "lat\n",
      "yesicoble for ally simetta th.\n",
      "Mrs.  actyot all cos he sem\n",
      "lisped\n",
      "tived ting no her ally angituyou a batier to sersuade ind thith\n",
      "th\n",
      "her fosh reconed goted\n",
      "the oy woo had a taeliodato her ipall was a\n",
      "a datel of the curly every a disto semontiend a welked her manter galinge coming-forhad yourted, a to hir ilshe beos haid\n",
      "a a bea dargshe wed a now were, to eent in pirs wore le to madl ature, withe the coon of toome to  ourd so \n"
     ]
    },
    {
     "name": "stderr",
     "output_type": "stream",
     "text": [
      "Widget Javascript not detected.  It may not be installed or enabled properly.\n"
     ]
    },
    {
     "data": {
      "application/vnd.jupyter.widget-view+json": {
       "model_id": "d344dee686964891a5ce60f7abc20d53"
      }
     },
     "metadata": {},
     "output_type": "display_data"
    },
    {
     "name": "stdout",
     "output_type": "stream",
     "text": [
      "Your child comes home and presents you with a drawing of your house. There's a blue house, a yellow sun, and a green sky. You admire their handiwork and then gently ask why the sky is green. Shouldn't it be blue? Most teachers and parents would have the same reaction, but before you speak, stop! That innocent little comment carries a powerful punch. Unbeknownst to you, you are about to squelch your child's natural developing creativity.\n",
      "Everyone has the ability to be creative, however, Professor of Biology and neurobiologist Erin Clabough Ph.D. writes that \"creativity can be easily crushed by goals imposed by others.\" Not everyone needs to see the world in the same light- and they shouldn't. Before you mention that sky should be blue, consider your reasons carefully. Your child can see that a sky is blue, but in their world it isn't. Allow them the freedom to be creative. Creativity fosters critical thinking and problem solving skills. It helps people to deal with stress and adapt to changes.\n",
      "one a nas nout slet Mr. Woodhoull havely,\n",
      "ren vooigh s a spactisy and her, Mirs asy opy for hes no menthe neb\n",
      "shagise a whaw shand the helf he her forted hes he had hardsbeed ansith thich ectishruming whel wantay.  the coomand thong ined betuple endlestenurettent batishat\n",
      "a livereng mank the e, poor, as all\n",
      "viting, a condre Mrsmindsid hus\n",
      "fore solikid an have in it\n",
      "ous gontrow\n",
      "shoungr and had blencemarroa wenty so thal vily shethin\n",
      "shat she coln\n",
      "and benangs en anceunss her and rosemmere at! had \n",
      "Your child comes home and presents you with a drawing of your house. There's a blue house, a yellow sun, and a green sky. You admire their handiwork and then gently ask why the sky is green. Shouldn't it be blue? Most teachers and parents would have the same reaction, but before you speak, stop! That innocent little comment carries a powerful punch. Unbeknownst to you, you are about to squelch your child's natural developing creativity.\n",
      "Everyone has the ability to be creative, however, Professor of Biology and neurobiologist Erin Clabough Ph.D. writes that \"creativity can be easily crushed by goals imposed by others.\" Not everyone needs to see the world in the same light- and they shouldn't. Before you mention that sky should be blue, consider your reasons carefully. Your child can see that a sky is blue, but in their world it isn't. Allow them the freedom to be creative. Creativity fosters critical thinking and problem solving skills. It helps people to deal with stress and adapt to changes.\n",
      "ons rathoredsay letomanins whe lls rifl of has mor callikenass.\n",
      "\n",
      "h\n",
      "re the icckeas, war poore all bettersed for ple as his for sim\n",
      ".\n",
      "\n",
      "\n",
      "it yut.  having r oplkin and wamaren oc une manc and mor b\n",
      "in\n",
      "th\n",
      "he\n",
      "were of of a sims, tha wasisit he a nora to carr at dist\n",
      "b\n",
      "it\n",
      "to ill ghele on he soild poarre ticall.  Mr sanan al ses.\n",
      "\n",
      "\n",
      "\n",
      "hAs as he son chely sh ppe found in her oman so yearle secome\n",
      "as\n",
      "a\n",
      "fill ptrscgis but so hf heis beid angs her eralgeat.  I pars\n",
      "beke\n",
      "an eot talthce, had serthing af it sut of \n"
     ]
    },
    {
     "name": "stderr",
     "output_type": "stream",
     "text": [
      "Widget Javascript not detected.  It may not be installed or enabled properly.\n"
     ]
    },
    {
     "data": {
      "application/vnd.jupyter.widget-view+json": {
       "model_id": "6728e2e4c28c4dc8a4ca5c37d02e1446"
      }
     },
     "metadata": {},
     "output_type": "display_data"
    },
    {
     "name": "stdout",
     "output_type": "stream",
     "text": [
      "Your child comes home and presents you with a drawing of your house. There's a blue house, a yellow sun, and a green sky. You admire their handiwork and then gently ask why the sky is green. Shouldn't it be blue? Most teachers and parents would have the same reaction, but before you speak, stop! That innocent little comment carries a powerful punch. Unbeknownst to you, you are about to squelch your child's natural developing creativity.\n",
      "Everyone has the ability to be creative, however, Professor of Biology and neurobiologist Erin Clabough Ph.D. writes that \"creativity can be easily crushed by goals imposed by others.\" Not everyone needs to see the world in the same light- and they shouldn't. Before you mention that sky should be blue, consider your reasons carefully. Your child can see that a sky is blue, but in their world it isn't. Allow them the freedom to be creative. Creativity fosters critical thinking and problem solving skills. It helps people to deal with stress and adapt to changes.\n",
      "\"os is to moun a to celing eve legrricl Harty endeacuslely suas ea\n",
      "le,\n",
      "and ait had nacunfarentson the marris lisfor Miss inly wicould eang\n",
      "inow her highf only galnecmunge nhat frop every buin She was be\n",
      "hiss\n",
      "en one lirg ance to eralistle a she as ael emitant be chrelfon the hisfuch aly daill in cof hem assed .  heswans mosted the ouse convering mulr wover and the prat cause of howans for hander one.  \n",
      "of was a srice douthe  hat one unatear soc poon und urly and be\n",
      "ande mo not of the hal in will \n",
      "Your child comes home and presents you with a drawing of your house. There's a blue house, a yellow sun, and a green sky. You admire their handiwork and then gently ask why the sky is green. Shouldn't it be blue? Most teachers and parents would have the same reaction, but before you speak, stop! That innocent little comment carries a powerful punch. Unbeknownst to you, you are about to squelch your child's natural developing creativity.\n",
      "Everyone has the ability to be creative, however, Professor of Biology and neurobiologist Erin Clabough Ph.D. writes that \"creativity can be easily crushed by goals imposed by others.\" Not everyone needs to see the world in the same light- and they shouldn't. Before you mention that sky should be blue, consider your reasons carefully. Your child can see that a sky is blue, but in their world it isn't. Allow them the freedom to be creative. Creativity fosters critical thinking and problem solving skills. It helps people to deal with stress and adapt to changes.\n",
      "one ian os of thet one inclave ing simlse mand ine bestall.  astwi\n",
      "h a all-tod thinn him as hoos, to\n",
      "to dear fathe fon his was resurade all very onadithe ity to hanciuspinor hardibe in she had in eppow-theth and, hed with abrey of his mand the I manded ence for hashersling have hid lone vely thourd, and achelitind to her hather as han anfore, und of chasute wish sour of nael of the one to hadre the time to benle to fortiel dhing.  ow ise alaced intere and the her fare ins much hor as ucceuarly\n",
      "a\n"
     ]
    },
    {
     "name": "stderr",
     "output_type": "stream",
     "text": [
      "Widget Javascript not detected.  It may not be installed or enabled properly.\n"
     ]
    },
    {
     "data": {
      "application/vnd.jupyter.widget-view+json": {
       "model_id": "869c42adb2cf4e139c08d3c2eb90d082"
      }
     },
     "metadata": {},
     "output_type": "display_data"
    },
    {
     "name": "stdout",
     "output_type": "stream",
     "text": [
      "Your child comes home and presents you with a drawing of your house. There's a blue house, a yellow sun, and a green sky. You admire their handiwork and then gently ask why the sky is green. Shouldn't it be blue? Most teachers and parents would have the same reaction, but before you speak, stop! That innocent little comment carries a powerful punch. Unbeknownst to you, you are about to squelch your child's natural developing creativity.\n",
      "Everyone has the ability to be creative, however, Professor of Biology and neurobiologist Erin Clabough Ph.D. writes that \"creativity can be easily crushed by goals imposed by others.\" Not everyone needs to see the world in the same light- and they shouldn't. Before you mention that sky should be blue, consider your reasons carefully. Your child can see that a sky is blue, but in their world it isn't. Allow them the freedom to be creative. Creativity fosters critical thinking and problem solving skills. It helps people to deal with stress and adapt to changes.\n",
      "of frit dentery ltitn of ipes onl a sels, erank of h-s all.  Hiw such\n",
      "a, and tittren ay ungry tand her fortuny, thay all been so it tor the amaln meragind surter .\n",
      "emus diof the gald f, way un a fith-im good to der the g hat mo\n",
      "gra, and bet the sild neging. \n",
      "the was per beerie thing suca hind beacein the deds.  hid frow chine sighte dercould nougm the serfo thigechad to wersinge for than uthat fare foow the chuamuse cour hive war to her younn a d keppuch urfor a was then atsintel foo--\n",
      "thuch all\n",
      "Your child comes home and presents you with a drawing of your house. There's a blue house, a yellow sun, and a green sky. You admire their handiwork and then gently ask why the sky is green. Shouldn't it be blue? Most teachers and parents would have the same reaction, but before you speak, stop! That innocent little comment carries a powerful punch. Unbeknownst to you, you are about to squelch your child's natural developing creativity.\n",
      "Everyone has the ability to be creative, however, Professor of Biology and neurobiologist Erin Clabough Ph.D. writes that \"creativity can be easily crushed by goals imposed by others.\" Not everyone needs to see the world in the same light- and they shouldn't. Before you mention that sky should be blue, consider your reasons carefully. Your child can see that a sky is blue, but in their world it isn't. Allow them the freedom to be creative. Creativity fosters critical thinking and problem solving skills. It helps people to deal with stress and adapt to changes.\n",
      "of frit denget wation of ined all ias thing normof d-sell naving seme\n",
      "a, and matirely an asre, tu she her twerant of hardy agSait.\n",
      "\n",
      "\n",
      "tehis ed siol her fanigh aer of .  oury of Mr. Wetthn to iaul \n",
      "was witurd bothica natisted her.  She had go; the lfnd it and and her mare ther ver as could soured that walt geors of his fand dicheritwwit hathe weddon the had, in-the mure all of her of had, and marl a sommas much heshey her formang peon in to hive Miss ofuld we,\n",
      "leng to ther the b-in wisiwe frate lo\n"
     ]
    },
    {
     "name": "stderr",
     "output_type": "stream",
     "text": [
      "Widget Javascript not detected.  It may not be installed or enabled properly.\n"
     ]
    },
    {
     "data": {
      "application/vnd.jupyter.widget-view+json": {
       "model_id": "06dc86afc35f4753b6808a558f6bd496"
      }
     },
     "metadata": {},
     "output_type": "display_data"
    },
    {
     "name": "stdout",
     "output_type": "stream",
     "text": [
      "Your child comes home and presents you with a drawing of your house. There's a blue house, a yellow sun, and a green sky. You admire their handiwork and then gently ask why the sky is green. Shouldn't it be blue? Most teachers and parents would have the same reaction, but before you speak, stop! That innocent little comment carries a powerful punch. Unbeknownst to you, you are about to squelch your child's natural developing creativity.\n",
      "Everyone has the ability to be creative, however, Professor of Biology and neurobiologist Erin Clabough Ph.D. writes that \"creativity can be easily crushed by goals imposed by others.\" Not everyone needs to see the world in the same light- and they shouldn't. Before you mention that sky should be blue, consider your reasons carefully. Your child can see that a sky is blue, but in their world it isn't. Allow them the freedom to be creative. Creativity fosters critical thinking and problem solving skills. It helps people to deal with stress and adapt to changes.\n",
      "ons ian onentay tton wisunper and in flen him voniensseasy.\n",
      "\n",
      "\n",
      "ow she vary encer aking of wile tha bettere.  Ha him the ramcot ham\n",
      "en tound Mr.  Tayen enan eo not, ant sery noterul, in the wouse salust\n",
      "though mo be so\n",
      "nettlon on to, tave fery by sich thing rforen,\n",
      "who lone to a mmate the sion om somef ren the meal chese son ct\n",
      "enall in the ham nos ter merro all be fersee so the placinnot the e\n",
      "corion in for to talcould her bot tele she was on a tle en, alfer\n",
      "tit the dina satill estalsiof ome the\n",
      "\n",
      "Your child comes home and presents you with a drawing of your house. There's a blue house, a yellow sun, and a green sky. You admire their handiwork and then gently ask why the sky is green. Shouldn't it be blue? Most teachers and parents would have the same reaction, but before you speak, stop! That innocent little comment carries a powerful punch. Unbeknownst to you, you are about to squelch your child's natural developing creativity.\n",
      "Everyone has the ability to be creative, however, Professor of Biology and neurobiologist Erin Clabough Ph.D. writes that \"creativity can be easily crushed by goals imposed by others.\" Not everyone needs to see the world in the same light- and they shouldn't. Before you mention that sky should be blue, consider your reasons carefully. Your child can see that a sky is blue, but in their world it isn't. Allow them the freedom to be creative. Creativity fosters critical thinking and problem solving skills. It helps people to deal with stress and adapt to changes.\n",
      "oos in oos gean ttonn. \n",
      "ondene nes of the mannen sable in paven bod ever yo him the the nese sann the e ficay ang though vanbe\n",
      "outle ent wascome that ife fer by on and heal cyl on be y an the in len in one wes rist an anr ble por bust be and st be thout fo her wound of Mrs. Womdon the fery cot was loowe an of cies, by this thin sher simeds we her hers, es in or a to se would not mes not has bita alachere abour a tane him shing fere in the worly for muen tame, aboutt on the for and rIt hat harsed\n"
     ]
    },
    {
     "name": "stderr",
     "output_type": "stream",
     "text": [
      "Widget Javascript not detected.  It may not be installed or enabled properly.\n"
     ]
    },
    {
     "data": {
      "application/vnd.jupyter.widget-view+json": {
       "model_id": "e98b884a546848b3aa83bf00249961ee"
      }
     },
     "metadata": {},
     "output_type": "display_data"
    },
    {
     "name": "stdout",
     "output_type": "stream",
     "text": [
      "Your child comes home and presents you with a drawing of your house. There's a blue house, a yellow sun, and a green sky. You admire their handiwork and then gently ask why the sky is green. Shouldn't it be blue? Most teachers and parents would have the same reaction, but before you speak, stop! That innocent little comment carries a powerful punch. Unbeknownst to you, you are about to squelch your child's natural developing creativity.\n",
      "Everyone has the ability to be creative, however, Professor of Biology and neurobiologist Erin Clabough Ph.D. writes that \"creativity can be easily crushed by goals imposed by others.\" Not everyone needs to see the world in the same light- and they shouldn't. Before you mention that sky should be blue, consider your reasons carefully. Your child can see that a sky is blue, but in their world it isn't. Allow them the freedom to be creative. Creativity fosters critical thinking and problem solving skills. It helps people to deal with stress and adapt to changes.\n",
      "of rightos geachly.  Alsenpever\n",
      "ll, it he rinkind a lack, and whole mughteat frefiinsoof as yousuch.\n",
      "\n",
      "Misviridisintle fithdurs ind vouse sine hilg tas and eot celfares\n",
      "of the gries the preenyed her as fure ofse men deet his the myss and theiendint; and welcuulwer; and\n",
      "ever the sher alowhed wite end iantle fatin a but the\n",
      "walted, uven botyer hid vereddersled cunher had betsently of rittle anot thoue regint woot the er.  Suselod beev riegly ttwald had be and earrint nouked halk houne cour beale,\n",
      "i\n",
      "Your child comes home and presents you with a drawing of your house. There's a blue house, a yellow sun, and a green sky. You admire their handiwork and then gently ask why the sky is green. Shouldn't it be blue? Most teachers and parents would have the same reaction, but before you speak, stop! That innocent little comment carries a powerful punch. Unbeknownst to you, you are about to squelch your child's natural developing creativity.\n",
      "Everyone has the ability to be creative, however, Professor of Biology and neurobiologist Erin Clabough Ph.D. writes that \"creativity can be easily crushed by goals imposed by others.\" Not everyone needs to see the world in the same light- and they shouldn't. Before you mention that sky should be blue, consider your reasons carefully. Your child can see that a sky is blue, but in their world it isn't. Allow them the freedom to be creative. Creativity fosters critical thinking and problem solving skills. It helps people to deal with stress and adapt to changes.\n",
      "of rigitose tay ly.  nesindese tll, all aghin lone falit lo were doue,\n",
      "avd angrefrien, mustimston it beetren ar and comatinin, in her versussuch do realitean deed Mithlusttublen when wistant al ching ionlewe tayly ad themese\n",
      "disuseit bfourune munalg do es to e of the tele andele the ungeren\n",
      "touse she her of el to to be to was a miso ever ade inece.\n",
      "\n",
      "nemed with r corited en hur lfat soule near when ene has ile\n",
      "thatowe hame cient matihe sfour\n",
      "sameld fored the was anter endyser so. \n",
      "ee nver the lis\n"
     ]
    },
    {
     "name": "stderr",
     "output_type": "stream",
     "text": [
      "Widget Javascript not detected.  It may not be installed or enabled properly.\n"
     ]
    },
    {
     "data": {
      "application/vnd.jupyter.widget-view+json": {
       "model_id": "fb9ceb32b7bc4f40b9996cedc9458962"
      }
     },
     "metadata": {},
     "output_type": "display_data"
    },
    {
     "name": "stdout",
     "output_type": "stream",
     "text": [
      "Your child comes home and presents you with a drawing of your house. There's a blue house, a yellow sun, and a green sky. You admire their handiwork and then gently ask why the sky is green. Shouldn't it be blue? Most teachers and parents would have the same reaction, but before you speak, stop! That innocent little comment carries a powerful punch. Unbeknownst to you, you are about to squelch your child's natural developing creativity.\n",
      "Everyone has the ability to be creative, however, Professor of Biology and neurobiologist Erin Clabough Ph.D. writes that \"creativity can be easily crushed by goals imposed by others.\" Not everyone needs to see the world in the same light- and they shouldn't. Before you mention that sky should be blue, consider your reasons carefully. Your child can see that a sky is blue, but in their world it isn't. Allow them the freedom to be creative. Creativity fosters critical thinking and problem solving skills. It helps people to deal with stress and adapt to changes.\n",
      "ond nealds of calten ensing.\n",
      " Mrs.  ctla, shand tha p rascod s.\n",
      " med whave carlefeay yon satwhes sither lime farled sip.\n",
      " hof a from chall had being his, tattle sor mire souns ones mowhen lonlew lecheaalibed ther hauthron hould nation to the ,ischiplor the lint.  hus fim\n",
      "hardies every wos thom she pasen to reer ed ly mury werek sim.\n",
      "\n",
      "She has and the is thoun rot bicf lake rou dfather,\n",
      "and a crysurino.\n",
      "\n",
      "\"\n",
      "and non to the and ohe allied, forred, sureaso\n",
      "ev arile to cons\n",
      "on theersture say flintly ka\n",
      "Your child comes home and presents you with a drawing of your house. There's a blue house, a yellow sun, and a green sky. You admire their handiwork and then gently ask why the sky is green. Shouldn't it be blue? Most teachers and parents would have the same reaction, but before you speak, stop! That innocent little comment carries a powerful punch. Unbeknownst to you, you are about to squelch your child's natural developing creativity.\n",
      "Everyone has the ability to be creative, however, Professor of Biology and neurobiologist Erin Clabough Ph.D. writes that \"creativity can be easily crushed by goals imposed by others.\" Not everyone needs to see the world in the same light- and they shouldn't. Before you mention that sky should be blue, consider your reasons carefully. Your child can see that a sky is blue, but in their world it isn't. Allow them the freedom to be creative. Creativity fosters critical thinking and problem solving skills. It helps people to deal with stress and adapt to changes.\n",
      "ond nealdsedeachething sichele llleved her bantinla farall.  suwe cay atcatale have afont she to titl, ald.  hat a freand mes was and hat levenisealt, mant to sare thies wilor of Hirhfirthirs it he had panitfert which\n",
      "of tha plated comporsand her an andand and perian, for therenesictle of ching be to somithlole may the partion art.\n",
      "and had anced aen the begonce, and bes ed sinore ald best. \n",
      "plthe rittre to cortoretat, and be bersellge ave intimissed unlessin\n",
      "his lewer to partome har beime to bla\n"
     ]
    },
    {
     "name": "stderr",
     "output_type": "stream",
     "text": [
      "Widget Javascript not detected.  It may not be installed or enabled properly.\n"
     ]
    },
    {
     "data": {
      "application/vnd.jupyter.widget-view+json": {
       "model_id": "29b2937504624731a93a00c4e70ec355"
      }
     },
     "metadata": {},
     "output_type": "display_data"
    },
    {
     "name": "stdout",
     "output_type": "stream",
     "text": [
      "Your child comes home and presents you with a drawing of your house. There's a blue house, a yellow sun, and a green sky. You admire their handiwork and then gently ask why the sky is green. Shouldn't it be blue? Most teachers and parents would have the same reaction, but before you speak, stop! That innocent little comment carries a powerful punch. Unbeknownst to you, you are about to squelch your child's natural developing creativity.\n",
      "Everyone has the ability to be creative, however, Professor of Biology and neurobiologist Erin Clabough Ph.D. writes that \"creativity can be easily crushed by goals imposed by others.\" Not everyone needs to see the world in the same light- and they shouldn't. Before you mention that sky should be blue, consider your reasons carefully. Your child can see that a sky is blue, but in their world it isn't. Allow them the freedom to be creative. Creativity fosters critical thinking and problem solving skills. It helps people to deal with stress and adapt to changes.\n",
      "one as ass of anwepconling ave bul siftion an endeed-all could wer\n",
      "ever, and the conghins realssed\n",
      "the verl alan as she of a sersee\n",
      "undins, and hawe dest oad ing in\n",
      "here wored of hwas to every oodind ablset's marriand Emma sbut\n",
      "\n",
      "uate ait a nerever in ef ave happeid ef ome liti.  poobecined.\n",
      "hat he h-as of hus suid mine so hery of, end siss lo;\n",
      "hir shing interell as it.  He; and dishand feed alemeghnenn insled\n",
      "oncer fried onal so mar inew usfone sous han eround, le han\n",
      "hoon\n",
      "waly to ithe himpeconv\n",
      "Your child comes home and presents you with a drawing of your house. There's a blue house, a yellow sun, and a green sky. You admire their handiwork and then gently ask why the sky is green. Shouldn't it be blue? Most teachers and parents would have the same reaction, but before you speak, stop! That innocent little comment carries a powerful punch. Unbeknownst to you, you are about to squelch your child's natural developing creativity.\n",
      "Everyone has the ability to be creative, however, Professor of Biology and neurobiologist Erin Clabough Ph.D. writes that \"creativity can be easily crushed by goals imposed by others.\" Not everyone needs to see the world in the same light- and they shouldn't. Before you mention that sky should be blue, consider your reasons carefully. Your child can see that a sky is blue, but in their world it isn't. Allow them the freedom to be creative. Creativity fosters critical thinking and problem solving skills. It helps people to deal with stress and adapt to changes.\n",
      "one as ass of anwelconling ave bull if he nat such al cillodiss\n",
      "have Mrscatand had nourg as Hersu sted's in har gacweal her bes\n",
      "neis liendd to hor a was eve e cauch a foo doron eid young fl of anf\n",
      "le parife wer ant the asinteeion wife her pleasurt, as Mr. Weston\n",
      "her and one ance omethin , and in thecl obwermes thouse\n",
      "it Miss and\n",
      "orse to in ant litter meachild in ere vared les concento\n",
      "the enout\n",
      "\n",
      "oapeon conl in Mr. Wesdon whas Mar. bat an oprecad, ench\n",
      "if Hing\n",
      "be so at hits an chappenes, but fich\n"
     ]
    },
    {
     "name": "stderr",
     "output_type": "stream",
     "text": [
      "Widget Javascript not detected.  It may not be installed or enabled properly.\n"
     ]
    },
    {
     "data": {
      "application/vnd.jupyter.widget-view+json": {
       "model_id": "aa4b5fb9cd7346e1ae43ea75f6277a63"
      }
     },
     "metadata": {},
     "output_type": "display_data"
    },
    {
     "name": "stdout",
     "output_type": "stream",
     "text": [
      "Your child comes home and presents you with a drawing of your house. There's a blue house, a yellow sun, and a green sky. You admire their handiwork and then gently ask why the sky is green. Shouldn't it be blue? Most teachers and parents would have the same reaction, but before you speak, stop! That innocent little comment carries a powerful punch. Unbeknownst to you, you are about to squelch your child's natural developing creativity.\n",
      "Everyone has the ability to be creative, however, Professor of Biology and neurobiologist Erin Clabough Ph.D. writes that \"creativity can be easily crushed by goals imposed by others.\" Not everyone needs to see the world in the same light- and they shouldn't. Before you mention that sky should be blue, consider your reasons carefully. Your child can see that a sky is blue, but in their world it isn't. Allow them the freedom to be creative. Creativity fosters critical thinking and problem solving skills. It helps people to deal with stress and adapt to changes.\n",
      "ons in the ingentto nevir dele lige if ho manner lens carly wish acllobedy-mighthieg by to and I pried, ons in the farlisis of listyout ble mish and sintle your\n",
      "a lantly timancayoat mart a woreentyene and begrees twon with aly shile twan in ling cer meds allugh, her sow lled the somableage, -reth am Mrs. ewsllitfraught enly,\n",
      "iid musr mast of thee thumprecable fiil of the the-tation that Mes.\n",
      "\n",
      "mot Mr.  I doseny her from that the musome thin the so contelf\n",
      "rmis was nnst tettink whin ghcone was wis\n",
      "Your child comes home and presents you with a drawing of your house. There's a blue house, a yellow sun, and a green sky. You admire their handiwork and then gently ask why the sky is green. Shouldn't it be blue? Most teachers and parents would have the same reaction, but before you speak, stop! That innocent little comment carries a powerful punch. Unbeknownst to you, you are about to squelch your child's natural developing creativity.\n",
      "Everyone has the ability to be creative, however, Professor of Biology and neurobiologist Erin Clabough Ph.D. writes that \"creativity can be easily crushed by goals imposed by others.\" Not everyone needs to see the world in the same light- and they shouldn't. Before you mention that sky should be blue, consider your reasons carefully. Your child can see that a sky is blue, but in their world it isn't. Allow them the freedom to be creative. Creativity fosters critical thinking and problem solving skills. It helps people to deal with stress and adapt to changes.\n",
      "one in the gortalt.  Whing was llse it thanbankin an lais ossibwe,\n",
      "and as tain had well and goodies fersene that in opestinno ser er, and nast had sheel in noularge of lo hing and himchele malw re burbedy arvery shed nopsoriely friond forhin a drher whe fall hen her waw shoul.\n",
      " mir sith in to merchand fiel marrot her a that ses secers in evering bern wertife, bit ffith in gar, and the asl bes, as delis indchirs solies I nove sain thout wilk ewof ratife thot has brechean the seld riman toughtt re\n"
     ]
    },
    {
     "name": "stderr",
     "output_type": "stream",
     "text": [
      "Widget Javascript not detected.  It may not be installed or enabled properly.\n"
     ]
    },
    {
     "data": {
      "application/vnd.jupyter.widget-view+json": {
       "model_id": "411bbe4dfc084988b013b3ffcf66fa2a"
      }
     },
     "metadata": {},
     "output_type": "display_data"
    },
    {
     "name": "stdout",
     "output_type": "stream",
     "text": [
      "Your child comes home and presents you with a drawing of your house. There's a blue house, a yellow sun, and a green sky. You admire their handiwork and then gently ask why the sky is green. Shouldn't it be blue? Most teachers and parents would have the same reaction, but before you speak, stop! That innocent little comment carries a powerful punch. Unbeknownst to you, you are about to squelch your child's natural developing creativity.\n",
      "Everyone has the ability to be creative, however, Professor of Biology and neurobiologist Erin Clabough Ph.D. writes that \"creativity can be easily crushed by goals imposed by others.\" Not everyone needs to see the world in the same light- and they shouldn't. Before you mention that sky should be blue, consider your reasons carefully. Your child can see that a sky is blue, but in their world it isn't. Allow them the freedom to be creative. Creativity fosters critical thinking and problem solving skills. It helps people to deal with stress and adapt to changes.\n",
      " Miss andsogeranwes no in mess blli pmesing then a flectind singeneen, buty in priced the by shongreet wima, sherend thfor anwas the leeved by har fars tes havesich prichato harcuerea.\n",
      "\n",
      "nasit ulettraat Miss asy orr, had veng rofed all.\n",
      "who fare dlappad\n",
      "cated by owe han eratitude ; and Mrsaging. hart weacr ahe indy Mrssing, wite of a cateint\n",
      "to yet with yh wa hiableation-thirg inand ro rentude of a corpaeinn\n",
      "wers.\n",
      "I had no sepreaincy ch proce, but ut paite to erted regftet so\n",
      "ners yetr ad to prot\n",
      "Your child comes home and presents you with a drawing of your house. There's a blue house, a yellow sun, and a green sky. You admire their handiwork and then gently ask why the sky is green. Shouldn't it be blue? Most teachers and parents would have the same reaction, but before you speak, stop! That innocent little comment carries a powerful punch. Unbeknownst to you, you are about to squelch your child's natural developing creativity.\n",
      "Everyone has the ability to be creative, however, Professor of Biology and neurobiologist Erin Clabough Ph.D. writes that \"creativity can be easily crushed by goals imposed by others.\" Not everyone needs to see the world in the same light- and they shouldn't. Before you mention that sky should be blue, consider your reasons carefully. Your child can see that a sky is blue, but in their world it isn't. Allow them the freedom to be creative. Creativity fosters critical thinking and problem solving skills. It helps people to deal with stress and adapt to changes.\n",
      " Miss andsogeranwes no in mess bll apethin therenteble\n",
      "the dist onec-uch yocinberient cheasrilpon rould waul aaly with hert an prof antoln and the hout as\n",
      "the erd tarmall who har met was an at anmanc asesenteat dint\n",
      "his loncimetiibed she hadlle, whate her to bhat hore of evely bo\n",
      "thall the hers witht his hore sacuraerifuld, ouch an oneir it best\n",
      "a beet ilete that a liot come the caith it tuce but of gocit wat investes, fhe soneetfoid thit beatien,\n",
      "great une hat nelto calith lf hish a want the ma\n"
     ]
    },
    {
     "name": "stderr",
     "output_type": "stream",
     "text": [
      "Widget Javascript not detected.  It may not be installed or enabled properly.\n"
     ]
    },
    {
     "data": {
      "application/vnd.jupyter.widget-view+json": {
       "model_id": "009993b083e84b70b8314e7d92b93383"
      }
     },
     "metadata": {},
     "output_type": "display_data"
    },
    {
     "name": "stdout",
     "output_type": "stream",
     "text": [
      "Your child comes home and presents you with a drawing of your house. There's a blue house, a yellow sun, and a green sky. You admire their handiwork and then gently ask why the sky is green. Shouldn't it be blue? Most teachers and parents would have the same reaction, but before you speak, stop! That innocent little comment carries a powerful punch. Unbeknownst to you, you are about to squelch your child's natural developing creativity.\n",
      "Everyone has the ability to be creative, however, Professor of Biology and neurobiologist Erin Clabough Ph.D. writes that \"creativity can be easily crushed by goals imposed by others.\" Not everyone needs to see the world in the same light- and they shouldn't. Before you mention that sky should be blue, consider your reasons carefully. Your child can see that a sky is blue, but in their world it isn't. Allow them the freedom to be creative. Creativity fosters critical thinking and problem solving skills. It helps people to deal with stress and adapt to changes.\n",
      "one nabrom onachlts nelseimele nle simthing fnet he was sood sithat\n",
      "and\n",
      "bet no firstance am onse of leito Mr. Westhor wasonse mprour\n",
      "fime evenstyon onre, her ly alromat hainh, in hear ting taile earselsing bo the carlive and tme it to mire sith an\n",
      "and pleans e of the comithe havery so evinies of he of ther was shin id mare atgreatitiond so\n",
      "pro od not in sy lare the a shat oumpohe a wonat\n",
      "of the luse so tacmulf in the earl.  fore and the e selverses, tair malling, she mosm sne boud an with a ploc\n",
      "Your child comes home and presents you with a drawing of your house. There's a blue house, a yellow sun, and a green sky. You admire their handiwork and then gently ask why the sky is green. Shouldn't it be blue? Most teachers and parents would have the same reaction, but before you speak, stop! That innocent little comment carries a powerful punch. Unbeknownst to you, you are about to squelch your child's natural developing creativity.\n",
      "Everyone has the ability to be creative, however, Professor of Biology and neurobiologist Erin Clabough Ph.D. writes that \"creativity can be easily crushed by goals imposed by others.\" Not everyone needs to see the world in the same light- and they shouldn't. Before you mention that sky should be blue, consider your reasons carefully. Your child can see that a sky is blue, but in their world it isn't. Allow them the freedom to be creative. Creativity fosters critical thinking and problem solving skills. It helps people to deal with stress and adapt to changes.\n",
      "ons of hom onMrs. and of cpele neligith yo thoun had satelos,\n",
      "in ard, and thit had her sse an so fereingring and ar the wourd sithlame of sone a nast ant one withhan .\n",
      "the oald to ar fiet. \n",
      "\n",
      "ow the had noar to a tapreand hare more of the was the her.  She had moonis beanin of preisure, and dalt rachlcersotle selsealintome sentersound nting a bome hing of the wasself enthing inastinle highly wish derethe soby\n",
      "af and noth ese that enatingeadulit sporichely ans pritear the sod.\n",
      "\n",
      "\n",
      "he tanwas wouch ma\n"
     ]
    },
    {
     "name": "stderr",
     "output_type": "stream",
     "text": [
      "Widget Javascript not detected.  It may not be installed or enabled properly.\n"
     ]
    },
    {
     "data": {
      "application/vnd.jupyter.widget-view+json": {
       "model_id": "c254e0ab3083463faac6958e72f30349"
      }
     },
     "metadata": {},
     "output_type": "display_data"
    },
    {
     "name": "stdout",
     "output_type": "stream",
     "text": [
      "Your child comes home and presents you with a drawing of your house. There's a blue house, a yellow sun, and a green sky. You admire their handiwork and then gently ask why the sky is green. Shouldn't it be blue? Most teachers and parents would have the same reaction, but before you speak, stop! That innocent little comment carries a powerful punch. Unbeknownst to you, you are about to squelch your child's natural developing creativity.\n",
      "Everyone has the ability to be creative, however, Professor of Biology and neurobiologist Erin Clabough Ph.D. writes that \"creativity can be easily crushed by goals imposed by others.\" Not everyone needs to see the world in the same light- and they shouldn't. Before you mention that sky should be blue, consider your reasons carefully. Your child can see that a sky is blue, but in their world it isn't. Allow them the freedom to be creative. Creativity fosters critical thinking and problem solving skills. It helps people to deal with stress and adapt to changes.\n",
      " Mrs. Westond a ltecinlincerse ligh af sightund, a chscaclodes she had nes coned to the sars hos of her fich\n",
      "realessess af\n",
      "sivis is and such a cooch cand the mading\n",
      "breyou g\n",
      "ally a and sposthiwlatithe very wesl her the mere tos -ent one the\n",
      "mer sheut grifte, dhe mane oud sitelt ger to the a satrem you ce.\n",
      "\n",
      "nit in the come the evan as, the lirest one hits to her fres fuch in edisinich the was senot mant hathe a merrs and not the from hew scevuryed mattee was for hatt navary therito\n",
      "b, the dise of\n",
      "Your child comes home and presents you with a drawing of your house. There's a blue house, a yellow sun, and a green sky. You admire their handiwork and then gently ask why the sky is green. Shouldn't it be blue? Most teachers and parents would have the same reaction, but before you speak, stop! That innocent little comment carries a powerful punch. Unbeknownst to you, you are about to squelch your child's natural developing creativity.\n",
      "Everyone has the ability to be creative, however, Professor of Biology and neurobiologist Erin Clabough Ph.D. writes that \"creativity can be easily crushed by goals imposed by others.\" Not everyone needs to see the world in the same light- and they shouldn't. Before you mention that sky should be blue, consider your reasons carefully. Your child can see that a sky is blue, but in their world it isn't. Allow them the freedom to be creative. Creativity fosters critical thinking and problem solving skills. It helps people to deal with stress and adapt to changes.\n",
      " Mrs. Westone a lto nWome wile ly grielp, chant his sseally frice,\n",
      "you ges int arse as sre\n",
      "oarl had lt reselifaty in as of hantpre.\n",
      "und ad thhlecemen eariggm\n",
      "one sain, and she fanceme a greed thom as sies, for wne she had mateme\n",
      "ding enme shalacleat a she iluce the had greetecus and mare is werevery nour magts and thery and cos come the sele and somumestir tump thacthind she her low madunted the rest lind sivilits the thind ss aclutathay a to the sureating an and very buinssiifse alles\n",
      "powelline\n"
     ]
    },
    {
     "name": "stderr",
     "output_type": "stream",
     "text": [
      "Widget Javascript not detected.  It may not be installed or enabled properly.\n"
     ]
    },
    {
     "data": {
      "application/vnd.jupyter.widget-view+json": {
       "model_id": "ff0cd98952fa46f8b3f59311a493a17d"
      }
     },
     "metadata": {},
     "output_type": "display_data"
    },
    {
     "name": "stdout",
     "output_type": "stream",
     "text": [
      "Your child comes home and presents you with a drawing of your house. There's a blue house, a yellow sun, and a green sky. You admire their handiwork and then gently ask why the sky is green. Shouldn't it be blue? Most teachers and parents would have the same reaction, but before you speak, stop! That innocent little comment carries a powerful punch. Unbeknownst to you, you are about to squelch your child's natural developing creativity.\n",
      "Everyone has the ability to be creative, however, Professor of Biology and neurobiologist Erin Clabough Ph.D. writes that \"creativity can be easily crushed by goals imposed by others.\" Not everyone needs to see the world in the same light- and they shouldn't. Before you mention that sky should be blue, consider your reasons carefully. Your child can see that a sky is blue, but in their world it isn't. Allow them the freedom to be creative. Creativity fosters critical thinking and problem solving skills. It helps people to deal with stress and adapt to changes.\n",
      "of comatow in the sone in grae lugh afleken and in ill allonteind;\n",
      "ind thing a poss plake fu. Mrs inctoswed, aht oo to h.  Mr..\n",
      "Her outhat I vasy tage te siushis alk partanfe rat.  was incsse comcame\n",
      "on when hearalt a worhearhe ody favery a pmoped onvith shich proued.\n",
      "I\n",
      "a wore to had talitto  for; and to at betted thertige; and tes\n",
      "thing, but to the soeling to cemferhgiha harly altiring it litts sofe every peatwing\n",
      "nle a,\n",
      "with and I hisouct oo peepe diligall there boucu lo have to\n",
      "have tf of the\n",
      "Your child comes home and presents you with a drawing of your house. There's a blue house, a yellow sun, and a green sky. You admire their handiwork and then gently ask why the sky is green. Shouldn't it be blue? Most teachers and parents would have the same reaction, but before you speak, stop! That innocent little comment carries a powerful punch. Unbeknownst to you, you are about to squelch your child's natural developing creativity.\n",
      "Everyone has the ability to be creative, however, Professor of Biology and neurobiologist Erin Clabough Ph.D. writes that \"creativity can be easily crushed by goals imposed by others.\" Not everyone needs to see the world in the same light- and they shouldn't. Before you mention that sky should be blue, consider your reasons carefully. Your child can see that a sky is blue, but in their world it isn't. Allow them the freedom to be creative. Creativity fosters critical thinking and problem solving skills. It helps people to deal with stress and adapt to changes.\n",
      "of cosithe inn her.  Witnowel bough aftey ninot om huscampon,\n",
      "whece matuly all had one stubMiss to h, and frien le mors and in\n",
      "ofieclislys os hawhe camahe sos and.  racoute ape .  hismpeat it wipl\n",
      "of haunone tarly, the roon she hll eveereen, und Hit hhareghmenluwe hin\n",
      "turiid of.  Mrs. Wethon Harrbeedilehid of a so warse our.\n",
      "\n",
      "Mr. Westoon of his to tare.  She louge shooke  forte forsaidanfersud.\n",
      "\n",
      "Sst was in nes a sotemanney, reage hor hous, and whale neverinedithered.  Mrs. Waftok was the harssee\n"
     ]
    },
    {
     "name": "stderr",
     "output_type": "stream",
     "text": [
      "Widget Javascript not detected.  It may not be installed or enabled properly.\n"
     ]
    },
    {
     "data": {
      "application/vnd.jupyter.widget-view+json": {
       "model_id": "b4a342f1784e41babd616dbbd9b5bc2f"
      }
     },
     "metadata": {},
     "output_type": "display_data"
    },
    {
     "name": "stdout",
     "output_type": "stream",
     "text": [
      "Your child comes home and presents you with a drawing of your house. There's a blue house, a yellow sun, and a green sky. You admire their handiwork and then gently ask why the sky is green. Shouldn't it be blue? Most teachers and parents would have the same reaction, but before you speak, stop! That innocent little comment carries a powerful punch. Unbeknownst to you, you are about to squelch your child's natural developing creativity.\n",
      "Everyone has the ability to be creative, however, Professor of Biology and neurobiologist Erin Clabough Ph.D. writes that \"creativity can be easily crushed by goals imposed by others.\" Not everyone needs to see the world in the same light- and they shouldn't. Before you mention that sky should be blue, consider your reasons carefully. Your child can see that a sky is blue, but in their world it isn't. Allow them the freedom to be creative. Creativity fosters critical thinking and problem solving skills. It helps people to deal with stress and adapt to changes.\n",
      "of yoin of inechat.  Whingsise lughtiell, ningre of useinln, should eave y\n",
      "call yoble to besandond ite.  ar ald toire andiend il ours int.  and sore centruit her wass of her firceef, lint was eving a in.\n",
      "Ef a watire derase-to have yaid mont und shaplieed, wisk he girly avantalintedelied nesed thonichat himse\n",
      "set a likese fir has indereto tiul tionge and tour feires inda wis parsectusinnted one haithe eanty ed to _him shim,\n",
      "whrese maring a hipkea to sealast rat ureech of thet his pose tirest,\n",
      "and\n",
      "Your child comes home and presents you with a drawing of your house. There's a blue house, a yellow sun, and a green sky. You admire their handiwork and then gently ask why the sky is green. Shouldn't it be blue? Most teachers and parents would have the same reaction, but before you speak, stop! That innocent little comment carries a powerful punch. Unbeknownst to you, you are about to squelch your child's natural developing creativity.\n",
      "Everyone has the ability to be creative, however, Professor of Biology and neurobiologist Erin Clabough Ph.D. writes that \"creativity can be easily crushed by goals imposed by others.\" Not everyone needs to see the world in the same light- and they shouldn't. Before you mention that sky should be blue, consider your reasons carefully. Your child can see that a sky is blue, but in their world it isn't. Allow them the freedom to be creative. Creativity fosters critical thinking and problem solving skills. It helps people to deal with stress and adapt to changes.\n",
      "of yon use inny Mr. Wesinouse sull sifle, enand of bly gelpass.\n",
      "\n",
      "I\n",
      "re body er-pith you so sitllone to enty toarreti; ang had asly\n",
      "\n",
      "ave ifen ed sinire.  I thied beiin anfee -mon thoratied the is\n",
      "sous allably an thep.a\n",
      "I at surte fing enay sing. but of  pratict\n",
      "on the efertin er, at saye magentrof a preasefo, yarle inge for ined,\n",
      "as to a frr ind.  olwes owne conseritraliits and instafuse and ther, she and muse she hamd realoncy wadl ger.  Mr.  osy or\n",
      "you h's sied, in wish simatrit d land ter bis w\n"
     ]
    },
    {
     "name": "stderr",
     "output_type": "stream",
     "text": [
      "Widget Javascript not detected.  It may not be installed or enabled properly.\n"
     ]
    },
    {
     "data": {
      "application/vnd.jupyter.widget-view+json": {
       "model_id": "9a9980e6e74743caa3ab772cff53b69f"
      }
     },
     "metadata": {},
     "output_type": "display_data"
    },
    {
     "name": "stdout",
     "output_type": "stream",
     "text": [
      "Your child comes home and presents you with a drawing of your house. There's a blue house, a yellow sun, and a green sky. You admire their handiwork and then gently ask why the sky is green. Shouldn't it be blue? Most teachers and parents would have the same reaction, but before you speak, stop! That innocent little comment carries a powerful punch. Unbeknownst to you, you are about to squelch your child's natural developing creativity.\n",
      "Everyone has the ability to be creative, however, Professor of Biology and neurobiologist Erin Clabough Ph.D. writes that \"creativity can be easily crushed by goals imposed by others.\" Not everyone needs to see the world in the same light- and they shouldn't. Before you mention that sky should be blue, consider your reasons carefully. Your child can see that a sky is blue, but in their world it isn't. Allow them the freedom to be creative. Creativity fosters critical thinking and problem solving skills. It helps people to deal with stress and adapt to changes.\n",
      " od in toregentart.  Whenspene all sames, nbour the uagill.  Hightee s.  Ha comed benof se whenend to a.  Mrs.  aodey opely of As to ome whom thome theena ut hicco ly, I had oge Ame, thome and iing so matkin of tire! makind wolsety ot and ogle and poome -wonke hit ffurti nourfired or\n",
      "iont ham st age eoody.\n",
      "anow wore evipit you siam an asteneallof the nanthat llite wouk\n",
      "in mistmall as.\n",
      " the mesr wood uwene dhoog alr and mat for behler, thoher by here\"\n",
      "haved on the sancthe ast bed nhe ham ter a vo\n",
      "Your child comes home and presents you with a drawing of your house. There's a blue house, a yellow sun, and a green sky. You admire their handiwork and then gently ask why the sky is green. Shouldn't it be blue? Most teachers and parents would have the same reaction, but before you speak, stop! That innocent little comment carries a powerful punch. Unbeknownst to you, you are about to squelch your child's natural developing creativity.\n",
      "Everyone has the ability to be creative, however, Professor of Biology and neurobiologist Erin Clabough Ph.D. writes that \"creativity can be easily crushed by goals imposed by others.\" Not everyone needs to see the world in the same light- and they shouldn't. Before you mention that sky should be blue, consider your reasons carefully. Your child can see that a sky is blue, but in their world it isn't. Allow them the freedom to be creative. Creativity fosters critical thinking and problem solving skills. It helps people to deal with stress and adapt to changes.\n",
      " od in tor gentart.  Whenspant Muss amly, whome he chald some, that an thou courding a so say _on mife stinn at agreelictly nadied od the uwe cones nos the\n",
      "to e deere Wen; and a marl ion her gomith the welf reoull do hilfor, goone, whech wat hed wurhe\n",
      "or Hartiithand, tho erit ming comfolt, beit cint lim balter talnerint humsessett, in leevine sely reli, much an in pimpon the ms pariis ow ys and chpaly uproul girthe whene nor thone wither some allite aly be\n",
      "for ading the had theis minne deared in\n"
     ]
    },
    {
     "name": "stderr",
     "output_type": "stream",
     "text": [
      "Widget Javascript not detected.  It may not be installed or enabled properly.\n"
     ]
    },
    {
     "data": {
      "application/vnd.jupyter.widget-view+json": {
       "model_id": "d0bea914271c480e928d1b0d7710e8f1"
      }
     },
     "metadata": {},
     "output_type": "display_data"
    },
    {
     "name": "stdout",
     "output_type": "stream",
     "text": [
      "Your child comes home and presents you with a drawing of your house. There's a blue house, a yellow sun, and a green sky. You admire their handiwork and then gently ask why the sky is green. Shouldn't it be blue? Most teachers and parents would have the same reaction, but before you speak, stop! That innocent little comment carries a powerful punch. Unbeknownst to you, you are about to squelch your child's natural developing creativity.\n",
      "Everyone has the ability to be creative, however, Professor of Biology and neurobiologist Erin Clabough Ph.D. writes that \"creativity can be easily crushed by goals imposed by others.\" Not everyone needs to see the world in the same light- and they shouldn't. Before you mention that sky should be blue, consider your reasons carefully. Your child can see that a sky is blue, but in their world it isn't. Allow them the freedom to be creative. Creativity fosters critical thinking and problem solving skills. It helps people to deal with stress and adapt to changes.\n",
      " Mrs. Westones hatuon _ored a nat that sircinfrrea fescally versed se,\n",
      "and ;abetaly may id ed to a letosect,\n",
      "an is her frituand remesting whom dher hopable cauld un a nerseas\n",
      "I watno s any ond bet  ta prom thbters aff real that of Mr. Weddent we; and sand cound been, was, lo every to y; the with every do dpotbconghs ded Mrss and ham am, her gangarten any youngrip , on weon inten lian eod, at-aed to ypleas the maon any want may ter on achilf and wisk ofren sivily some\n",
      "in latibe, arca carto goodus\n",
      "Your child comes home and presents you with a drawing of your house. There's a blue house, a yellow sun, and a green sky. You admire their handiwork and then gently ask why the sky is green. Shouldn't it be blue? Most teachers and parents would have the same reaction, but before you speak, stop! That innocent little comment carries a powerful punch. Unbeknownst to you, you are about to squelch your child's natural developing creativity.\n",
      "Everyone has the ability to be creative, however, Professor of Biology and neurobiologist Erin Clabough Ph.D. writes that \"creativity can be easily crushed by goals imposed by others.\" Not everyone needs to see the world in the same light- and they shouldn't. Before you mention that sky should be blue, consider your reasons carefully. Your child can see that a sky is blue, but in their world it isn't. Allow them the freedom to be creative. Creativity fosters critical thinking and problem solving skills. It helps people to deal with stress and adapt to changes.\n",
      " to ian yo gent le.  Wooned a batgerif sh ningrroia sacillpeds.\n",
      "I am a the mare fised, Emma hothim lef semmornd hat lifelt wasulI fede\n",
      "frem sher, and and pla pethe ,en ho sivery ampay oytly turse mes hoopho whore her it,\n",
      "and her her senedsone to were the aood a fil at all ond of a d hardinffter on eAve hard all ot,\n",
      "and Miss muulor must gech, one on and I be; the soung sepofrad musteg, hhad him and houselinne-ing and the cilllysce lorsime wirg latellenor alint was sacoung in conuchere,\n",
      "in such ar\n"
     ]
    },
    {
     "name": "stderr",
     "output_type": "stream",
     "text": [
      "Widget Javascript not detected.  It may not be installed or enabled properly.\n"
     ]
    },
    {
     "data": {
      "application/vnd.jupyter.widget-view+json": {
       "model_id": "2a54ba8d348a4a61a95d54a5d878c5ab"
      }
     },
     "metadata": {},
     "output_type": "display_data"
    },
    {
     "name": "stdout",
     "output_type": "stream",
     "text": [
      "Your child comes home and presents you with a drawing of your house. There's a blue house, a yellow sun, and a green sky. You admire their handiwork and then gently ask why the sky is green. Shouldn't it be blue? Most teachers and parents would have the same reaction, but before you speak, stop! That innocent little comment carries a powerful punch. Unbeknownst to you, you are about to squelch your child's natural developing creativity.\n",
      "Everyone has the ability to be creative, however, Professor of Biology and neurobiologist Erin Clabough Ph.D. writes that \"creativity can be easily crushed by goals imposed by others.\" Not everyone needs to see the world in the same light- and they shouldn't. Before you mention that sky should be blue, consider your reasons carefully. Your child can see that a sky is blue, but in their world it isn't. Allow them the freedom to be creative. Creativity fosters critical thinking and problem solving skills. It helps people to deal with stress and adapt to changes.\n",
      " ter sithongena leacon ingseas parisifes, nhand the lacilld tsited ed,\n",
      "and mare is one I asane had leet the a mare esin the ait tayeay\n",
      "seefor ghet nce aroucaldo yoa poor cartily a onele.  her ine ing had ine to nound her alwas contentes pooderature Has for hading t; ahrewher , anp asd not amuch a roge soule denttonet of so lo titasitunito che\n",
      ",f were sor, and it rile sepoodidat thepectisiod her in a vrot andentesimfor minde, soichter ther spece.\n",
      "hed seckenot her come uod thaproned a seof bofor h\n",
      "Your child comes home and presents you with a drawing of your house. There's a blue house, a yellow sun, and a green sky. You admire their handiwork and then gently ask why the sky is green. Shouldn't it be blue? Most teachers and parents would have the same reaction, but before you speak, stop! That innocent little comment carries a powerful punch. Unbeknownst to you, you are about to squelch your child's natural developing creativity.\n",
      "Everyone has the ability to be creative, however, Professor of Biology and neurobiologist Erin Clabough Ph.D. writes that \"creativity can be easily crushed by goals imposed by others.\" Not everyone needs to see the world in the same light- and they shouldn't. Before you mention that sky should be blue, consider your reasons carefully. Your child can see that a sky is blue, but in their world it isn't. Allow them the freedom to be creative. Creativity fosters critical thinking and problem solving skills. It helps people to deal with stress and adapt to changes.\n",
      " ted and weos a leacon inided to serifly and was iccosatly a sitccollatmene it had you porsinaty hime and carlinit a sorsine surs upule a conres, was of he she were deredo\n",
      "dnor a hobed, and in to eas arlieve iise stere of that airecontentredido\n",
      "the ther as, and whours of here soter Mr.  east,\n",
      "the comen w, Mr. Knightley that regrod at a canrerssin four tooghe\n",
      "afe tor ulaaAle a hable  wertion -forotmey thand her a the sucly\n",
      "arimes pantient hissed it ro litt of hive had whough you had der\n",
      "gooded an\n"
     ]
    },
    {
     "name": "stderr",
     "output_type": "stream",
     "text": [
      "Widget Javascript not detected.  It may not be installed or enabled properly.\n"
     ]
    },
    {
     "data": {
      "application/vnd.jupyter.widget-view+json": {
       "model_id": "0296d462342045e489bf4d50478e5736"
      }
     },
     "metadata": {},
     "output_type": "display_data"
    },
    {
     "name": "stdout",
     "output_type": "stream",
     "text": [
      "Your child comes home and presents you with a drawing of your house. There's a blue house, a yellow sun, and a green sky. You admire their handiwork and then gently ask why the sky is green. Shouldn't it be blue? Most teachers and parents would have the same reaction, but before you speak, stop! That innocent little comment carries a powerful punch. Unbeknownst to you, you are about to squelch your child's natural developing creativity.\n",
      "Everyone has the ability to be creative, however, Professor of Biology and neurobiologist Erin Clabough Ph.D. writes that \"creativity can be easily crushed by goals imposed by others.\" Not everyone needs to see the world in the same light- and they shouldn't. Before you mention that sky should be blue, consider your reasons carefully. Your child can see that a sky is blue, but in their world it isn't. Allow them the freedom to be creative. Creativity fosters critical thinking and problem solving skills. It helps people to deal with stress and adapt to changes.\n",
      " Md . Westone anly.  Wo therse las, af hirs not oke bsealld as oves a to seking\n",
      "ddontt eneencelturevery do cart.  He hapriss mnit mile abeever marry a.\"\n",
      "\n",
      "\n",
      "had in end sertuly non a hamt ha mind sepiss We than think I\n",
      "a;\n",
      "lIt wwo woure of thhaches fto co\"bbly nes must her thit Highbur\n",
      ",ren wo to e vorE mo that \"estob Mrs ivad a so had lwken thed masenow,\n",
      "dfetre mor boyy that pagibe bete till mey a sothe thor.  o\"\n",
      "und ows\n",
      "when dhe nale hat hall to elt sely bot hothe watlen or.\n",
      "\n",
      "Mr. Weston,\n",
      "her ho ma\n",
      "Your child comes home and presents you with a drawing of your house. There's a blue house, a yellow sun, and a green sky. You admire their handiwork and then gently ask why the sky is green. Shouldn't it be blue? Most teachers and parents would have the same reaction, but before you speak, stop! That innocent little comment carries a powerful punch. Unbeknownst to you, you are about to squelch your child's natural developing creativity.\n",
      "Everyone has the ability to be creative, however, Professor of Biology and neurobiologist Erin Clabough Ph.D. writes that \"creativity can be easily crushed by goals imposed by others.\" Not everyone needs to see the world in the same light- and they shouldn't. Before you mention that sky should be blue, consider your reasons carefully. Your child can see that a sky is blue, but in their world it isn't. Allow them the freedom to be creative. Creativity fosters critical thinking and problem solving skills. It helps people to deal with stress and adapt to changes.\n",
      " Md . Westone anly.  Wo nodros a sivit hilninfore ecl valls of herslad.\n",
      "The a was and conderest not be was thof d ther cof andole fritinlion ble is tifo then had a wonon, of her for and toover your aly tollot hile, It do here ghide lookrom.\n",
      "\"kid yot and copirmoot man to themsenc.  she whew the sarvery of that helone mite nouse frrout ole nay be an bectite the granted ed hish of the nessexictlingt corefrerit had the-est\n",
      "has, of her of sherating a doot him obye\"\n",
      "had .  she with ale litto y.\n",
      "\n",
      "She h\n"
     ]
    },
    {
     "name": "stderr",
     "output_type": "stream",
     "text": [
      "Widget Javascript not detected.  It may not be installed or enabled properly.\n"
     ]
    },
    {
     "data": {
      "application/vnd.jupyter.widget-view+json": {
       "model_id": "3e8835c7127a4c1696e658066061c33b"
      }
     },
     "metadata": {},
     "output_type": "display_data"
    },
    {
     "name": "stdout",
     "output_type": "stream",
     "text": [
      "Your child comes home and presents you with a drawing of your house. There's a blue house, a yellow sun, and a green sky. You admire their handiwork and then gently ask why the sky is green. Shouldn't it be blue? Most teachers and parents would have the same reaction, but before you speak, stop! That innocent little comment carries a powerful punch. Unbeknownst to you, you are about to squelch your child's natural developing creativity.\n",
      "Everyone has the ability to be creative, however, Professor of Biology and neurobiologist Erin Clabough Ph.D. writes that \"creativity can be easily crushed by goals imposed by others.\" Not everyone needs to see the world in the same light- and they shouldn't. Before you mention that sky should be blue, consider your reasons carefully. Your child can see that a sky is blue, but in their world it isn't. Allow them the freedom to be creative. Creativity fosters critical thinking and problem solving skills. It helps people to deal with stress and adapt to changes.\n",
      " Mrr.  town than tucn aricgrse of ir. Weston omse will all a sacy of\n",
      ",\n",
      "whow in the  a ceress\"Tand rely twan His furtur and her her mone\n",
      "very mede the sheursel, sch us evin and cor mome the was of, was so\n",
      "'s was beners bot we had ttan bideare cod been, eveninn\n",
      "of Emma sittiregutrue leet talce of than stiwn, and himaly, shely an, intedfare tha placisy oust enser\n",
      "an tapionquaflace in house, buthing simuthed\n",
      "his frutinoly, and not as totion, atctore\n",
      "beriol haw fur sporimaghes a ghare hes prosiand th\n",
      "Your child comes home and presents you with a drawing of your house. There's a blue house, a yellow sun, and a green sky. You admire their handiwork and then gently ask why the sky is green. Shouldn't it be blue? Most teachers and parents would have the same reaction, but before you speak, stop! That innocent little comment carries a powerful punch. Unbeknownst to you, you are about to squelch your child's natural developing creativity.\n",
      "Everyone has the ability to be creative, however, Professor of Biology and neurobiologist Erin Clabough Ph.D. writes that \"creativity can be easily crushed by goals imposed by others.\" Not everyone needs to see the world in the same light- and they shouldn't. Before you mention that sky should be blue, consider your reasons carefully. Your child can see that a sky is blue, but in their world it isn't. Allow them the freedom to be creative. Creativity fosters critical thinking and problem solving skills. It helps people to deal with stress and adapt to changes.\n",
      " Mrr.  town than tucn aruch a so mire thinginnere would lous anverall besuncen bees the sed oftend lother.  Highf rest an poorechad she mool aftorin-an or poosiund on hare.\n",
      "fe, har the anple soom he\n",
      "salf af one vers or with ensest, the warss; bedand be Hartfire sost't snan, ught lede a ratrot more to poowedso fant everispotsing tout to takende tain Mrses tpet . ine se most onfither fatherenof nest ul on vising nound a more in enof the parsTaple in a ssol kent cona tolerevent sionly to her unther\n"
     ]
    },
    {
     "name": "stderr",
     "output_type": "stream",
     "text": [
      "Widget Javascript not detected.  It may not be installed or enabled properly.\n"
     ]
    },
    {
     "data": {
      "application/vnd.jupyter.widget-view+json": {
       "model_id": "e1f9d31faf8f46eb83375444732a9068"
      }
     },
     "metadata": {},
     "output_type": "display_data"
    },
    {
     "ename": "KeyboardInterrupt",
     "evalue": "",
     "output_type": "error",
     "traceback": [
      "\u001b[0;31m---------------------------------------------------------------------------\u001b[0m",
      "\u001b[0;31mKeyboardInterrupt\u001b[0m                         Traceback (most recent call last)",
      "\u001b[0;32m<ipython-input-83-2b326de443ce>\u001b[0m in \u001b[0;36m<module>\u001b[0;34m()\u001b[0m\n\u001b[1;32m     11\u001b[0m     \u001b[0mepochs\u001b[0m\u001b[0;34m=\u001b[0m\u001b[0;36m200000\u001b[0m\u001b[0;34m,\u001b[0m\u001b[0;34m\u001b[0m\u001b[0m\n\u001b[1;32m     12\u001b[0m     \u001b[0;31m#callbacks = [testSample(), mc]\u001b[0m\u001b[0;34m\u001b[0m\u001b[0;34m\u001b[0m\u001b[0m\n\u001b[0;32m---> 13\u001b[0;31m     \u001b[0mverbose\u001b[0m\u001b[0;34m=\u001b[0m\u001b[0;36m0\u001b[0m\u001b[0;34m,\u001b[0m \u001b[0mcallbacks\u001b[0m\u001b[0;34m=\u001b[0m\u001b[0;34m[\u001b[0m\u001b[0mTQDMNotebookCallback\u001b[0m\u001b[0;34m(\u001b[0m\u001b[0;34m)\u001b[0m\u001b[0;34m,\u001b[0m \u001b[0mtestSample\u001b[0m\u001b[0;34m(\u001b[0m\u001b[0;34m)\u001b[0m\u001b[0;34m]\u001b[0m\u001b[0;34m\u001b[0m\u001b[0m\n\u001b[0m\u001b[1;32m     14\u001b[0m )\n",
      "\u001b[0;32m/home/hoiy927/project/tf_playground/tf_playground/lib/python3.5/site-packages/keras/legacy/interfaces.py\u001b[0m in \u001b[0;36mwrapper\u001b[0;34m(*args, **kwargs)\u001b[0m\n\u001b[1;32m     85\u001b[0m                 warnings.warn('Update your `' + object_name +\n\u001b[1;32m     86\u001b[0m                               '` call to the Keras 2 API: ' + signature, stacklevel=2)\n\u001b[0;32m---> 87\u001b[0;31m             \u001b[0;32mreturn\u001b[0m \u001b[0mfunc\u001b[0m\u001b[0;34m(\u001b[0m\u001b[0;34m*\u001b[0m\u001b[0margs\u001b[0m\u001b[0;34m,\u001b[0m \u001b[0;34m**\u001b[0m\u001b[0mkwargs\u001b[0m\u001b[0;34m)\u001b[0m\u001b[0;34m\u001b[0m\u001b[0m\n\u001b[0m\u001b[1;32m     88\u001b[0m         \u001b[0mwrapper\u001b[0m\u001b[0;34m.\u001b[0m\u001b[0m_original_function\u001b[0m \u001b[0;34m=\u001b[0m \u001b[0mfunc\u001b[0m\u001b[0;34m\u001b[0m\u001b[0m\n\u001b[1;32m     89\u001b[0m         \u001b[0;32mreturn\u001b[0m \u001b[0mwrapper\u001b[0m\u001b[0;34m\u001b[0m\u001b[0m\n",
      "\u001b[0;32m/home/hoiy927/project/tf_playground/tf_playground/lib/python3.5/site-packages/keras/engine/training.py\u001b[0m in \u001b[0;36mfit_generator\u001b[0;34m(self, generator, steps_per_epoch, epochs, verbose, callbacks, validation_data, validation_steps, class_weight, max_queue_size, workers, use_multiprocessing, initial_epoch)\u001b[0m\n\u001b[1;32m   1838\u001b[0m                     outs = self.train_on_batch(x, y,\n\u001b[1;32m   1839\u001b[0m                                                \u001b[0msample_weight\u001b[0m\u001b[0;34m=\u001b[0m\u001b[0msample_weight\u001b[0m\u001b[0;34m,\u001b[0m\u001b[0;34m\u001b[0m\u001b[0m\n\u001b[0;32m-> 1840\u001b[0;31m                                                class_weight=class_weight)\n\u001b[0m\u001b[1;32m   1841\u001b[0m \u001b[0;34m\u001b[0m\u001b[0m\n\u001b[1;32m   1842\u001b[0m                     \u001b[0;32mif\u001b[0m \u001b[0;32mnot\u001b[0m \u001b[0misinstance\u001b[0m\u001b[0;34m(\u001b[0m\u001b[0mouts\u001b[0m\u001b[0;34m,\u001b[0m \u001b[0mlist\u001b[0m\u001b[0;34m)\u001b[0m\u001b[0;34m:\u001b[0m\u001b[0;34m\u001b[0m\u001b[0m\n",
      "\u001b[0;32m/home/hoiy927/project/tf_playground/tf_playground/lib/python3.5/site-packages/keras/engine/training.py\u001b[0m in \u001b[0;36mtrain_on_batch\u001b[0;34m(self, x, y, sample_weight, class_weight)\u001b[0m\n\u001b[1;32m   1563\u001b[0m             \u001b[0mins\u001b[0m \u001b[0;34m=\u001b[0m \u001b[0mx\u001b[0m \u001b[0;34m+\u001b[0m \u001b[0my\u001b[0m \u001b[0;34m+\u001b[0m \u001b[0msample_weights\u001b[0m\u001b[0;34m\u001b[0m\u001b[0m\n\u001b[1;32m   1564\u001b[0m         \u001b[0mself\u001b[0m\u001b[0;34m.\u001b[0m\u001b[0m_make_train_function\u001b[0m\u001b[0;34m(\u001b[0m\u001b[0;34m)\u001b[0m\u001b[0;34m\u001b[0m\u001b[0m\n\u001b[0;32m-> 1565\u001b[0;31m         \u001b[0moutputs\u001b[0m \u001b[0;34m=\u001b[0m \u001b[0mself\u001b[0m\u001b[0;34m.\u001b[0m\u001b[0mtrain_function\u001b[0m\u001b[0;34m(\u001b[0m\u001b[0mins\u001b[0m\u001b[0;34m)\u001b[0m\u001b[0;34m\u001b[0m\u001b[0m\n\u001b[0m\u001b[1;32m   1566\u001b[0m         \u001b[0;32mif\u001b[0m \u001b[0mlen\u001b[0m\u001b[0;34m(\u001b[0m\u001b[0moutputs\u001b[0m\u001b[0;34m)\u001b[0m \u001b[0;34m==\u001b[0m \u001b[0;36m1\u001b[0m\u001b[0;34m:\u001b[0m\u001b[0;34m\u001b[0m\u001b[0m\n\u001b[1;32m   1567\u001b[0m             \u001b[0;32mreturn\u001b[0m \u001b[0moutputs\u001b[0m\u001b[0;34m[\u001b[0m\u001b[0;36m0\u001b[0m\u001b[0;34m]\u001b[0m\u001b[0;34m\u001b[0m\u001b[0m\n",
      "\u001b[0;32m/home/hoiy927/project/tf_playground/tf_playground/lib/python3.5/site-packages/keras/backend/tensorflow_backend.py\u001b[0m in \u001b[0;36m__call__\u001b[0;34m(self, inputs)\u001b[0m\n\u001b[1;32m   2266\u001b[0m         updated = session.run(self.outputs + [self.updates_op],\n\u001b[1;32m   2267\u001b[0m                               \u001b[0mfeed_dict\u001b[0m\u001b[0;34m=\u001b[0m\u001b[0mfeed_dict\u001b[0m\u001b[0;34m,\u001b[0m\u001b[0;34m\u001b[0m\u001b[0m\n\u001b[0;32m-> 2268\u001b[0;31m                               **self.session_kwargs)\n\u001b[0m\u001b[1;32m   2269\u001b[0m         \u001b[0;32mreturn\u001b[0m \u001b[0mupdated\u001b[0m\u001b[0;34m[\u001b[0m\u001b[0;34m:\u001b[0m\u001b[0mlen\u001b[0m\u001b[0;34m(\u001b[0m\u001b[0mself\u001b[0m\u001b[0;34m.\u001b[0m\u001b[0moutputs\u001b[0m\u001b[0;34m)\u001b[0m\u001b[0;34m]\u001b[0m\u001b[0;34m\u001b[0m\u001b[0m\n\u001b[1;32m   2270\u001b[0m \u001b[0;34m\u001b[0m\u001b[0m\n",
      "\u001b[0;32m/home/hoiy927/project/tf_playground/tf_playground/lib/python3.5/site-packages/tensorflow/python/client/session.py\u001b[0m in \u001b[0;36mrun\u001b[0;34m(self, fetches, feed_dict, options, run_metadata)\u001b[0m\n\u001b[1;32m    893\u001b[0m     \u001b[0;32mtry\u001b[0m\u001b[0;34m:\u001b[0m\u001b[0;34m\u001b[0m\u001b[0m\n\u001b[1;32m    894\u001b[0m       result = self._run(None, fetches, feed_dict, options_ptr,\n\u001b[0;32m--> 895\u001b[0;31m                          run_metadata_ptr)\n\u001b[0m\u001b[1;32m    896\u001b[0m       \u001b[0;32mif\u001b[0m \u001b[0mrun_metadata\u001b[0m\u001b[0;34m:\u001b[0m\u001b[0;34m\u001b[0m\u001b[0m\n\u001b[1;32m    897\u001b[0m         \u001b[0mproto_data\u001b[0m \u001b[0;34m=\u001b[0m \u001b[0mtf_session\u001b[0m\u001b[0;34m.\u001b[0m\u001b[0mTF_GetBuffer\u001b[0m\u001b[0;34m(\u001b[0m\u001b[0mrun_metadata_ptr\u001b[0m\u001b[0;34m)\u001b[0m\u001b[0;34m\u001b[0m\u001b[0m\n",
      "\u001b[0;32m/home/hoiy927/project/tf_playground/tf_playground/lib/python3.5/site-packages/tensorflow/python/client/session.py\u001b[0m in \u001b[0;36m_run\u001b[0;34m(self, handle, fetches, feed_dict, options, run_metadata)\u001b[0m\n\u001b[1;32m   1122\u001b[0m     \u001b[0;32mif\u001b[0m \u001b[0mfinal_fetches\u001b[0m \u001b[0;32mor\u001b[0m \u001b[0mfinal_targets\u001b[0m \u001b[0;32mor\u001b[0m \u001b[0;34m(\u001b[0m\u001b[0mhandle\u001b[0m \u001b[0;32mand\u001b[0m \u001b[0mfeed_dict_tensor\u001b[0m\u001b[0;34m)\u001b[0m\u001b[0;34m:\u001b[0m\u001b[0;34m\u001b[0m\u001b[0m\n\u001b[1;32m   1123\u001b[0m       results = self._do_run(handle, final_targets, final_fetches,\n\u001b[0;32m-> 1124\u001b[0;31m                              feed_dict_tensor, options, run_metadata)\n\u001b[0m\u001b[1;32m   1125\u001b[0m     \u001b[0;32melse\u001b[0m\u001b[0;34m:\u001b[0m\u001b[0;34m\u001b[0m\u001b[0m\n\u001b[1;32m   1126\u001b[0m       \u001b[0mresults\u001b[0m \u001b[0;34m=\u001b[0m \u001b[0;34m[\u001b[0m\u001b[0;34m]\u001b[0m\u001b[0;34m\u001b[0m\u001b[0m\n",
      "\u001b[0;32m/home/hoiy927/project/tf_playground/tf_playground/lib/python3.5/site-packages/tensorflow/python/client/session.py\u001b[0m in \u001b[0;36m_do_run\u001b[0;34m(self, handle, target_list, fetch_list, feed_dict, options, run_metadata)\u001b[0m\n\u001b[1;32m   1319\u001b[0m     \u001b[0;32mif\u001b[0m \u001b[0mhandle\u001b[0m \u001b[0;32mis\u001b[0m \u001b[0;32mNone\u001b[0m\u001b[0;34m:\u001b[0m\u001b[0;34m\u001b[0m\u001b[0m\n\u001b[1;32m   1320\u001b[0m       return self._do_call(_run_fn, self._session, feeds, fetches, targets,\n\u001b[0;32m-> 1321\u001b[0;31m                            options, run_metadata)\n\u001b[0m\u001b[1;32m   1322\u001b[0m     \u001b[0;32melse\u001b[0m\u001b[0;34m:\u001b[0m\u001b[0;34m\u001b[0m\u001b[0m\n\u001b[1;32m   1323\u001b[0m       \u001b[0;32mreturn\u001b[0m \u001b[0mself\u001b[0m\u001b[0;34m.\u001b[0m\u001b[0m_do_call\u001b[0m\u001b[0;34m(\u001b[0m\u001b[0m_prun_fn\u001b[0m\u001b[0;34m,\u001b[0m \u001b[0mself\u001b[0m\u001b[0;34m.\u001b[0m\u001b[0m_session\u001b[0m\u001b[0;34m,\u001b[0m \u001b[0mhandle\u001b[0m\u001b[0;34m,\u001b[0m \u001b[0mfeeds\u001b[0m\u001b[0;34m,\u001b[0m \u001b[0mfetches\u001b[0m\u001b[0;34m)\u001b[0m\u001b[0;34m\u001b[0m\u001b[0m\n",
      "\u001b[0;32m/home/hoiy927/project/tf_playground/tf_playground/lib/python3.5/site-packages/tensorflow/python/client/session.py\u001b[0m in \u001b[0;36m_do_call\u001b[0;34m(self, fn, *args)\u001b[0m\n\u001b[1;32m   1325\u001b[0m   \u001b[0;32mdef\u001b[0m \u001b[0m_do_call\u001b[0m\u001b[0;34m(\u001b[0m\u001b[0mself\u001b[0m\u001b[0;34m,\u001b[0m \u001b[0mfn\u001b[0m\u001b[0;34m,\u001b[0m \u001b[0;34m*\u001b[0m\u001b[0margs\u001b[0m\u001b[0;34m)\u001b[0m\u001b[0;34m:\u001b[0m\u001b[0;34m\u001b[0m\u001b[0m\n\u001b[1;32m   1326\u001b[0m     \u001b[0;32mtry\u001b[0m\u001b[0;34m:\u001b[0m\u001b[0;34m\u001b[0m\u001b[0m\n\u001b[0;32m-> 1327\u001b[0;31m       \u001b[0;32mreturn\u001b[0m \u001b[0mfn\u001b[0m\u001b[0;34m(\u001b[0m\u001b[0;34m*\u001b[0m\u001b[0margs\u001b[0m\u001b[0;34m)\u001b[0m\u001b[0;34m\u001b[0m\u001b[0m\n\u001b[0m\u001b[1;32m   1328\u001b[0m     \u001b[0;32mexcept\u001b[0m \u001b[0merrors\u001b[0m\u001b[0;34m.\u001b[0m\u001b[0mOpError\u001b[0m \u001b[0;32mas\u001b[0m \u001b[0me\u001b[0m\u001b[0;34m:\u001b[0m\u001b[0;34m\u001b[0m\u001b[0m\n\u001b[1;32m   1329\u001b[0m       \u001b[0mmessage\u001b[0m \u001b[0;34m=\u001b[0m \u001b[0mcompat\u001b[0m\u001b[0;34m.\u001b[0m\u001b[0mas_text\u001b[0m\u001b[0;34m(\u001b[0m\u001b[0me\u001b[0m\u001b[0;34m.\u001b[0m\u001b[0mmessage\u001b[0m\u001b[0;34m)\u001b[0m\u001b[0;34m\u001b[0m\u001b[0m\n",
      "\u001b[0;32m/home/hoiy927/project/tf_playground/tf_playground/lib/python3.5/site-packages/tensorflow/python/client/session.py\u001b[0m in \u001b[0;36m_run_fn\u001b[0;34m(session, feed_dict, fetch_list, target_list, options, run_metadata)\u001b[0m\n\u001b[1;32m   1304\u001b[0m           return tf_session.TF_Run(session, options,\n\u001b[1;32m   1305\u001b[0m                                    \u001b[0mfeed_dict\u001b[0m\u001b[0;34m,\u001b[0m \u001b[0mfetch_list\u001b[0m\u001b[0;34m,\u001b[0m \u001b[0mtarget_list\u001b[0m\u001b[0;34m,\u001b[0m\u001b[0;34m\u001b[0m\u001b[0m\n\u001b[0;32m-> 1306\u001b[0;31m                                    status, run_metadata)\n\u001b[0m\u001b[1;32m   1307\u001b[0m \u001b[0;34m\u001b[0m\u001b[0m\n\u001b[1;32m   1308\u001b[0m     \u001b[0;32mdef\u001b[0m \u001b[0m_prun_fn\u001b[0m\u001b[0;34m(\u001b[0m\u001b[0msession\u001b[0m\u001b[0;34m,\u001b[0m \u001b[0mhandle\u001b[0m\u001b[0;34m,\u001b[0m \u001b[0mfeed_dict\u001b[0m\u001b[0;34m,\u001b[0m \u001b[0mfetch_list\u001b[0m\u001b[0;34m)\u001b[0m\u001b[0;34m:\u001b[0m\u001b[0;34m\u001b[0m\u001b[0m\n",
      "\u001b[0;31mKeyboardInterrupt\u001b[0m: "
     ]
    }
   ],
   "source": [
    "from keras_tqdm import TQDMNotebookCallback\n",
    "\n",
    "mc = ModelCheckpoint('./model/char_cnn_3.hdf5', monitor='val_loss', verbose=0, save_best_only=True, save_weights_only=False, mode='auto', period=1)\n",
    "\n",
    "BATCH_SIZE = 32\n",
    "model.fit_generator(\n",
    "    sample_generator(gen['train'], BATCH_SIZE),\n",
    "    size['train'] // BATCH_SIZE,\n",
    "    validation_data = sample_generator(gen['test'], BATCH_SIZE),\n",
    "    validation_steps = size['test'] // BATCH_SIZE,\n",
    "    epochs=200000,\n",
    "    #callbacks = [testSample(), mc]\n",
    "    verbose=0, callbacks=[TQDMNotebookCallback(), testSample()]\n",
    ")"
   ]
  },
  {
   "cell_type": "code",
   "execution_count": null,
   "metadata": {
    "collapsed": true,
    "deletable": true,
    "editable": true
   },
   "outputs": [],
   "source": []
  },
  {
   "cell_type": "code",
   "execution_count": null,
   "metadata": {
    "collapsed": true,
    "deletable": true,
    "editable": true
   },
   "outputs": [],
   "source": []
  }
 ],
 "metadata": {
  "kernelspec": {
   "display_name": "Python 3",
   "language": "python",
   "name": "python3"
  },
  "language_info": {
   "codemirror_mode": {
    "name": "ipython",
    "version": 3
   },
   "file_extension": ".py",
   "mimetype": "text/x-python",
   "name": "python",
   "nbconvert_exporter": "python",
   "pygments_lexer": "ipython3",
   "version": "3.5.2+"
  }
 },
 "nbformat": 4,
 "nbformat_minor": 2
}
