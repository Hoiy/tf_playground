{
 "cells": [
  {
   "cell_type": "code",
   "execution_count": 1,
   "metadata": {
    "collapsed": false,
    "deletable": true,
    "editable": true
   },
   "outputs": [],
   "source": [
    "import Utils.FS.file as file\n",
    "import TextPreprocess.cleaner as cleaner\n",
    "from sklearn.feature_extraction.text import CountVectorizer\n",
    "import Utils.misc as helper\n",
    "import Utils.pandas_helper as ph\n",
    "import pandas as pd\n"
   ]
  },
  {
   "cell_type": "code",
   "execution_count": 2,
   "metadata": {
    "collapsed": true,
    "deletable": true,
    "editable": true
   },
   "outputs": [],
   "source": [
    "eng_link_posts = file.read('eng_link_posts_2.pkl')\n",
    "eng_link_posts['name'] = eng_link_posts['name'].astype(str)"
   ]
  },
  {
   "cell_type": "code",
   "execution_count": 3,
   "metadata": {
    "collapsed": true
   },
   "outputs": [],
   "source": [
    "eng_link_posts['clean_name'] = ph.parallel_apply(eng_link_posts['name'],cleaner.clean)"
   ]
  },
  {
   "cell_type": "code",
   "execution_count": 4,
   "metadata": {
    "collapsed": false
   },
   "outputs": [
    {
     "data": {
      "text/plain": [
       "0                   summer seri playlist mcd product spotifi\n",
       "1              father year old son caught blackcomb avalanch\n",
       "2                   u student miss rental plane crash canada\n",
       "3          trump regal louisvill crowd familiar pledg ign...\n",
       "4          scene childhood photograph lionel jusseret len...\n",
       "5                                                    musicar\n",
       "6                                                    levintv\n",
       "7          new york profession practic workshop peter van...\n",
       "8                                 sea port sniper shooter op\n",
       "9                           crochet revers swiffer sock make\n",
       "10                      best season sophomor qbs sec histori\n",
       "11         bulk herb wholesal trust health well mother ea...\n",
       "12                       dog die southwest florida hous fire\n",
       "13               tothestarsandbackcosplay code lyoko cosplay\n",
       "14                                     intro glass bead make\n",
       "15                                design dispatch mar surfac\n",
       "16                                   fight big scari chicken\n",
       "17                     black crow bc roadshow orang beach al\n",
       "18                                 special garden built hand\n",
       "19         gene watson w special guest jacob bryant colon...\n",
       "20         trevor project respond gavin grimm suprem cour...\n",
       "21                                         rememb barri lord\n",
       "22            instagram post canadien de montr al mar pm utc\n",
       "23         anggun en concert au caf de la dans nous tion ...\n",
       "24         probe find ifc invest tata power project breac...\n",
       "25                             thesim com exchang lot detail\n",
       "26         georg takei see unjust parallel japanes intern...\n",
       "27                             siberian calvin game pool dad\n",
       "28               hollyoak jame sutton reveal decid quit soap\n",
       "29                            appl unveil new ipad order day\n",
       "                                 ...                        \n",
       "7695681                           dazzl photo wood microscop\n",
       "7695682    interpol ask pakistan explain treason charg mq...\n",
       "7695683                             countri peopl work death\n",
       "7695684                                brain wish look photo\n",
       "7695685                      duetul de aur jumat tu jumat eu\n",
       "7695686                                data turn world upsid\n",
       "7695687                                                     \n",
       "7695688                       ta en titt p v rt store utvalg\n",
       "7695689                                     misconcept jesus\n",
       "7695690                              live feat tyga remix ep\n",
       "7695691        shanna moakler shannamoakl post photo twitter\n",
       "7695692                                                     \n",
       "7695693                  small live room idea made com unbox\n",
       "7695694      man build tini hous homeless woman neighborhood\n",
       "7695695        awesom easter egg grand theft auto san andrea\n",
       "7695696               jordin tootoo inspir other becom sober\n",
       "7695697                                    featur oxygen com\n",
       "7695698                          auction qts gold mastercard\n",
       "7695699                         cut pair leg end result idea\n",
       "7695700     metal allegi rock classic song new york citi gig\n",
       "7695701               lawyer great republ korea korean drama\n",
       "7695702                                  may wrong may right\n",
       "7695703    trump support share delight starbuck stumbl re...\n",
       "7695704                        art rock way use rock kid art\n",
       "7695705                pro tip travel alon hoteltonight blog\n",
       "7695706                      kid pair wed year ago get marri\n",
       "7695707                                                  nan\n",
       "7695708                                way embark servic god\n",
       "7695709                                     puppi resist nap\n",
       "7695710    energi emerg sort soon minist new busi age mon...\n",
       "Name: clean_name, dtype: object"
      ]
     },
     "execution_count": 4,
     "metadata": {},
     "output_type": "execute_result"
    }
   ],
   "source": [
    "eng_link_posts['clean_name']"
   ]
  },
  {
   "cell_type": "code",
   "execution_count": null,
   "metadata": {
    "collapsed": false,
    "deletable": true,
    "editable": true
   },
   "outputs": [],
   "source": [
    "import TextEmbedding.skipthoughts as skipthoughts\n",
    "model = skipthoughts.load_model()\n",
    "encoder = skipthoughts.Encoder(model)"
   ]
  },
  {
   "cell_type": "code",
   "execution_count": 3,
   "metadata": {
    "collapsed": true,
    "deletable": true,
    "editable": true
   },
   "outputs": [],
   "source": [
    "eng_link_posts['name'].to_csv('./headline.txt', header=False, index=False)"
   ]
  },
  {
   "cell_type": "code",
   "execution_count": null,
   "metadata": {
    "collapsed": false,
    "deletable": true,
    "editable": true
   },
   "outputs": [],
   "source": [
    "print(eng_link_posts.shape)\n",
    "eng_link_posts[['id', 'name', 'message', 'description']].sample(5)"
   ]
  },
  {
   "cell_type": "code",
   "execution_count": null,
   "metadata": {
    "collapsed": false,
    "deletable": true,
    "editable": true
   },
   "outputs": [],
   "source": [
    "import numpy as np\n",
    "import pandas as pd\n",
    "\n",
    "def chunker(seq, size):\n",
    "    return (seq[pos:pos + size] for pos in range(0, len(seq), size))\n",
    "\n",
    "vectors = np.array([]).reshape(0, 4800)\n",
    "\n",
    "j = 0;\n",
    "for i in chunker(eng_link_posts['name'].sample(200000), 1000000):\n",
    "    j = j + 100000;\n",
    "    print('processing up to {} headlines'.format(j))\n",
    "    vectors = np.vstack([vectors, encoder.encode(i, verbose=False)])"
   ]
  },
  {
   "cell_type": "code",
   "execution_count": null,
   "metadata": {
    "collapsed": true,
    "deletable": true,
    "editable": true
   },
   "outputs": [],
   "source": [
    "def closest_headline(line):\n",
    "    vec = encoder.encode([line], verbose=False)\n",
    "    dist = np.sum((vectors - vec)**2, axis=1)\n",
    "    return eng_link_posts['name'][dist.argsort()[0:10]]"
   ]
  },
  {
   "cell_type": "code",
   "execution_count": null,
   "metadata": {
    "collapsed": false,
    "deletable": true,
    "editable": true
   },
   "outputs": [],
   "source": [
    "ans = closest_headline(\"The 10 Best Nonfiction Books Of All Time You Should Not Miss\")\n",
    "ans.apply(print)"
   ]
  },
  {
   "cell_type": "code",
   "execution_count": null,
   "metadata": {
    "collapsed": true,
    "deletable": true,
    "editable": true
   },
   "outputs": [],
   "source": []
  }
 ],
 "metadata": {
  "kernelspec": {
   "display_name": "Python 3",
   "language": "python",
   "name": "python3"
  },
  "language_info": {
   "codemirror_mode": {
    "name": "ipython",
    "version": 3
   },
   "file_extension": ".py",
   "mimetype": "text/x-python",
   "name": "python",
   "nbconvert_exporter": "python",
   "pygments_lexer": "ipython3",
   "version": "3.5.2+"
  }
 },
 "nbformat": 4,
 "nbformat_minor": 2
}
