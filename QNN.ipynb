{
 "cells": [
  {
   "cell_type": "code",
   "execution_count": 1,
   "metadata": {
    "collapsed": false
   },
   "outputs": [],
   "source": [
    "import tensorflow as tf\n",
    "import numpy as np\n",
    "\n",
    "# Create 1000 phony x, y data points in NumPy, y = 1 + 5x + 4x^2\n",
    "x_data = np.random.rand(1000).astype(np.float32)\n",
    "y_data = 1 + 5 * x_data + 4 * x_data * x_data"
   ]
  },
  {
   "cell_type": "code",
   "execution_count": 2,
   "metadata": {
    "collapsed": false
   },
   "outputs": [
    {
     "data": {
      "image/png": "[encoded data removed]",
      "text/plain": [
       "<matplotlib.figure.Figure at 0x1046b3128>"
      ]
     },
     "metadata": {},
     "output_type": "display_data"
    }
   ],
   "source": [
    "import matplotlib.pyplot as plt\n",
    "plt.plot(x_data, y_data, 'ro')\n",
    "plt.show()"
   ]
  },
  {
   "cell_type": "code",
   "execution_count": 3,
   "metadata": {
    "collapsed": false
   },
   "outputs": [
    {
     "name": "stdout",
     "output_type": "stream",
     "text": [
      "[[ 1.      ]\n",
      " [ 0.905011]]\n",
      "[ 8.80123425]\n"
     ]
    }
   ],
   "source": [
    "x_feed = np.array([x_data], np.float32)\n",
    "x_feed = np.insert(x_feed, 0, 1, axis=0)\n",
    "#x_feed = np.transpose(x_feed)\n",
    "print(x_feed[:,[1]])\n",
    "print(y_data[[1]])"
   ]
  },
  {
   "cell_type": "code",
   "execution_count": 4,
   "metadata": {
    "collapsed": false
   },
   "outputs": [],
   "source": [
    "# Try to find values for W that compute y_data = (x_data, 1)^T * W * (x_data, 1)\n",
    "# Correct W is [1,2; 3,4]\n",
    "W = tf.Variable(tf.random_uniform([2, 2], -1.0, 1.0))\n",
    "x = tf.placeholder(np.float32, shape=[2, 1], name=\"x\")\n",
    "y = tf.placeholder(np.float32, shape=[1], name=\"y\")\n",
    "\n",
    "output = tf.matmul(tf.matmul(x, W, transpose_a=True), x)\n",
    "\n",
    "# Minimize the mean squared errors.\n",
    "loss = tf.reduce_sum(tf.square(output - y))\n",
    "optimizer = tf.train.GradientDescentOptimizer(0.5).minimize(loss)\n",
    "\n",
    "# Before starting, initialize the variables.  We will 'run' this first.\n",
    "init = tf.global_variables_initializer()\n"
   ]
  },
  {
   "cell_type": "code",
   "execution_count": 5,
   "metadata": {
    "collapsed": false
   },
   "outputs": [
    {
     "name": "stdout",
     "output_type": "stream",
     "text": [
      "0 [[ 8.25365448  5.87604046]\n",
      " [ 6.72672653  5.43104458]]\n",
      "100 [[ 0.05505311  4.07889175]\n",
      " [ 4.9295783   0.13045552]]\n",
      "200 [[-1.84037733  2.67596364]\n",
      " [ 3.52664733 -0.46062624]]\n",
      "300 [[ 0.0844233   4.16632938]\n",
      " [ 5.01701355 -0.19144945]]\n",
      "400 [[ 0.20812476  3.42997646]\n",
      " [ 4.28066015  1.23336279]]\n",
      "500 [[ 1.48470461  3.36232495]\n",
      " [ 4.21300697  1.97671795]]\n",
      "600 [[ 1.2903446   3.15180588]\n",
      " [ 4.00248814  2.69987392]]\n",
      "700 [[ 0.67628527  2.957937  ]\n",
      " [ 3.80861688  2.37653971]]\n",
      "800 [[-8.48167992 -4.78708267]\n",
      " [-3.93640137 -8.86123276]]\n",
      "900 [[-1.88137317  3.16215897]\n",
      " [ 4.01283932  1.13470757]]\n"
     ]
    }
   ],
   "source": [
    "# Launch the graph.\n",
    "sess = tf.Session()\n",
    "sess.run(init)\n",
    "\n",
    "# Fit the line.\n",
    "for step in range(1000):\n",
    "    sess.run(optimizer, feed_dict={ x: x_feed[:,[step%1000]], y: y_data[[step%1000]] })\n",
    "    if step % 100 == 0:\n",
    "        print(step, sess.run(W))\n",
    "        #print(sess.run(loss, feed_dict={x: x_feed, y: y_data}))"
   ]
  },
  {
   "cell_type": "code",
   "execution_count": null,
   "metadata": {
    "collapsed": false
   },
   "outputs": [],
   "source": [
    "x = np.array([1,0.27802682])\n",
    "W = np.array([[ 3.36288142,   9.30607605],[ 10.19880104,  -2.37231898]])\n",
    "\n",
    "print(x)\n",
    "print(W)\n",
    "\n",
    "print(np.matmul(np.matmul(np.transpose(x), W), x))"
   ]
  },
  {
   "cell_type": "code",
   "execution_count": null,
   "metadata": {
    "collapsed": false
   },
   "outputs": [],
   "source": [
    "y_prime = np.matmul(np.matmul(np.transpose(x_feed), W), x_feed)\n",
    "\n",
    "print(y_prime)\n",
    "\n",
    "plt.plot(x_data, y_prime, 'ro')\n",
    "plt.show()"
   ]
  },
  {
   "cell_type": "code",
   "execution_count": null,
   "metadata": {
    "collapsed": true
   },
   "outputs": [],
   "source": []
  }
 ],
 "metadata": {
  "kernelspec": {
   "display_name": "Python 3",
   "language": "python",
   "name": "python3"
  },
  "language_info": {
   "codemirror_mode": {
    "name": "ipython",
    "version": 3
   },
   "file_extension": ".py",
   "mimetype": "text/x-python",
   "name": "python",
   "nbconvert_exporter": "python",
   "pygments_lexer": "ipython3",
   "version": "3.5.2"
  }
 },
 "nbformat": 4,
 "nbformat_minor": 2
}
