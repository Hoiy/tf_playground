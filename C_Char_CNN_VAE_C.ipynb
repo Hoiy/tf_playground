{
 "cells": [
  {
   "cell_type": "markdown",
   "metadata": {},
   "source": [
    "# Character Level CNN Variational Autoencoder"
   ]
  },
  {
   "cell_type": "code",
   "execution_count": 1,
   "metadata": {},
   "outputs": [
    {
     "name": "stderr",
     "output_type": "stream",
     "text": [
      "Using TensorFlow backend.\n"
     ]
    }
   ],
   "source": [
    "import Corpus.gutenberg as corpus\n",
    "from TextPreprocess.Tokenizer.Stanford import tokenize\n",
    "from Utils.visual import hist, tally\n",
    "from Utils.debug import dump\n",
    "from Utils.generator import sliding_window, random_window, transform\n",
    "from Utils.FS.file import save, load\n",
    "from Utils.keras import compact_embedding\n",
    "from Utils.misc import batch\n",
    "from Utils.indexer import build_index\n",
    "from keras.preprocessing.sequence import pad_sequences"
   ]
  },
  {
   "cell_type": "code",
   "execution_count": 2,
   "metadata": {},
   "outputs": [],
   "source": [
    "data = tokenize(corpus.raw())"
   ]
  },
  {
   "cell_type": "code",
   "execution_count": 3,
   "metadata": {},
   "outputs": [],
   "source": [
    "from collections import Counter\n",
    "\n",
    "def generator():\n",
    "    for word in data:\n",
    "        for char in word:\n",
    "            yield char\n",
    "\n",
    "s2i, i2s, size = build_index(generator())"
   ]
  },
  {
   "cell_type": "code",
   "execution_count": 4,
   "metadata": {},
   "outputs": [
    {
     "data": {
      "text/plain": [
       "48"
      ]
     },
     "execution_count": 4,
     "metadata": {},
     "output_type": "execute_result"
    }
   ],
   "source": [
    "MAX_SEQ_LENGTH = max([len(word) for word in data])\n",
    "MAX_SEQ_LENGTH = 10"
   ]
  },
  {
   "cell_type": "code",
   "execution_count": 5,
   "metadata": {},
   "outputs": [
    {
     "data": {
      "text/plain": [
       "87"
      ]
     },
     "execution_count": 5,
     "metadata": {},
     "output_type": "execute_result"
    }
   ],
   "source": [
    "NUM_SYMBOL = size\n",
    "NUM_SYMBOL"
   ]
  },
  {
   "cell_type": "code",
   "execution_count": 17,
   "metadata": {},
   "outputs": [
    {
     "data": {
      "text/plain": [
       "array([[ 0,  0,  0, ...,  0,  0,  0],\n",
       "       [ 0,  0,  0, ...,  0,  0,  1],\n",
       "       [ 0,  0,  0, ...,  0,  0,  2],\n",
       "       ..., \n",
       "       [ 0,  0,  0, ...,  0,  0, 34],\n",
       "       [ 0,  0,  0, ...,  0,  0,  8],\n",
       "       [ 0,  0,  0, ...,  0,  0, 45]], dtype=int32)"
      ]
     },
     "execution_count": 17,
     "metadata": {},
     "output_type": "execute_result"
    }
   ],
   "source": [
    "X_train_unpad = [batch(s2i, w) for w in generator()]\n",
    "X_train = pad_sequences(X_train_unpad, maxlen=MAX_SEQ_LENGTH, dtype='int32',\n",
    "    padding='pre', truncating='pre', value=0)\n",
    "\n",
    "X_train"
   ]
  },
  {
   "cell_type": "code",
   "execution_count": null,
   "metadata": {
    "collapsed": true
   },
   "outputs": [],
   "source": [
    "from keras.layers import Input, Convolution1D, MaxPooling1D, Dense, Flatten, Dropout, Embedding,BatchNormalization\n",
    "from keras.models import Model, Sequential\n",
    "from keras.regularizers import l2\n",
    "\n",
    "def create_baseline(dropout=0, branching=5):\n",
    "    \n",
    "    sequence_input = Input(shape=(MAX_SEQ_LENGTH, NUM_SYMBOL), dtype='int32')\n",
    "    \n",
    "    #print(embedded_sequences)\n",
    "    x = Convolution1D(300, 3, activation='selu')(sequence_input)\n",
    "    x = Convolution1D(10, 3, activation='selu')(x)\n",
    "    #x = Convolution1D(300, branching)(x)\n",
    "    #x = Convolution1D(300, branching)(x)\n",
    "    #x = Convolution1D(300, branching)(x)\n",
    "    #x = Convolution1D(300, branching)(x)\n",
    "    #x = Convolution1D(300, branching)(x)\n",
    "    #x = Convolution1D(300, branching)(x)\n",
    "    \n",
    "    #x = MaxPooling1D()(x)\n",
    "    #x = Dropout(dropout)(x)\n",
    "    \n",
    "    \"\"\"\n",
    "    x = Convolution1D(800, 2, activation='relu')(x)\n",
    "    x = MaxPooling1D()(x)\n",
    "    x = Dropout(dropout)(x)\n",
    "    \"\"\"\n",
    "    \n",
    "    x = Flatten()(embedded_sequences)\n",
    "    \n",
    "    \"\"\"\n",
    "    x = Dense(3000, activation='tanh')(x)\n",
    "    x = BatchNormalization()(x)\n",
    "    x = Dropout(dropout)(x)\n",
    "    \n",
    "    x = Dense(1500, activation='tanh')(x)\n",
    "    x = BatchNormalization()(x)\n",
    "    x = Dropout(dropout)(x)\n",
    "    \"\"\"\n",
    "    \n",
    "    x = Dense(10, activation='selu')(x)\n",
    "    #x = BatchNormalization()(x)\n",
    "    #x = Dropout(dropout)(x)\n",
    "    \n",
    "    #x = Dense(10, activation='selu')(x)\n",
    "    #x = BatchNormalization()(x)\n",
    "    #x = Dropout(dropout)(x)\n",
    "    \n",
    "    preds = Dense(1, activation='sigmoid')(x)\n",
    "    model = Model(sequence_input, preds)\n",
    "    model.compile(loss='binary_crossentropy',\n",
    "              optimizer='adam',\n",
    "              metrics=['binary_accuracy'])\n",
    "    return model"
   ]
  },
  {
   "cell_type": "code",
   "execution_count": null,
   "metadata": {},
   "outputs": [],
   "source": [
    "from keras_tqdm import TQDMNotebookCallback\n",
    "\n",
    "BATCH_SIZE = 1024\n",
    "DROPOUT = 0.5\n",
    "BRANCHING = 2\n",
    "\n",
    "model = create_baseline(DROPOUT, BRANCHING)\n",
    "model.fit(\n",
    "    x = X_train,\n",
    "    y = y,\n",
    "    batch_size=1, \n",
    "    epochs=200,\n",
    "    #validation_split=0.2,\n",
    "    shuffle=True\n",
    "    #class_weight=class_weight\n",
    "    #verbose=0, callbacks=[TQDMNotebookCallback()]\n",
    ")"
   ]
  }
 ],
 "metadata": {
  "kernelspec": {
   "display_name": "Python 3",
   "language": "python",
   "name": "python3"
  },
  "language_info": {
   "codemirror_mode": {
    "name": "ipython",
    "version": 3
   },
   "file_extension": ".py",
   "mimetype": "text/x-python",
   "name": "python",
   "nbconvert_exporter": "python",
   "pygments_lexer": "ipython3",
   "version": "3.5.2"
  }
 },
 "nbformat": 4,
 "nbformat_minor": 2
}
